{
 "cells": [
  {
   "cell_type": "code",
   "execution_count": 1,
   "id": "ea894f18",
   "metadata": {},
   "outputs": [],
   "source": [
    "import numpy as np\n",
    "import pandas as pd"
   ]
  },
  {
   "cell_type": "markdown",
   "id": "d8e2459c",
   "metadata": {},
   "source": [
    "# SERIES"
   ]
  },
  {
   "cell_type": "code",
   "execution_count": 2,
   "id": "93f2c516",
   "metadata": {},
   "outputs": [],
   "source": [
    "lst = [ 5 ,9 ,11, -1, 4 ]\n",
    "nar = np.array([ 5 ,9 ,11, -1, 4 ])"
   ]
  },
  {
   "cell_type": "code",
   "execution_count": 3,
   "id": "3f37369c",
   "metadata": {},
   "outputs": [
    {
     "name": "stdout",
     "output_type": "stream",
     "text": [
      "[5, 9, 11, -1, 4]\n",
      "[ 5  9 11 -1  4]\n"
     ]
    }
   ],
   "source": [
    "print(lst)\n",
    "print(nar)"
   ]
  },
  {
   "cell_type": "code",
   "execution_count": 4,
   "id": "0cf206cc",
   "metadata": {},
   "outputs": [],
   "source": [
    "ser1 = pd.Series([5, 9, 11, -1, 4])"
   ]
  },
  {
   "cell_type": "code",
   "execution_count": 5,
   "id": "abd1442f",
   "metadata": {},
   "outputs": [
    {
     "name": "stdout",
     "output_type": "stream",
     "text": [
      "0     5\n",
      "1     9\n",
      "2    11\n",
      "3    -1\n",
      "4     4\n",
      "dtype: int64\n"
     ]
    }
   ],
   "source": [
    "print(ser1)"
   ]
  },
  {
   "cell_type": "code",
   "execution_count": 6,
   "id": "8508c562",
   "metadata": {},
   "outputs": [
    {
     "name": "stdout",
     "output_type": "stream",
     "text": [
      "[ 5  9 11 -1  4]\n"
     ]
    }
   ],
   "source": [
    "print(ser1.values)"
   ]
  },
  {
   "cell_type": "code",
   "execution_count": 7,
   "id": "c21eb2ea",
   "metadata": {},
   "outputs": [
    {
     "name": "stdout",
     "output_type": "stream",
     "text": [
      "RangeIndex(start=0, stop=5, step=1)\n"
     ]
    }
   ],
   "source": [
    "print(ser1.index)"
   ]
  },
  {
   "cell_type": "code",
   "execution_count": 8,
   "id": "d87989d4",
   "metadata": {},
   "outputs": [
    {
     "name": "stdout",
     "output_type": "stream",
     "text": [
      "11\n"
     ]
    }
   ],
   "source": [
    "print(ser1[2])"
   ]
  },
  {
   "cell_type": "code",
   "execution_count": 9,
   "id": "1ce19a44",
   "metadata": {},
   "outputs": [
    {
     "name": "stdout",
     "output_type": "stream",
     "text": [
      "11\n"
     ]
    }
   ],
   "source": [
    "print(nar[2])"
   ]
  },
  {
   "cell_type": "code",
   "execution_count": 10,
   "id": "3331c7a3",
   "metadata": {},
   "outputs": [],
   "source": [
    "ser2 = pd.Series([5, 9, 11, -1, 4], \n",
    "                  index = ['a','b','c','d','a'])"
   ]
  },
  {
   "cell_type": "code",
   "execution_count": 11,
   "id": "35228343",
   "metadata": {},
   "outputs": [
    {
     "name": "stdout",
     "output_type": "stream",
     "text": [
      "a     5\n",
      "b     9\n",
      "c    11\n",
      "d    -1\n",
      "a     4\n",
      "dtype: int64\n"
     ]
    }
   ],
   "source": [
    "print(ser2)\n"
   ]
  },
  {
   "cell_type": "code",
   "execution_count": 12,
   "id": "0898e50e",
   "metadata": {},
   "outputs": [
    {
     "name": "stdout",
     "output_type": "stream",
     "text": [
      "a    5\n",
      "a    4\n",
      "dtype: int64\n"
     ]
    }
   ],
   "source": [
    "print(ser2['a'])"
   ]
  },
  {
   "cell_type": "code",
   "execution_count": 13,
   "id": "8a2207d3",
   "metadata": {},
   "outputs": [
    {
     "name": "stdout",
     "output_type": "stream",
     "text": [
      "0     5\n",
      "1     9\n",
      "2    11\n",
      "3    -1\n",
      "4     4\n",
      "dtype: int64\n"
     ]
    }
   ],
   "source": [
    "print(ser1)"
   ]
  },
  {
   "cell_type": "code",
   "execution_count": 14,
   "id": "925f9dc0",
   "metadata": {},
   "outputs": [],
   "source": [
    "ser1.index = ['a','b','c','d','a']\n"
   ]
  },
  {
   "cell_type": "code",
   "execution_count": 15,
   "id": "21b8e9bf",
   "metadata": {},
   "outputs": [
    {
     "name": "stdout",
     "output_type": "stream",
     "text": [
      "a     5\n",
      "b     9\n",
      "c    11\n",
      "d    -1\n",
      "a     4\n",
      "dtype: int64\n"
     ]
    }
   ],
   "source": [
    "print(ser1)"
   ]
  },
  {
   "cell_type": "code",
   "execution_count": 16,
   "id": "178150d0",
   "metadata": {},
   "outputs": [],
   "source": [
    "idx = pd.Index(['a','b','c','d','a'])\n",
    "ser3 = pd.Series( [5, 9, 11, -1, 4], index = idx)\n"
   ]
  },
  {
   "cell_type": "code",
   "execution_count": 17,
   "id": "aa354b36",
   "metadata": {},
   "outputs": [
    {
     "name": "stdout",
     "output_type": "stream",
     "text": [
      "a     5\n",
      "b     9\n",
      "c    11\n",
      "d    -1\n",
      "a     4\n",
      "dtype: int64\n"
     ]
    }
   ],
   "source": [
    "print(ser3)"
   ]
  },
  {
   "cell_type": "code",
   "execution_count": 18,
   "id": "d50dbecc",
   "metadata": {},
   "outputs": [
    {
     "name": "stdout",
     "output_type": "stream",
     "text": [
      "a     5\n",
      "b     9\n",
      "c    11\n",
      "d    -1\n",
      "a     4\n",
      "Name: First series, dtype: int64\n"
     ]
    }
   ],
   "source": [
    "ser1.name = \"First series\"\n",
    "print(ser1)"
   ]
  },
  {
   "cell_type": "code",
   "execution_count": 19,
   "id": "0c4606e2",
   "metadata": {},
   "outputs": [
    {
     "name": "stdout",
     "output_type": "stream",
     "text": [
      "Characters\n",
      "a     5\n",
      "b     9\n",
      "c    11\n",
      "d    -1\n",
      "a     4\n",
      "Name: First series, dtype: int64\n"
     ]
    }
   ],
   "source": [
    "ser1.index.name = \"Characters\"\n",
    "print(ser1)"
   ]
  },
  {
   "cell_type": "code",
   "execution_count": 20,
   "id": "683be34c",
   "metadata": {},
   "outputs": [
    {
     "name": "stdout",
     "output_type": "stream",
     "text": [
      "a     5.0\n",
      "b     9.0\n",
      "c    11.0\n",
      "d    -1.0\n",
      "a     4.0\n",
      "dtype: float64\n"
     ]
    }
   ],
   "source": [
    "ser4 = pd.Series([5, 9, 11, -1, 4], \n",
    "                  index = ['a','b','c','d','a'], dtype=float)\n",
    "print(ser4)"
   ]
  },
  {
   "cell_type": "code",
   "execution_count": 21,
   "id": "957a97a4",
   "metadata": {},
   "outputs": [
    {
     "name": "stdout",
     "output_type": "stream",
     "text": [
      "[  7   5   4   1 -11]\n",
      "int32\n"
     ]
    }
   ],
   "source": [
    "nda = np.array([7,5,4,1,-11])\n",
    "print(nda)\n",
    "print(nda.dtype)"
   ]
  },
  {
   "cell_type": "code",
   "execution_count": 22,
   "id": "496e15da",
   "metadata": {},
   "outputs": [
    {
     "name": "stdout",
     "output_type": "stream",
     "text": [
      "0     7\n",
      "1     5\n",
      "2     4\n",
      "3     1\n",
      "4   -11\n",
      "dtype: int32\n"
     ]
    }
   ],
   "source": [
    "ser5 = pd.Series(nda)\n",
    "print(ser5)"
   ]
  },
  {
   "cell_type": "code",
   "execution_count": 23,
   "id": "4802ffab",
   "metadata": {},
   "outputs": [
    {
     "name": "stdout",
     "output_type": "stream",
     "text": [
      "0     7\n",
      "1     5\n",
      "2     4\n",
      "3     1\n",
      "4   -11\n",
      "dtype: int64\n"
     ]
    }
   ],
   "source": [
    "ser5 = pd.Series(nda, dtype=np.int64)\n",
    "print(ser5)"
   ]
  },
  {
   "cell_type": "code",
   "execution_count": 24,
   "id": "be7d1f9a",
   "metadata": {},
   "outputs": [
    {
     "name": "stdout",
     "output_type": "stream",
     "text": [
      "0    1.272876\n",
      "1   -0.969692\n",
      "2    0.052589\n",
      "3    0.000660\n",
      "4   -1.187554\n",
      "dtype: float64\n"
     ]
    }
   ],
   "source": [
    "ser6 = pd.Series(np.random.randn(5))\n",
    "print(ser6)"
   ]
  },
  {
   "cell_type": "code",
   "execution_count": 25,
   "id": "e5c3738c",
   "metadata": {},
   "outputs": [
    {
     "name": "stdout",
     "output_type": "stream",
     "text": [
      "0    1\n",
      "1    2\n",
      "2    3\n",
      "3    4\n",
      "4    5\n",
      "dtype: int32\n"
     ]
    }
   ],
   "source": [
    "ser7 = pd.Series(np.arange(1,6))\n",
    "print(ser7)"
   ]
  },
  {
   "cell_type": "code",
   "execution_count": 26,
   "id": "de48306b",
   "metadata": {},
   "outputs": [
    {
     "name": "stdout",
     "output_type": "stream",
     "text": [
      "0    0.0\n",
      "1    0.0\n",
      "2    0.0\n",
      "3    0.0\n",
      "dtype: float64\n"
     ]
    }
   ],
   "source": [
    "ser8 = pd.Series(np.zeros(4))\n",
    "print(ser8)"
   ]
  },
  {
   "cell_type": "code",
   "execution_count": 27,
   "id": "cd815f79",
   "metadata": {},
   "outputs": [
    {
     "name": "stdout",
     "output_type": "stream",
     "text": [
      "0    4\n",
      "dtype: int64\n"
     ]
    }
   ],
   "source": [
    "ser9 = pd.Series(4)\n",
    "print(ser9)"
   ]
  },
  {
   "cell_type": "code",
   "execution_count": 28,
   "id": "1f2c0fe5",
   "metadata": {},
   "outputs": [
    {
     "name": "stdout",
     "output_type": "stream",
     "text": [
      "a    4\n",
      "b    4\n",
      "c    4\n",
      "d    4\n",
      "dtype: int64\n"
     ]
    }
   ],
   "source": [
    "ser9 = pd.Series(4, index= ['a','b','c','d'])\n",
    "print(ser9)"
   ]
  },
  {
   "cell_type": "code",
   "execution_count": 29,
   "id": "13b15c55",
   "metadata": {},
   "outputs": [
    {
     "name": "stdout",
     "output_type": "stream",
     "text": [
      "a    12\n",
      "b    -1\n",
      "c     7\n",
      "d     3\n",
      "dtype: int64\n"
     ]
    }
   ],
   "source": [
    "d = { 'a': 12, 'b': -1, 'c': 7, 'd': 3 }\n",
    "ser10 = pd.Series(d)\n",
    "print(ser10)"
   ]
  },
  {
   "cell_type": "code",
   "execution_count": 30,
   "id": "7cf10f1c",
   "metadata": {},
   "outputs": [
    {
     "name": "stdout",
     "output_type": "stream",
     "text": [
      "a    12\n",
      "b    -1\n",
      "c     7\n",
      "dtype: int64\n"
     ]
    }
   ],
   "source": [
    "idx = pd.Index(['a','b','c'])\n",
    "d = { 'a': 12, 'b': -1, 'c': 7, 'd': 3 }\n",
    "ser12 = pd.Series(d, idx)\n",
    "print(ser12)"
   ]
  },
  {
   "cell_type": "code",
   "execution_count": 31,
   "id": "83fcf65f",
   "metadata": {},
   "outputs": [
    {
     "name": "stdout",
     "output_type": "stream",
     "text": [
      "a    12.0\n",
      "b    -1.0\n",
      "e     NaN\n",
      "dtype: float64\n"
     ]
    }
   ],
   "source": [
    "idx = pd.Index(['a','b','e'])\n",
    "d = { 'a': 12, 'b': -1, 'c': 7, 'd': 3 }\n",
    "ser12 = pd.Series(d, idx)\n",
    "print(ser12)"
   ]
  },
  {
   "cell_type": "code",
   "execution_count": 32,
   "id": "b836cc9c",
   "metadata": {},
   "outputs": [],
   "source": [
    "t = [('a',5),('b',2),('c',-3)] #list of tuples\n",
    "idx, values = zip(*t)"
   ]
  },
  {
   "cell_type": "code",
   "execution_count": 33,
   "id": "659bd737",
   "metadata": {},
   "outputs": [
    {
     "name": "stdout",
     "output_type": "stream",
     "text": [
      "a    5\n",
      "b    2\n",
      "c   -3\n",
      "dtype: int64\n"
     ]
    }
   ],
   "source": [
    "ser11 = pd.Series(values, idx)\n",
    "print(ser11)"
   ]
  },
  {
   "cell_type": "code",
   "execution_count": 34,
   "id": "7b23f802",
   "metadata": {},
   "outputs": [
    {
     "name": "stdout",
     "output_type": "stream",
     "text": [
      "a    2\n",
      "b    4\n",
      "c    3\n",
      "dtype: int64\n"
     ]
    }
   ],
   "source": [
    "t = [['a',2],['b',4],['c',3]]\n",
    "idx, values = zip(*t)\n",
    "ser12 = pd.Series(values, idx)\n",
    "print(ser12)"
   ]
  },
  {
   "cell_type": "markdown",
   "id": "780c11d3",
   "metadata": {},
   "source": [
    "# DATAFRAME"
   ]
  },
  {
   "cell_type": "code",
   "execution_count": 35,
   "id": "2fbe3251",
   "metadata": {},
   "outputs": [
    {
     "name": "stdout",
     "output_type": "stream",
     "text": [
      "   0  1  2\n",
      "0  1  2  3\n",
      "1  4  5  6\n",
      "2  7  8  9\n"
     ]
    }
   ],
   "source": [
    "df1 = pd.DataFrame([[1, 2, 3], [4, 5, 6] ,[7, 8, 9]])\n",
    "print(df1)"
   ]
  },
  {
   "cell_type": "code",
   "execution_count": 36,
   "id": "c5ba466b",
   "metadata": {},
   "outputs": [
    {
     "name": "stdout",
     "output_type": "stream",
     "text": [
      "   A  B  C\n",
      "a  1  2  3\n",
      "b  4  5  6\n",
      "c  7  8  9\n"
     ]
    }
   ],
   "source": [
    "df1 = pd.DataFrame([[1, 2, 3], [4, 5, 6] ,[7, 8, 9]],\n",
    "                   index = ['a','b','c'],\n",
    "                   columns = ['A','B','C'])\n",
    "print(df1)"
   ]
  },
  {
   "cell_type": "code",
   "execution_count": 37,
   "id": "452dc605",
   "metadata": {},
   "outputs": [
    {
     "data": {
      "text/plain": [
       "Index(['a', 'b', 'c'], dtype='object')"
      ]
     },
     "execution_count": 37,
     "metadata": {},
     "output_type": "execute_result"
    }
   ],
   "source": [
    "df1.index"
   ]
  },
  {
   "cell_type": "code",
   "execution_count": 38,
   "id": "dac2ad8d",
   "metadata": {},
   "outputs": [
    {
     "data": {
      "text/plain": [
       "Index(['A', 'B', 'C'], dtype='object')"
      ]
     },
     "execution_count": 38,
     "metadata": {},
     "output_type": "execute_result"
    }
   ],
   "source": [
    "df1.columns"
   ]
  },
  {
   "cell_type": "code",
   "execution_count": 39,
   "id": "8da48a44",
   "metadata": {
    "scrolled": true
   },
   "outputs": [
    {
     "name": "stdout",
     "output_type": "stream",
     "text": [
      "[[1 2 3]\n",
      " [4 5 6]\n",
      " [7 8 9]]\n"
     ]
    },
    {
     "data": {
      "text/plain": [
       "numpy.ndarray"
      ]
     },
     "execution_count": 39,
     "metadata": {},
     "output_type": "execute_result"
    }
   ],
   "source": [
    "v = df1.values\n",
    "print(v)\n",
    "type(v)"
   ]
  },
  {
   "cell_type": "code",
   "execution_count": 40,
   "id": "e7582d10",
   "metadata": {},
   "outputs": [
    {
     "name": "stdout",
     "output_type": "stream",
     "text": [
      "     A    B    C\n",
      "a  1.0  2.0  3.0\n",
      "b  4.0  5.0  6.0\n",
      "c  7.0  8.0  9.0\n"
     ]
    }
   ],
   "source": [
    "df1 = pd.DataFrame([[1, 2, 3], [4, 5, 6] ,[7, 8, 9]],\n",
    "                   index = ['a','b','c'],\n",
    "                   columns = ['A','B','C'],\n",
    "                   dtype= np.float64) \n",
    "print(df1)"
   ]
  },
  {
   "cell_type": "code",
   "execution_count": 41,
   "id": "9caa02af",
   "metadata": {},
   "outputs": [
    {
     "name": "stdout",
     "output_type": "stream",
     "text": [
      "   A  B  C\n",
      "a  1  2  3\n",
      "b  4  5  6\n",
      "c  7  8  9\n"
     ]
    }
   ],
   "source": [
    "nda = np.array([[1, 2, 3], [4, 5, 6] ,[7, 8, 9]])\n",
    "df2 = pd.DataFrame(nda, index = ['a','b','c'], columns = ['A','B','C'])\n",
    "print(df2)"
   ]
  },
  {
   "cell_type": "code",
   "execution_count": 42,
   "id": "49274042",
   "metadata": {},
   "outputs": [
    {
     "name": "stdout",
     "output_type": "stream",
     "text": [
      "[[1 2 3]\n",
      " [4 0 6]\n",
      " [7 8 9]]\n"
     ]
    }
   ],
   "source": [
    "nda[1] = [4,0,6]\n",
    "print(nda)"
   ]
  },
  {
   "cell_type": "code",
   "execution_count": 43,
   "id": "cd541a63",
   "metadata": {},
   "outputs": [
    {
     "name": "stdout",
     "output_type": "stream",
     "text": [
      "   A  B  C\n",
      "a  1  2  3\n",
      "b  4  0  6\n",
      "c  7  8  9\n"
     ]
    }
   ],
   "source": [
    "print(df2)"
   ]
  },
  {
   "cell_type": "code",
   "execution_count": 44,
   "id": "edab6518",
   "metadata": {},
   "outputs": [
    {
     "name": "stdout",
     "output_type": "stream",
     "text": [
      "   A  B  C\n",
      "a  1  2  3\n",
      "b  4  5  6\n",
      "c  7  8  9\n"
     ]
    }
   ],
   "source": [
    "nda = np.array([[1, 2, 3], [4, 5, 6] ,[7, 8, 9]])\n",
    "df2 = pd.DataFrame(nda, index = ['a','b','c'], columns = ['A','B','C'], copy=True)\n",
    "print(df2)"
   ]
  },
  {
   "cell_type": "code",
   "execution_count": 45,
   "id": "f6a70487",
   "metadata": {},
   "outputs": [
    {
     "name": "stdout",
     "output_type": "stream",
     "text": [
      "[[1 2 3]\n",
      " [4 0 6]\n",
      " [7 8 9]]\n"
     ]
    }
   ],
   "source": [
    "nda[1] = [4,0,6]\n",
    "print(nda)"
   ]
  },
  {
   "cell_type": "code",
   "execution_count": 46,
   "id": "196cb9e3",
   "metadata": {},
   "outputs": [
    {
     "name": "stdout",
     "output_type": "stream",
     "text": [
      "   A  B  C\n",
      "a  1  2  3\n",
      "b  4  5  6\n",
      "c  7  8  9\n"
     ]
    }
   ],
   "source": [
    "print(df2)"
   ]
  },
  {
   "cell_type": "code",
   "execution_count": 47,
   "id": "e4c5a085",
   "metadata": {},
   "outputs": [
    {
     "name": "stdout",
     "output_type": "stream",
     "text": [
      "A    1\n",
      "B    2\n",
      "C    3\n",
      "Name: a, dtype: int32\n",
      "a    2\n",
      "b    5\n",
      "c    8\n",
      "Name: B, dtype: int32\n"
     ]
    }
   ],
   "source": [
    "print(df2.iloc[0]) #select first row\n",
    "print(df2.iloc[:,1]) #select second column"
   ]
  },
  {
   "cell_type": "code",
   "execution_count": 48,
   "id": "c79d5e00",
   "metadata": {},
   "outputs": [
    {
     "name": "stdout",
     "output_type": "stream",
     "text": [
      "2\n"
     ]
    }
   ],
   "source": [
    "print(df2.loc['a','B'])"
   ]
  },
  {
   "cell_type": "code",
   "execution_count": 49,
   "id": "b781cf27",
   "metadata": {},
   "outputs": [
    {
     "name": "stdout",
     "output_type": "stream",
     "text": [
      "A    1\n",
      "B    2\n",
      "C    3\n",
      "Name: a, dtype: int32\n",
      "a    2\n",
      "b    5\n",
      "c    8\n",
      "Name: B, dtype: int32\n"
     ]
    }
   ],
   "source": [
    "print(df2.loc['a']) #select first row\n",
    "print(df2.loc[:,'B']) #select second column"
   ]
  },
  {
   "cell_type": "code",
   "execution_count": 50,
   "id": "f04cd5ce",
   "metadata": {},
   "outputs": [
    {
     "name": "stdout",
     "output_type": "stream",
     "text": [
      "   A  B  C\n",
      "a  1  2  3\n",
      "b  4  5  6\n",
      "c  7  8  9\n"
     ]
    }
   ],
   "source": [
    "idx = np.array(['a','b','c'])\n",
    "col = np.array(['A','B','C'])\n",
    "nda = np.array([[1, 2, 3], [4, 5, 6] ,[7, 8, 9]])\n",
    "df3 = pd.DataFrame(nda, index=idx, columns=col)\n",
    "print(df3)"
   ]
  },
  {
   "cell_type": "code",
   "execution_count": 51,
   "id": "cc16aa75",
   "metadata": {},
   "outputs": [
    {
     "name": "stdout",
     "output_type": "stream",
     "text": [
      "   A  B  C\n",
      "a  1  2  3\n",
      "b  4  5  6\n",
      "c  7  8  9\n"
     ]
    }
   ],
   "source": [
    "df3 = pd.DataFrame(np.arange(1,10).reshape(3,3), index=idx, columns=col)\n",
    "print(df3)"
   ]
  },
  {
   "cell_type": "code",
   "execution_count": 52,
   "id": "bb7875e5",
   "metadata": {},
   "outputs": [
    {
     "name": "stdout",
     "output_type": "stream",
     "text": [
      "     A    B    C\n",
      "a  0.0  0.0  0.0\n",
      "b  0.0  0.0  0.0\n",
      "c  0.0  0.0  0.0\n"
     ]
    }
   ],
   "source": [
    "df4 = pd.DataFrame(np.zeros(9).reshape(3,3), index=idx, columns=col)\n",
    "print(df4)"
   ]
  },
  {
   "cell_type": "code",
   "execution_count": 53,
   "id": "da48fd65",
   "metadata": {},
   "outputs": [
    {
     "name": "stdout",
     "output_type": "stream",
     "text": [
      "          A         B         C\n",
      "a -0.257407  0.540600  0.054101\n",
      "b  0.000532 -1.524626  0.663370\n",
      "c -0.397774 -0.466908 -1.670560\n"
     ]
    }
   ],
   "source": [
    "df5 = pd.DataFrame(np.random.randn(9).reshape(3,3), index=idx, columns=col)\n",
    "print(df5)"
   ]
  },
  {
   "cell_type": "code",
   "execution_count": 54,
   "id": "dc4174a0",
   "metadata": {},
   "outputs": [],
   "source": [
    "ser1 = pd.Series([1,4,7], index=['a','b','c'])\n",
    "ser2 = pd.Series([2,5,8], index=['a','b','c'])\n",
    "ser3 = pd.Series([3,6,9], index=['a','b','c'])\n",
    "d = { \"A\" : ser1,\n",
    "      \"B\" : ser2, \n",
    "      \"C\" : ser3}"
   ]
  },
  {
   "cell_type": "code",
   "execution_count": 55,
   "id": "225ad542",
   "metadata": {},
   "outputs": [
    {
     "name": "stdout",
     "output_type": "stream",
     "text": [
      "   A  B  C\n",
      "a  1  2  3\n",
      "b  4  5  6\n",
      "c  7  8  9\n"
     ]
    }
   ],
   "source": [
    "df6 = pd.DataFrame(d)\n",
    "print(df6)"
   ]
  },
  {
   "cell_type": "code",
   "execution_count": 56,
   "id": "184d4492",
   "metadata": {},
   "outputs": [
    {
     "name": "stdout",
     "output_type": "stream",
     "text": [
      "     A    B    C\n",
      "a  1.0  NaN  3.0\n",
      "b  4.0  5.0  6.0\n",
      "c  7.0  8.0  9.0\n",
      "d  NaN  2.0  0.0\n",
      "e -3.0  NaN  NaN\n",
      "f -1.0  NaN  NaN\n"
     ]
    }
   ],
   "source": [
    "ser1 = pd.Series([1,4,7,-3,-1], index=['a','b','c','e','f'])\n",
    "ser2 = pd.Series([2,5,8], index=['d','b','c'])\n",
    "ser3 = pd.Series([3,6,9,0], index=['a','b','c','d'])\n",
    "d = { \"A\" : ser1,\n",
    "      \"B\" : ser2, \n",
    "      \"C\" : ser3}\n",
    "df7 = pd.DataFrame(d)\n",
    "print(df7)"
   ]
  },
  {
   "cell_type": "code",
   "execution_count": 57,
   "id": "fa78254b",
   "metadata": {},
   "outputs": [
    {
     "name": "stdout",
     "output_type": "stream",
     "text": [
      "   A    B  C\n",
      "a  1  NaN  3\n",
      "b  4  5.0  6\n",
      "c  7  8.0  9\n"
     ]
    }
   ],
   "source": [
    "df7 = pd.DataFrame(d, index=['a','b','c'])\n",
    "print(df7)"
   ]
  },
  {
   "cell_type": "code",
   "execution_count": 58,
   "id": "f84de4f0",
   "metadata": {},
   "outputs": [
    {
     "name": "stdout",
     "output_type": "stream",
     "text": [
      "   A  B  C\n",
      "a  1  2  3\n",
      "b  4  5  6\n",
      "c  7  8  9\n"
     ]
    }
   ],
   "source": [
    "nda1 = np.array([1,4,7]) \n",
    "nda2 = np.array([2,5,8])\n",
    "nda3 = np.array([3,6,9])\n",
    "idx = np.array(['a','b','c'])\n",
    "d = { \"A\" : nda1,\n",
    "      \"B\" : nda2, \n",
    "      \"C\" : nda3}\n",
    "df8 = pd.DataFrame(d, idx)\n",
    "print(df8)"
   ]
  },
  {
   "cell_type": "code",
   "execution_count": 59,
   "id": "ed40ef8b",
   "metadata": {},
   "outputs": [
    {
     "name": "stdout",
     "output_type": "stream",
     "text": [
      "[(1., 2, 3) (4., 5, 6) (7., 8, 9)]\n"
     ]
    }
   ],
   "source": [
    "str_array = np.array([(1, 2, 3), (4, 5, 6), (7, 8, 9)],\n",
    "                   dtype=[('A', '<f8'), ('B', '<i8'),('C','i4')])\n",
    "print(str_array)"
   ]
  },
  {
   "cell_type": "code",
   "execution_count": 60,
   "id": "ae6d6536",
   "metadata": {},
   "outputs": [
    {
     "name": "stdout",
     "output_type": "stream",
     "text": [
      "[1. 4. 7.]\n",
      "(4., 5, 6)\n"
     ]
    }
   ],
   "source": [
    "print(str_array['A'])\n",
    "print(str_array[1])"
   ]
  },
  {
   "cell_type": "code",
   "execution_count": 61,
   "id": "f2e1567c",
   "metadata": {},
   "outputs": [
    {
     "name": "stdout",
     "output_type": "stream",
     "text": [
      "     A  B  C\n",
      "0  1.0  2  3\n",
      "1  4.0  5  6\n",
      "2  7.0  8  9\n"
     ]
    }
   ],
   "source": [
    "df9 = pd.DataFrame(str_array)\n",
    "print(df9)"
   ]
  },
  {
   "cell_type": "code",
   "execution_count": 62,
   "id": "277290ec",
   "metadata": {},
   "outputs": [
    {
     "name": "stdout",
     "output_type": "stream",
     "text": [
      "     A  B  C\n",
      "a  1.0  2  3\n",
      "b  4.0  5  6\n",
      "c  7.0  8  9\n"
     ]
    }
   ],
   "source": [
    "df9 = pd.DataFrame(str_array, index=['a','b','c'])\n",
    "print(df9)"
   ]
  },
  {
   "cell_type": "code",
   "execution_count": 63,
   "id": "7775c3f8",
   "metadata": {},
   "outputs": [
    {
     "name": "stdout",
     "output_type": "stream",
     "text": [
      "[(1., 2, 3) (4., 5, 6) (7., 8, 9)]\n"
     ]
    }
   ],
   "source": [
    "rec_array = np.rec.array([(1, 2, 3), (4, 5, 6), (7, 8, 9)],\n",
    "                        dtype=[('A', '<f8'), ('B', '<i8'),('C','i4')])\n",
    "print(rec_array)"
   ]
  },
  {
   "cell_type": "code",
   "execution_count": 64,
   "id": "98baeb6e",
   "metadata": {},
   "outputs": [
    {
     "name": "stdout",
     "output_type": "stream",
     "text": [
      "[1. 4. 7.]\n"
     ]
    }
   ],
   "source": [
    "print(rec_array.A)"
   ]
  },
  {
   "cell_type": "code",
   "execution_count": 65,
   "id": "5b174440",
   "metadata": {},
   "outputs": [
    {
     "name": "stdout",
     "output_type": "stream",
     "text": [
      "     A  B  C\n",
      "a  1.0  2  3\n",
      "b  4.0  5  6\n",
      "c  7.0  8  9\n"
     ]
    }
   ],
   "source": [
    "df10 = pd.DataFrame(rec_array, index=['a','b','c'])\n",
    "print(df10)"
   ]
  },
  {
   "cell_type": "code",
   "execution_count": 66,
   "id": "7b29a375",
   "metadata": {},
   "outputs": [
    {
     "name": "stdout",
     "output_type": "stream",
     "text": [
      "[{'A': 1, 'B': 2, 'C': 3}, {'A': 4, 'B': 5, 'C': 6}, {'A': 7, 'B': 8, 'C': 9}]\n"
     ]
    }
   ],
   "source": [
    "list_dicts = [{ 'A': 1, 'B': 2, 'C': 3},\n",
    "              { 'A': 4, 'B': 5, 'C': 6},\n",
    "              { 'A': 7, 'B': 8, 'C': 9},]\n",
    "print(list_dicts)"
   ]
  },
  {
   "cell_type": "code",
   "execution_count": 67,
   "id": "8b700fd8",
   "metadata": {},
   "outputs": [
    {
     "name": "stdout",
     "output_type": "stream",
     "text": [
      "   A  B  C\n",
      "a  1  2  3\n",
      "b  4  5  6\n",
      "c  7  8  9\n"
     ]
    }
   ],
   "source": [
    "df11 = pd.DataFrame(list_dicts, index=['a','b','c'])\n",
    "print(df11)"
   ]
  },
  {
   "cell_type": "code",
   "execution_count": 68,
   "id": "5266202e",
   "metadata": {},
   "outputs": [],
   "source": [
    "from dataclasses import make_dataclass"
   ]
  },
  {
   "cell_type": "code",
   "execution_count": 69,
   "id": "a9e0bad7",
   "metadata": {},
   "outputs": [
    {
     "name": "stdout",
     "output_type": "stream",
     "text": [
      "   A  B  C\n",
      "a  1  2  3\n",
      "b  4  5  6\n",
      "c  7  8  9\n"
     ]
    }
   ],
   "source": [
    "Dataset = make_dataclass(\"Dataset\", [('A', int),('B', int),('C', int)])\n",
    "df12 = pd.DataFrame([Dataset(1,2,3), Dataset(4,5,6), Dataset(7,8,9)], index=['a','b','c'])\n",
    "print(df12)"
   ]
  },
  {
   "cell_type": "code",
   "execution_count": 70,
   "id": "6330b9d3",
   "metadata": {},
   "outputs": [],
   "source": [
    "from collections import namedtuple"
   ]
  },
  {
   "cell_type": "code",
   "execution_count": 71,
   "id": "ae35c321",
   "metadata": {},
   "outputs": [
    {
     "name": "stdout",
     "output_type": "stream",
     "text": [
      "   A  B  C\n",
      "a  1  2  3\n",
      "b  4  5  6\n",
      "c  7  8  9\n"
     ]
    }
   ],
   "source": [
    "Dataset = namedtuple('Dataset', 'A B C')\n",
    "df13 = pd.DataFrame([Dataset(1,2,3), Dataset(4,5,6), Dataset(7,8,9)], index=['a','b','c'])\n",
    "print(df13)"
   ]
  },
  {
   "cell_type": "markdown",
   "id": "6e38dd8e",
   "metadata": {},
   "source": [
    " # MultiIndex DataFrame"
   ]
  },
  {
   "cell_type": "code",
   "execution_count": 72,
   "id": "b33fbb5e",
   "metadata": {},
   "outputs": [],
   "source": [
    "dict_tuples = { ('X', 'A'): {('x','a'): 1, ('x','b'): 4, ('x','c'): 7, ('y','d'): 0, ('y','e'): 0 },\n",
    "                ('X', 'B'): {('x','a'): 2, ('x','b'): 5, ('x','c'): 8, ('y','d'): 0, ('y','e'): 0 },\n",
    "                ('X', 'C'): {('x','a'): 3, ('x','b'): 6, ('x','c'): 9, ('y','d'): 0, ('y','e'): 0 },\n",
    "                ('Y', 'D'): {('x','a'): -1, ('x','b'): -3, ('x','c'): -5},\n",
    "                ('Y', 'E'): {('x','a'): -2, ('x','b'): -4, ('x','c'): -6}\n",
    "              }"
   ]
  },
  {
   "cell_type": "code",
   "execution_count": 73,
   "id": "d202609b",
   "metadata": {},
   "outputs": [
    {
     "name": "stdout",
     "output_type": "stream",
     "text": [
      "     X          Y     \n",
      "     A  B  C    D    E\n",
      "x a  1  2  3 -1.0 -2.0\n",
      "  b  4  5  6 -3.0 -4.0\n",
      "  c  7  8  9 -5.0 -6.0\n",
      "y d  0  0  0  NaN  NaN\n",
      "  e  0  0  0  NaN  NaN\n"
     ]
    }
   ],
   "source": [
    "multidf = pd.DataFrame(dict_tuples)\n",
    "print(multidf)"
   ]
  },
  {
   "cell_type": "code",
   "execution_count": 74,
   "id": "5f3dfb21",
   "metadata": {},
   "outputs": [
    {
     "name": "stdout",
     "output_type": "stream",
     "text": [
      "   A  B  C\n",
      "a  1  2  3\n",
      "b  4  5  6\n",
      "c  7  8  9\n"
     ]
    }
   ],
   "source": [
    "print(multidf['X'].loc['x'])"
   ]
  },
  {
   "cell_type": "code",
   "execution_count": 75,
   "id": "d4152814",
   "metadata": {},
   "outputs": [
    {
     "name": "stdout",
     "output_type": "stream",
     "text": [
      "x  a    1\n",
      "   b    4\n",
      "   c    7\n",
      "y  d    0\n",
      "   e    0\n",
      "Name: A, dtype: int64\n"
     ]
    }
   ],
   "source": [
    "print(multidf['X']['A'])"
   ]
  },
  {
   "cell_type": "code",
   "execution_count": 76,
   "id": "de4643f3",
   "metadata": {},
   "outputs": [
    {
     "name": "stdout",
     "output_type": "stream",
     "text": [
      "MultiIndex([('X', 'A'),\n",
      "            ('X', 'B'),\n",
      "            ('X', 'C'),\n",
      "            ('Y', 'D'),\n",
      "            ('Y', 'E')],\n",
      "           )\n",
      "MultiIndex([('x', 'a'),\n",
      "            ('x', 'b'),\n",
      "            ('x', 'c'),\n",
      "            ('y', 'd'),\n",
      "            ('y', 'e')],\n",
      "           )\n"
     ]
    }
   ],
   "source": [
    "print(multidf.columns)\n",
    "print(multidf.index)"
   ]
  },
  {
   "cell_type": "code",
   "execution_count": 77,
   "id": "4e67f52b",
   "metadata": {},
   "outputs": [
    {
     "name": "stdout",
     "output_type": "stream",
     "text": [
      "[['X', 'Y'], ['A', 'B', 'C', 'D', 'E']]\n",
      "[['x', 'y'], ['a', 'b', 'c', 'd', 'e']]\n"
     ]
    }
   ],
   "source": [
    "print(multidf.columns.levels)\n",
    "print(multidf.index.levels)"
   ]
  },
  {
   "cell_type": "code",
   "execution_count": 78,
   "id": "1287c857",
   "metadata": {},
   "outputs": [
    {
     "name": "stdout",
     "output_type": "stream",
     "text": [
      "   A  B  C\n",
      "a  1  2  3\n",
      "b  4  5  6\n",
      "c  7  8  9\n",
      "None\n"
     ]
    }
   ],
   "source": [
    "dfn = print(multidf['X'].loc['x'])\n",
    "print(dfn)"
   ]
  },
  {
   "cell_type": "code",
   "execution_count": null,
   "id": "8709a1e2",
   "metadata": {},
   "outputs": [],
   "source": []
  }
 ],
 "metadata": {
  "kernelspec": {
   "display_name": "Python 3",
   "language": "python",
   "name": "python3"
  },
  "language_info": {
   "codemirror_mode": {
    "name": "ipython",
    "version": 3
   },
   "file_extension": ".py",
   "mimetype": "text/x-python",
   "name": "python",
   "nbconvert_exporter": "python",
   "pygments_lexer": "ipython3",
   "version": "3.9.6"
  }
 },
 "nbformat": 4,
 "nbformat_minor": 5
}
