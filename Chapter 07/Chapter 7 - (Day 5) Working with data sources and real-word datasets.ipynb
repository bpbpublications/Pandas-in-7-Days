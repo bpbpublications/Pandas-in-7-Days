{
 "cells": [
  {
   "cell_type": "code",
   "execution_count": 1,
   "id": "f3dca018",
   "metadata": {},
   "outputs": [],
   "source": [
    "import numpy as np\n",
    "import pandas as pd"
   ]
  },
  {
   "cell_type": "markdown",
   "id": "d2babb18",
   "metadata": {},
   "source": [
    "# Read and Write CSV Files"
   ]
  },
  {
   "cell_type": "code",
   "execution_count": 2,
   "id": "9ef890c6",
   "metadata": {},
   "outputs": [],
   "source": [
    "df = pd.read_csv('books.csv')"
   ]
  },
  {
   "cell_type": "code",
   "execution_count": 3,
   "id": "f436d4d5",
   "metadata": {},
   "outputs": [
    {
     "name": "stdout",
     "output_type": "stream",
     "text": [
      "        ID                   Title          Author PublicationDate\n",
      "0  001276A  The Rise of the Falcon    John Admiral     25-Apr-2018\n",
      "1  023125B         Controlled mind   Robert Greens     28-Aug-2016\n",
      "2  005556E       Only love remains  Greta Blooming     17-Feb-2015\n"
     ]
    }
   ],
   "source": [
    "print(df)"
   ]
  },
  {
   "cell_type": "code",
   "execution_count": 8,
   "id": "0f44507f",
   "metadata": {},
   "outputs": [],
   "source": [
    "df = pd.read_table('books2.csv', sep=';')"
   ]
  },
  {
   "cell_type": "code",
   "execution_count": 9,
   "id": "e99c7bfc",
   "metadata": {},
   "outputs": [
    {
     "name": "stdout",
     "output_type": "stream",
     "text": [
      "        ID                   Title          Author PublicationDate\n",
      "0  001276A  The Rise of the Falcon    John Admiral     25-Apr-2018\n",
      "1  023125B         Controlled mind   Robert Greens     28-Aug-2016\n",
      "2  005556E       Only love remains  Greta Blooming     17-Feb-2015\n"
     ]
    }
   ],
   "source": [
    "print(df)"
   ]
  },
  {
   "cell_type": "code",
   "execution_count": 18,
   "id": "35f3fca0",
   "metadata": {},
   "outputs": [
    {
     "data": {
      "text/html": [
       "<div>\n",
       "<style scoped>\n",
       "    .dataframe tbody tr th:only-of-type {\n",
       "        vertical-align: middle;\n",
       "    }\n",
       "\n",
       "    .dataframe tbody tr th {\n",
       "        vertical-align: top;\n",
       "    }\n",
       "\n",
       "    .dataframe thead th {\n",
       "        text-align: right;\n",
       "    }\n",
       "</style>\n",
       "<table border=\"1\" class=\"dataframe\">\n",
       "  <thead>\n",
       "    <tr style=\"text-align: right;\">\n",
       "      <th></th>\n",
       "      <th>ID</th>\n",
       "      <th>Title</th>\n",
       "      <th>Author</th>\n",
       "      <th>PublicationDate</th>\n",
       "    </tr>\n",
       "  </thead>\n",
       "  <tbody>\n",
       "    <tr>\n",
       "      <th>0</th>\n",
       "      <td>001276A</td>\n",
       "      <td>The Rise of the Falcon</td>\n",
       "      <td>John Admiral</td>\n",
       "      <td>25-Apr-2018</td>\n",
       "    </tr>\n",
       "    <tr>\n",
       "      <th>1</th>\n",
       "      <td>023125B</td>\n",
       "      <td>Controlled mind</td>\n",
       "      <td>Robert Greens</td>\n",
       "      <td>28-Aug-2016</td>\n",
       "    </tr>\n",
       "  </tbody>\n",
       "</table>\n",
       "</div>"
      ],
      "text/plain": [
       "        ID                   Title         Author PublicationDate\n",
       "0  001276A  The Rise of the Falcon   John Admiral     25-Apr-2018\n",
       "1  023125B         Controlled mind  Robert Greens     28-Aug-2016"
      ]
     },
     "execution_count": 18,
     "metadata": {},
     "output_type": "execute_result"
    }
   ],
   "source": [
    "pd.read_csv('books.csv', nrows=2)"
   ]
  },
  {
   "cell_type": "code",
   "execution_count": 283,
   "id": "f823ea67",
   "metadata": {},
   "outputs": [],
   "source": [
    "df.to_csv('books_saved.csv')"
   ]
  },
  {
   "cell_type": "code",
   "execution_count": 5,
   "id": "b58dc07e",
   "metadata": {},
   "outputs": [
    {
     "name": "stdout",
     "output_type": "stream",
     "text": [
      ",ID,Title,Author,PublicationDate\r\n",
      "0,001276A,The Rise of the Falcon,John Admiral,25-Apr-2018\r\n",
      "1,023125B,Controlled mind,Robert Greens,28-Aug-2016\r\n",
      "2,005556E,Only love remains,Greta Blooming,17-Feb-2015\r\n"
     ]
    }
   ],
   "source": [
    "import sys\n",
    "df.to_csv(sys.stdout)"
   ]
  },
  {
   "cell_type": "code",
   "execution_count": 6,
   "id": "8ab508ab",
   "metadata": {},
   "outputs": [
    {
     "name": "stdout",
     "output_type": "stream",
     "text": [
      "001276A,The Rise of the Falcon,John Admiral,25-Apr-2018\r\n",
      "023125B,Controlled mind,Robert Greens,28-Aug-2016\r\n",
      "005556E,Only love remains,Greta Blooming,17-Feb-2015\r\n"
     ]
    }
   ],
   "source": [
    "df.to_csv(sys.stdout, index=False, header=False)"
   ]
  },
  {
   "cell_type": "code",
   "execution_count": 8,
   "id": "fa947ef3",
   "metadata": {},
   "outputs": [
    {
     "name": "stdout",
     "output_type": "stream",
     "text": [
      "Title,Author\r\n",
      "The Rise of the Falcon,John Admiral\r\n",
      "Controlled mind,Robert Greens\r\n",
      "Only love remains,Greta Blooming\r\n"
     ]
    }
   ],
   "source": [
    "df.to_csv(sys.stdout, columns=['Title','Author'],index=False)"
   ]
  },
  {
   "cell_type": "code",
   "execution_count": 15,
   "id": "989e5023",
   "metadata": {},
   "outputs": [
    {
     "name": "stdout",
     "output_type": "stream",
     "text": [
      ",ID,Title,Author,PublicationDate\r\n",
      "1,023125B,Controlled mind,Robert Greens,28-Aug-2016\r\n",
      "2,005556E,Only love remains,Greta Blooming,17-Feb-2015\r\n"
     ]
    }
   ],
   "source": [
    "df[1:].to_csv(sys.stdout)"
   ]
  },
  {
   "cell_type": "markdown",
   "id": "d50d3ceb",
   "metadata": {},
   "source": [
    "# Read and Write Microsoft Excel Files"
   ]
  },
  {
   "cell_type": "code",
   "execution_count": 3,
   "id": "09761681",
   "metadata": {},
   "outputs": [
    {
     "data": {
      "text/html": [
       "<div>\n",
       "<style scoped>\n",
       "    .dataframe tbody tr th:only-of-type {\n",
       "        vertical-align: middle;\n",
       "    }\n",
       "\n",
       "    .dataframe tbody tr th {\n",
       "        vertical-align: top;\n",
       "    }\n",
       "\n",
       "    .dataframe thead th {\n",
       "        text-align: right;\n",
       "    }\n",
       "</style>\n",
       "<table border=\"1\" class=\"dataframe\">\n",
       "  <thead>\n",
       "    <tr style=\"text-align: right;\">\n",
       "      <th></th>\n",
       "      <th>ID</th>\n",
       "      <th>Title</th>\n",
       "      <th>Author</th>\n",
       "      <th>PublicationDate</th>\n",
       "    </tr>\n",
       "  </thead>\n",
       "  <tbody>\n",
       "    <tr>\n",
       "      <th>0</th>\n",
       "      <td>001276A</td>\n",
       "      <td>The Rise of the Falcon</td>\n",
       "      <td>John Admiral</td>\n",
       "      <td>2018-04-25</td>\n",
       "    </tr>\n",
       "    <tr>\n",
       "      <th>1</th>\n",
       "      <td>023125B</td>\n",
       "      <td>Controlled mind</td>\n",
       "      <td>Robert Greens</td>\n",
       "      <td>2016-08-28</td>\n",
       "    </tr>\n",
       "    <tr>\n",
       "      <th>2</th>\n",
       "      <td>005556E</td>\n",
       "      <td>Only love remains</td>\n",
       "      <td>Greta Blooming</td>\n",
       "      <td>2015-02-17</td>\n",
       "    </tr>\n",
       "  </tbody>\n",
       "</table>\n",
       "</div>"
      ],
      "text/plain": [
       "          ID                   Title          Author PublicationDate\n",
       "0    001276A  The Rise of the Falcon    John Admiral      2018-04-25\n",
       "1   023125B          Controlled mind   Robert Greens      2016-08-28\n",
       "2    005556E       Only love remains  Greta Blooming      2015-02-17"
      ]
     },
     "execution_count": 3,
     "metadata": {},
     "output_type": "execute_result"
    }
   ],
   "source": [
    "xlssource = pd.ExcelFile('books.xlsx')\n",
    "df = pd.read_excel(xlssource, 'Sheet1')\n",
    "df"
   ]
  },
  {
   "cell_type": "code",
   "execution_count": 5,
   "id": "ebcb428e",
   "metadata": {},
   "outputs": [],
   "source": [
    "XLSWriter = pd.ExcelWriter('newbooks.xlsx')"
   ]
  },
  {
   "cell_type": "code",
   "execution_count": 6,
   "id": "cad96f93",
   "metadata": {},
   "outputs": [],
   "source": [
    "df.to_excel(XLSWriter, 'Sheet1')"
   ]
  },
  {
   "cell_type": "code",
   "execution_count": 7,
   "id": "0d7ce49f",
   "metadata": {},
   "outputs": [],
   "source": [
    "XLSWriter.save()"
   ]
  },
  {
   "cell_type": "markdown",
   "id": "d8b9787b",
   "metadata": {},
   "source": [
    "# Read data from HTML pages on the web"
   ]
  },
  {
   "cell_type": "code",
   "execution_count": 34,
   "id": "f900d801",
   "metadata": {},
   "outputs": [],
   "source": [
    "url = 'https://en.wikipedia.org/wiki/Rome'\n",
    "dfs = pd.read_html(url)"
   ]
  },
  {
   "cell_type": "code",
   "execution_count": 35,
   "id": "04f69e90",
   "metadata": {},
   "outputs": [
    {
     "data": {
      "text/plain": [
       "48"
      ]
     },
     "execution_count": 35,
     "metadata": {},
     "output_type": "execute_result"
    }
   ],
   "source": [
    "len(dfs)"
   ]
  },
  {
   "cell_type": "code",
   "execution_count": 40,
   "id": "ce137c2a",
   "metadata": {},
   "outputs": [
    {
     "data": {
      "text/plain": [
       "1"
      ]
     },
     "execution_count": 40,
     "metadata": {},
     "output_type": "execute_result"
    }
   ],
   "source": [
    "dfs = pd.read_html(url, match='Climate data')\n",
    "len(dfs)"
   ]
  },
  {
   "cell_type": "code",
   "execution_count": 42,
   "id": "288b7910",
   "metadata": {},
   "outputs": [
    {
     "data": {
      "text/html": [
       "<div>\n",
       "<style scoped>\n",
       "    .dataframe tbody tr th:only-of-type {\n",
       "        vertical-align: middle;\n",
       "    }\n",
       "\n",
       "    .dataframe tbody tr th {\n",
       "        vertical-align: top;\n",
       "    }\n",
       "\n",
       "    .dataframe thead tr th {\n",
       "        text-align: left;\n",
       "    }\n",
       "</style>\n",
       "<table border=\"1\" class=\"dataframe\">\n",
       "  <thead>\n",
       "    <tr>\n",
       "      <th></th>\n",
       "      <th colspan=\"14\" halign=\"left\">Climate data for Rome Urbe Airport (altitude: 24 m sl, 7 km north from Colosseum satellite view)</th>\n",
       "    </tr>\n",
       "    <tr>\n",
       "      <th></th>\n",
       "      <th>Month</th>\n",
       "      <th>Jan</th>\n",
       "      <th>Feb</th>\n",
       "      <th>Mar</th>\n",
       "      <th>Apr</th>\n",
       "      <th>May</th>\n",
       "      <th>Jun</th>\n",
       "      <th>Jul</th>\n",
       "      <th>Aug</th>\n",
       "      <th>Sep</th>\n",
       "      <th>Oct</th>\n",
       "      <th>Nov</th>\n",
       "      <th>Dec</th>\n",
       "      <th>Year</th>\n",
       "    </tr>\n",
       "  </thead>\n",
       "  <tbody>\n",
       "    <tr>\n",
       "      <th>0</th>\n",
       "      <td>Record high °C (°F)</td>\n",
       "      <td>20.2(68.4)</td>\n",
       "      <td>23.6(74.5)</td>\n",
       "      <td>27.0(80.6)</td>\n",
       "      <td>28.3(82.9)</td>\n",
       "      <td>33.1(91.6)</td>\n",
       "      <td>36.8(98.2)</td>\n",
       "      <td>40.0(104.0)</td>\n",
       "      <td>39.6(103.3)</td>\n",
       "      <td>37.6(99.7)</td>\n",
       "      <td>31.4(88.5)</td>\n",
       "      <td>26.0(78.8)</td>\n",
       "      <td>22.8(73.0)</td>\n",
       "      <td>40.0(104.0)</td>\n",
       "    </tr>\n",
       "    <tr>\n",
       "      <th>1</th>\n",
       "      <td>Average high °C (°F)</td>\n",
       "      <td>12.6(54.7)</td>\n",
       "      <td>14.0(57.2)</td>\n",
       "      <td>16.5(61.7)</td>\n",
       "      <td>18.9(66.0)</td>\n",
       "      <td>23.9(75.0)</td>\n",
       "      <td>28.1(82.6)</td>\n",
       "      <td>31.5(88.7)</td>\n",
       "      <td>31.7(89.1)</td>\n",
       "      <td>27.5(81.5)</td>\n",
       "      <td>22.4(72.3)</td>\n",
       "      <td>16.5(61.7)</td>\n",
       "      <td>13.2(55.8)</td>\n",
       "      <td>21.4(70.5)</td>\n",
       "    </tr>\n",
       "    <tr>\n",
       "      <th>2</th>\n",
       "      <td>Daily mean °C (°F)</td>\n",
       "      <td>7.4(45.3)</td>\n",
       "      <td>8.4(47.1)</td>\n",
       "      <td>10.4(50.7)</td>\n",
       "      <td>12.9(55.2)</td>\n",
       "      <td>17.3(63.1)</td>\n",
       "      <td>21.2(70.2)</td>\n",
       "      <td>24.2(75.6)</td>\n",
       "      <td>24.5(76.1)</td>\n",
       "      <td>20.9(69.6)</td>\n",
       "      <td>16.4(61.5)</td>\n",
       "      <td>11.2(52.2)</td>\n",
       "      <td>8.2(46.8)</td>\n",
       "      <td>15.3(59.5)</td>\n",
       "    </tr>\n",
       "    <tr>\n",
       "      <th>3</th>\n",
       "      <td>Average low °C (°F)</td>\n",
       "      <td>2.1(35.8)</td>\n",
       "      <td>2.7(36.9)</td>\n",
       "      <td>4.3(39.7)</td>\n",
       "      <td>6.8(44.2)</td>\n",
       "      <td>10.8(51.4)</td>\n",
       "      <td>14.3(57.7)</td>\n",
       "      <td>16.9(62.4)</td>\n",
       "      <td>17.3(63.1)</td>\n",
       "      <td>14.3(57.7)</td>\n",
       "      <td>10.5(50.9)</td>\n",
       "      <td>5.8(42.4)</td>\n",
       "      <td>3.1(37.6)</td>\n",
       "      <td>9.1(48.4)</td>\n",
       "    </tr>\n",
       "    <tr>\n",
       "      <th>4</th>\n",
       "      <td>Record low °C (°F)</td>\n",
       "      <td>−9.8(14.4)</td>\n",
       "      <td>−6.0(21.2)</td>\n",
       "      <td>−9.0(15.8)</td>\n",
       "      <td>−2.5(27.5)</td>\n",
       "      <td>3.7(38.7)</td>\n",
       "      <td>6.2(43.2)</td>\n",
       "      <td>9.8(49.6)</td>\n",
       "      <td>8.6(47.5)</td>\n",
       "      <td>5.4(41.7)</td>\n",
       "      <td>0.0(32.0)</td>\n",
       "      <td>−7.2(19.0)</td>\n",
       "      <td>−5.4(22.3)</td>\n",
       "      <td>−9.8(14.4)</td>\n",
       "    </tr>\n",
       "    <tr>\n",
       "      <th>5</th>\n",
       "      <td>Average precipitation mm (inches)</td>\n",
       "      <td>69.5(2.74)</td>\n",
       "      <td>75.8(2.98)</td>\n",
       "      <td>59.0(2.32)</td>\n",
       "      <td>76.2(3.00)</td>\n",
       "      <td>49.1(1.93)</td>\n",
       "      <td>40.7(1.60)</td>\n",
       "      <td>21.0(0.83)</td>\n",
       "      <td>34.1(1.34)</td>\n",
       "      <td>71.8(2.83)</td>\n",
       "      <td>107.0(4.21)</td>\n",
       "      <td>109.9(4.33)</td>\n",
       "      <td>84.4(3.32)</td>\n",
       "      <td>798.5(31.44)</td>\n",
       "    </tr>\n",
       "    <tr>\n",
       "      <th>6</th>\n",
       "      <td>Average precipitation days (≥ 1 mm)</td>\n",
       "      <td>7.6</td>\n",
       "      <td>7.4</td>\n",
       "      <td>7.8</td>\n",
       "      <td>8.8</td>\n",
       "      <td>5.6</td>\n",
       "      <td>4.1</td>\n",
       "      <td>2.3</td>\n",
       "      <td>3.2</td>\n",
       "      <td>5.6</td>\n",
       "      <td>7.7</td>\n",
       "      <td>9.1</td>\n",
       "      <td>8.5</td>\n",
       "      <td>77.7</td>\n",
       "    </tr>\n",
       "    <tr>\n",
       "      <th>7</th>\n",
       "      <td>Mean monthly sunshine hours</td>\n",
       "      <td>120.9</td>\n",
       "      <td>132.8</td>\n",
       "      <td>167.4</td>\n",
       "      <td>201.0</td>\n",
       "      <td>263.5</td>\n",
       "      <td>285.0</td>\n",
       "      <td>331.7</td>\n",
       "      <td>297.6</td>\n",
       "      <td>237.0</td>\n",
       "      <td>195.3</td>\n",
       "      <td>129.0</td>\n",
       "      <td>111.6</td>\n",
       "      <td>2473</td>\n",
       "    </tr>\n",
       "    <tr>\n",
       "      <th>8</th>\n",
       "      <td>Source: Servizio Meteorologico[79] (1971–2000)</td>\n",
       "      <td>Source: Servizio Meteorologico[79] (1971–2000)</td>\n",
       "      <td>Source: Servizio Meteorologico[79] (1971–2000)</td>\n",
       "      <td>Source: Servizio Meteorologico[79] (1971–2000)</td>\n",
       "      <td>Source: Servizio Meteorologico[79] (1971–2000)</td>\n",
       "      <td>Source: Servizio Meteorologico[79] (1971–2000)</td>\n",
       "      <td>Source: Servizio Meteorologico[79] (1971–2000)</td>\n",
       "      <td>Source: Servizio Meteorologico[79] (1971–2000)</td>\n",
       "      <td>Source: Servizio Meteorologico[79] (1971–2000)</td>\n",
       "      <td>Source: Servizio Meteorologico[79] (1971–2000)</td>\n",
       "      <td>Source: Servizio Meteorologico[79] (1971–2000)</td>\n",
       "      <td>Source: Servizio Meteorologico[79] (1971–2000)</td>\n",
       "      <td>Source: Servizio Meteorologico[79] (1971–2000)</td>\n",
       "      <td>Source: Servizio Meteorologico[79] (1971–2000)</td>\n",
       "    </tr>\n",
       "  </tbody>\n",
       "</table>\n",
       "</div>"
      ],
      "text/plain": [
       "  Climate data for Rome Urbe Airport (altitude: 24 m sl, 7 km north from Colosseum satellite view)  \\\n",
       "                                                                                             Month   \n",
       "0                                Record high °C (°F)                                                 \n",
       "1                               Average high °C (°F)                                                 \n",
       "2                                 Daily mean °C (°F)                                                 \n",
       "3                                Average low °C (°F)                                                 \n",
       "4                                 Record low °C (°F)                                                 \n",
       "5                  Average precipitation mm (inches)                                                 \n",
       "6                Average precipitation days (≥ 1 mm)                                                 \n",
       "7                        Mean monthly sunshine hours                                                 \n",
       "8     Source: Servizio Meteorologico[79] (1971–2000)                                                 \n",
       "\n",
       "                                                   \\\n",
       "                                              Jan   \n",
       "0                                      20.2(68.4)   \n",
       "1                                      12.6(54.7)   \n",
       "2                                       7.4(45.3)   \n",
       "3                                       2.1(35.8)   \n",
       "4                                      −9.8(14.4)   \n",
       "5                                      69.5(2.74)   \n",
       "6                                             7.6   \n",
       "7                                           120.9   \n",
       "8  Source: Servizio Meteorologico[79] (1971–2000)   \n",
       "\n",
       "                                                   \\\n",
       "                                              Feb   \n",
       "0                                      23.6(74.5)   \n",
       "1                                      14.0(57.2)   \n",
       "2                                       8.4(47.1)   \n",
       "3                                       2.7(36.9)   \n",
       "4                                      −6.0(21.2)   \n",
       "5                                      75.8(2.98)   \n",
       "6                                             7.4   \n",
       "7                                           132.8   \n",
       "8  Source: Servizio Meteorologico[79] (1971–2000)   \n",
       "\n",
       "                                                   \\\n",
       "                                              Mar   \n",
       "0                                      27.0(80.6)   \n",
       "1                                      16.5(61.7)   \n",
       "2                                      10.4(50.7)   \n",
       "3                                       4.3(39.7)   \n",
       "4                                      −9.0(15.8)   \n",
       "5                                      59.0(2.32)   \n",
       "6                                             7.8   \n",
       "7                                           167.4   \n",
       "8  Source: Servizio Meteorologico[79] (1971–2000)   \n",
       "\n",
       "                                                   \\\n",
       "                                              Apr   \n",
       "0                                      28.3(82.9)   \n",
       "1                                      18.9(66.0)   \n",
       "2                                      12.9(55.2)   \n",
       "3                                       6.8(44.2)   \n",
       "4                                      −2.5(27.5)   \n",
       "5                                      76.2(3.00)   \n",
       "6                                             8.8   \n",
       "7                                           201.0   \n",
       "8  Source: Servizio Meteorologico[79] (1971–2000)   \n",
       "\n",
       "                                                   \\\n",
       "                                              May   \n",
       "0                                      33.1(91.6)   \n",
       "1                                      23.9(75.0)   \n",
       "2                                      17.3(63.1)   \n",
       "3                                      10.8(51.4)   \n",
       "4                                       3.7(38.7)   \n",
       "5                                      49.1(1.93)   \n",
       "6                                             5.6   \n",
       "7                                           263.5   \n",
       "8  Source: Servizio Meteorologico[79] (1971–2000)   \n",
       "\n",
       "                                                   \\\n",
       "                                              Jun   \n",
       "0                                      36.8(98.2)   \n",
       "1                                      28.1(82.6)   \n",
       "2                                      21.2(70.2)   \n",
       "3                                      14.3(57.7)   \n",
       "4                                       6.2(43.2)   \n",
       "5                                      40.7(1.60)   \n",
       "6                                             4.1   \n",
       "7                                           285.0   \n",
       "8  Source: Servizio Meteorologico[79] (1971–2000)   \n",
       "\n",
       "                                                   \\\n",
       "                                              Jul   \n",
       "0                                     40.0(104.0)   \n",
       "1                                      31.5(88.7)   \n",
       "2                                      24.2(75.6)   \n",
       "3                                      16.9(62.4)   \n",
       "4                                       9.8(49.6)   \n",
       "5                                      21.0(0.83)   \n",
       "6                                             2.3   \n",
       "7                                           331.7   \n",
       "8  Source: Servizio Meteorologico[79] (1971–2000)   \n",
       "\n",
       "                                                   \\\n",
       "                                              Aug   \n",
       "0                                     39.6(103.3)   \n",
       "1                                      31.7(89.1)   \n",
       "2                                      24.5(76.1)   \n",
       "3                                      17.3(63.1)   \n",
       "4                                       8.6(47.5)   \n",
       "5                                      34.1(1.34)   \n",
       "6                                             3.2   \n",
       "7                                           297.6   \n",
       "8  Source: Servizio Meteorologico[79] (1971–2000)   \n",
       "\n",
       "                                                   \\\n",
       "                                              Sep   \n",
       "0                                      37.6(99.7)   \n",
       "1                                      27.5(81.5)   \n",
       "2                                      20.9(69.6)   \n",
       "3                                      14.3(57.7)   \n",
       "4                                       5.4(41.7)   \n",
       "5                                      71.8(2.83)   \n",
       "6                                             5.6   \n",
       "7                                           237.0   \n",
       "8  Source: Servizio Meteorologico[79] (1971–2000)   \n",
       "\n",
       "                                                   \\\n",
       "                                              Oct   \n",
       "0                                      31.4(88.5)   \n",
       "1                                      22.4(72.3)   \n",
       "2                                      16.4(61.5)   \n",
       "3                                      10.5(50.9)   \n",
       "4                                       0.0(32.0)   \n",
       "5                                     107.0(4.21)   \n",
       "6                                             7.7   \n",
       "7                                           195.3   \n",
       "8  Source: Servizio Meteorologico[79] (1971–2000)   \n",
       "\n",
       "                                                   \\\n",
       "                                              Nov   \n",
       "0                                      26.0(78.8)   \n",
       "1                                      16.5(61.7)   \n",
       "2                                      11.2(52.2)   \n",
       "3                                       5.8(42.4)   \n",
       "4                                      −7.2(19.0)   \n",
       "5                                     109.9(4.33)   \n",
       "6                                             9.1   \n",
       "7                                           129.0   \n",
       "8  Source: Servizio Meteorologico[79] (1971–2000)   \n",
       "\n",
       "                                                   \\\n",
       "                                              Dec   \n",
       "0                                      22.8(73.0)   \n",
       "1                                      13.2(55.8)   \n",
       "2                                       8.2(46.8)   \n",
       "3                                       3.1(37.6)   \n",
       "4                                      −5.4(22.3)   \n",
       "5                                      84.4(3.32)   \n",
       "6                                             8.5   \n",
       "7                                           111.6   \n",
       "8  Source: Servizio Meteorologico[79] (1971–2000)   \n",
       "\n",
       "                                                   \n",
       "                                             Year  \n",
       "0                                     40.0(104.0)  \n",
       "1                                      21.4(70.5)  \n",
       "2                                      15.3(59.5)  \n",
       "3                                       9.1(48.4)  \n",
       "4                                      −9.8(14.4)  \n",
       "5                                    798.5(31.44)  \n",
       "6                                            77.7  \n",
       "7                                            2473  \n",
       "8  Source: Servizio Meteorologico[79] (1971–2000)  "
      ]
     },
     "execution_count": 42,
     "metadata": {},
     "output_type": "execute_result"
    }
   ],
   "source": [
    "dfs[0]"
   ]
  },
  {
   "cell_type": "code",
   "execution_count": 44,
   "id": "4f46404a",
   "metadata": {},
   "outputs": [],
   "source": [
    "df = dfs[0]"
   ]
  },
  {
   "cell_type": "code",
   "execution_count": 49,
   "id": "8605e1de",
   "metadata": {},
   "outputs": [
    {
     "data": {
      "text/html": [
       "<div>\n",
       "<style scoped>\n",
       "    .dataframe tbody tr th:only-of-type {\n",
       "        vertical-align: middle;\n",
       "    }\n",
       "\n",
       "    .dataframe tbody tr th {\n",
       "        vertical-align: top;\n",
       "    }\n",
       "\n",
       "    .dataframe thead th {\n",
       "        text-align: right;\n",
       "    }\n",
       "</style>\n",
       "<table border=\"1\" class=\"dataframe\">\n",
       "  <thead>\n",
       "    <tr style=\"text-align: right;\">\n",
       "      <th></th>\n",
       "      <th>ID</th>\n",
       "      <th>Title</th>\n",
       "      <th>Author</th>\n",
       "      <th>PublicationDate</th>\n",
       "    </tr>\n",
       "  </thead>\n",
       "  <tbody>\n",
       "    <tr>\n",
       "      <th>0</th>\n",
       "      <td>001276A</td>\n",
       "      <td>The Rise of the Falcon</td>\n",
       "      <td>John Admiral</td>\n",
       "      <td>25-Apr-2018</td>\n",
       "    </tr>\n",
       "    <tr>\n",
       "      <th>1</th>\n",
       "      <td>023125B</td>\n",
       "      <td>Controlled mind</td>\n",
       "      <td>Robert Greens</td>\n",
       "      <td>28-Aug-2016</td>\n",
       "    </tr>\n",
       "    <tr>\n",
       "      <th>2</th>\n",
       "      <td>005556E</td>\n",
       "      <td>Only love remains</td>\n",
       "      <td>Greta Blooming</td>\n",
       "      <td>17-Feb-2015</td>\n",
       "    </tr>\n",
       "  </tbody>\n",
       "</table>\n",
       "</div>"
      ],
      "text/plain": [
       "        ID                   Title          Author PublicationDate\n",
       "0  001276A  The Rise of the Falcon    John Admiral     25-Apr-2018\n",
       "1  023125B         Controlled mind   Robert Greens     28-Aug-2016\n",
       "2  005556E       Only love remains  Greta Blooming     17-Feb-2015"
      ]
     },
     "execution_count": 49,
     "metadata": {},
     "output_type": "execute_result"
    }
   ],
   "source": [
    "df = pd.read_csv('books.csv')\n",
    "df"
   ]
  },
  {
   "cell_type": "code",
   "execution_count": 56,
   "id": "b160c0c1",
   "metadata": {},
   "outputs": [],
   "source": [
    "df.to_html('books.html')"
   ]
  },
  {
   "cell_type": "markdown",
   "id": "188f9a85",
   "metadata": {},
   "source": [
    "# Read and write data from XML files"
   ]
  },
  {
   "cell_type": "code",
   "execution_count": 25,
   "id": "779a56db",
   "metadata": {},
   "outputs": [],
   "source": [
    "import lxml"
   ]
  },
  {
   "cell_type": "code",
   "execution_count": 29,
   "id": "e0d86033",
   "metadata": {},
   "outputs": [
    {
     "data": {
      "text/html": [
       "<div>\n",
       "<style scoped>\n",
       "    .dataframe tbody tr th:only-of-type {\n",
       "        vertical-align: middle;\n",
       "    }\n",
       "\n",
       "    .dataframe tbody tr th {\n",
       "        vertical-align: top;\n",
       "    }\n",
       "\n",
       "    .dataframe thead th {\n",
       "        text-align: right;\n",
       "    }\n",
       "</style>\n",
       "<table border=\"1\" class=\"dataframe\">\n",
       "  <thead>\n",
       "    <tr style=\"text-align: right;\">\n",
       "      <th></th>\n",
       "      <th>category</th>\n",
       "      <th>title</th>\n",
       "      <th>author</th>\n",
       "      <th>year</th>\n",
       "      <th>country</th>\n",
       "    </tr>\n",
       "  </thead>\n",
       "  <tbody>\n",
       "    <tr>\n",
       "      <th>0</th>\n",
       "      <td>crime</td>\n",
       "      <td>Death on the Nile</td>\n",
       "      <td>Agatha Christie</td>\n",
       "      <td>1937</td>\n",
       "      <td>United Kingdom</td>\n",
       "    </tr>\n",
       "    <tr>\n",
       "      <th>1</th>\n",
       "      <td>crime</td>\n",
       "      <td>The Hound of the Baskervilles</td>\n",
       "      <td>Arthur Conan Doyle</td>\n",
       "      <td>1902</td>\n",
       "      <td>United Kingdom</td>\n",
       "    </tr>\n",
       "    <tr>\n",
       "      <th>2</th>\n",
       "      <td>psichology</td>\n",
       "      <td>Psychology and Alchemy</td>\n",
       "      <td>Carl Gustav Jung</td>\n",
       "      <td>1944</td>\n",
       "      <td>Germany</td>\n",
       "    </tr>\n",
       "    <tr>\n",
       "      <th>3</th>\n",
       "      <td>novel</td>\n",
       "      <td>The Castel</td>\n",
       "      <td>Franz Kafka</td>\n",
       "      <td>1926</td>\n",
       "      <td>Germany</td>\n",
       "    </tr>\n",
       "  </tbody>\n",
       "</table>\n",
       "</div>"
      ],
      "text/plain": [
       "     category                          title              author  year  \\\n",
       "0       crime              Death on the Nile     Agatha Christie  1937   \n",
       "1       crime  The Hound of the Baskervilles  Arthur Conan Doyle  1902   \n",
       "2  psichology         Psychology and Alchemy    Carl Gustav Jung  1944   \n",
       "3       novel                     The Castel         Franz Kafka  1926   \n",
       "\n",
       "          country  \n",
       "0  United Kingdom  \n",
       "1  United Kingdom  \n",
       "2         Germany  \n",
       "3         Germany  "
      ]
     },
     "execution_count": 29,
     "metadata": {},
     "output_type": "execute_result"
    }
   ],
   "source": [
    "df = pd.read_xml('library.xml')\n",
    "df"
   ]
  },
  {
   "cell_type": "code",
   "execution_count": 30,
   "id": "f5f5759b",
   "metadata": {},
   "outputs": [],
   "source": [
    "df2 = pd.read_csv('books.csv')\n",
    "df2.PublicationDate = pd.to_datetime(df2.PublicationDate) \n",
    "df2.to_xml('newbooks.xml')"
   ]
  },
  {
   "cell_type": "code",
   "execution_count": 31,
   "id": "00bd6016",
   "metadata": {},
   "outputs": [
    {
     "data": {
      "text/html": [
       "<div>\n",
       "<style scoped>\n",
       "    .dataframe tbody tr th:only-of-type {\n",
       "        vertical-align: middle;\n",
       "    }\n",
       "\n",
       "    .dataframe tbody tr th {\n",
       "        vertical-align: top;\n",
       "    }\n",
       "\n",
       "    .dataframe thead th {\n",
       "        text-align: right;\n",
       "    }\n",
       "</style>\n",
       "<table border=\"1\" class=\"dataframe\">\n",
       "  <thead>\n",
       "    <tr style=\"text-align: right;\">\n",
       "      <th></th>\n",
       "      <th>index</th>\n",
       "      <th>ID</th>\n",
       "      <th>Title</th>\n",
       "      <th>Author</th>\n",
       "      <th>PublicationDate</th>\n",
       "    </tr>\n",
       "  </thead>\n",
       "  <tbody>\n",
       "    <tr>\n",
       "      <th>0</th>\n",
       "      <td>0</td>\n",
       "      <td>001276A</td>\n",
       "      <td>The Rise of the Falcon</td>\n",
       "      <td>John Admiral</td>\n",
       "      <td>2018-04-25 00:00:00</td>\n",
       "    </tr>\n",
       "    <tr>\n",
       "      <th>1</th>\n",
       "      <td>1</td>\n",
       "      <td>023125B</td>\n",
       "      <td>Controlled mind</td>\n",
       "      <td>Robert Greens</td>\n",
       "      <td>2016-08-28 00:00:00</td>\n",
       "    </tr>\n",
       "    <tr>\n",
       "      <th>2</th>\n",
       "      <td>2</td>\n",
       "      <td>005556E</td>\n",
       "      <td>Only love remains</td>\n",
       "      <td>Greta Blooming</td>\n",
       "      <td>2015-02-17 00:00:00</td>\n",
       "    </tr>\n",
       "  </tbody>\n",
       "</table>\n",
       "</div>"
      ],
      "text/plain": [
       "   index       ID                   Title          Author      PublicationDate\n",
       "0      0  001276A  The Rise of the Falcon    John Admiral  2018-04-25 00:00:00\n",
       "1      1  023125B         Controlled mind   Robert Greens  2016-08-28 00:00:00\n",
       "2      2  005556E       Only love remains  Greta Blooming  2015-02-17 00:00:00"
      ]
     },
     "execution_count": 31,
     "metadata": {},
     "output_type": "execute_result"
    }
   ],
   "source": [
    "pd.read_xml('newbooks.xml')"
   ]
  },
  {
   "cell_type": "code",
   "execution_count": 37,
   "id": "2bde1ec0",
   "metadata": {},
   "outputs": [],
   "source": [
    "xml = \"\"\"<?xml version=\"1.0\" encoding=\"UTF-8\"?>\n",
    "<library>\n",
    "  <floor val='1'>\n",
    "      <book category=\"crime\">\n",
    "        <title>Death on the Nile</title>\n",
    "        <author>Agatha Christie</author>\n",
    "        <year>1937</year>\n",
    "        <country>United Kingdom</country>\n",
    "      </book>\n",
    "      <book category=\"crime\">\n",
    "        <title>The Hound of the Baskervilles</title>\n",
    "        <author>Arthur Conan Doyle</author>\n",
    "        <year>1902</year>\n",
    "        <country>United Kingdom</country>\n",
    "      </book>\n",
    "  </floor>\n",
    "  <floor val='2'>\n",
    "      <book category=\"psichology\">\n",
    "        <title>Psychology and Alchemy</title>\n",
    "        <author>Carl Gustav Jung</author>\n",
    "        <year>1944</year>\n",
    "        <country>Germany</country>\n",
    "      </book>\n",
    "      <book category=\"novel\">\n",
    "        <title>The Castel</title>\n",
    "        <author>Franz Kafka</author>\n",
    "        <year>1926</year>\n",
    "        <country>Germany</country>\n",
    "      </book>\n",
    "  </floor>\n",
    "</library>\n",
    "\"\"\""
   ]
  },
  {
   "cell_type": "code",
   "execution_count": 34,
   "id": "4c785df6",
   "metadata": {},
   "outputs": [
    {
     "data": {
      "text/html": [
       "<div>\n",
       "<style scoped>\n",
       "    .dataframe tbody tr th:only-of-type {\n",
       "        vertical-align: middle;\n",
       "    }\n",
       "\n",
       "    .dataframe tbody tr th {\n",
       "        vertical-align: top;\n",
       "    }\n",
       "\n",
       "    .dataframe thead th {\n",
       "        text-align: right;\n",
       "    }\n",
       "</style>\n",
       "<table border=\"1\" class=\"dataframe\">\n",
       "  <thead>\n",
       "    <tr style=\"text-align: right;\">\n",
       "      <th></th>\n",
       "      <th>val</th>\n",
       "      <th>book</th>\n",
       "    </tr>\n",
       "  </thead>\n",
       "  <tbody>\n",
       "    <tr>\n",
       "      <th>0</th>\n",
       "      <td>1</td>\n",
       "      <td>NaN</td>\n",
       "    </tr>\n",
       "    <tr>\n",
       "      <th>1</th>\n",
       "      <td>2</td>\n",
       "      <td>NaN</td>\n",
       "    </tr>\n",
       "  </tbody>\n",
       "</table>\n",
       "</div>"
      ],
      "text/plain": [
       "   val  book\n",
       "0    1   NaN\n",
       "1    2   NaN"
      ]
     },
     "execution_count": 34,
     "metadata": {},
     "output_type": "execute_result"
    }
   ],
   "source": [
    "pd.read_xml(xml)"
   ]
  },
  {
   "cell_type": "code",
   "execution_count": 82,
   "id": "39e54fec",
   "metadata": {},
   "outputs": [],
   "source": [
    "xsl = \"\"\"<xsl:stylesheet version=\"1.0\" xmlns:xsl=\"http://www.w3.org/1999/XSL/Transform\">\n",
    "   <xsl:output method=\"xml\" omit-xml-declaration=\"no\" indent=\"yes\"/>\n",
    "   <xsl:strip-space elements=\"*\"/>\n",
    "   <xsl:template match=\"/library\">\n",
    "      <xsl:copy>\n",
    "        <xsl:apply-templates select=\"floor\"/>\n",
    "      </xsl:copy>\n",
    "   </xsl:template>\n",
    "   <xsl:template match=\"floor\">\n",
    "      <xsl:apply-templates select=\"book\"/>   \n",
    "   </xsl:template>\n",
    "   <xsl:template match=\"book\">\n",
    "      <xsl:copy>\n",
    "         <category><xsl:value-of select=\"@category\"/></category>\n",
    "         <title><xsl:value-of select=\"title\"/></title>\n",
    "         <author><xsl:value-of select=\"author\"/></author>\n",
    "         <year><xsl:value-of select=\"year\"/></year>\n",
    "         <country><xsl:value-of select=\"country\"/></country>\n",
    "      </xsl:copy>\n",
    "   </xsl:template>\n",
    " </xsl:stylesheet>\n",
    " \"\"\""
   ]
  },
  {
   "cell_type": "code",
   "execution_count": 83,
   "id": "bfbf492e",
   "metadata": {},
   "outputs": [
    {
     "data": {
      "text/html": [
       "<div>\n",
       "<style scoped>\n",
       "    .dataframe tbody tr th:only-of-type {\n",
       "        vertical-align: middle;\n",
       "    }\n",
       "\n",
       "    .dataframe tbody tr th {\n",
       "        vertical-align: top;\n",
       "    }\n",
       "\n",
       "    .dataframe thead th {\n",
       "        text-align: right;\n",
       "    }\n",
       "</style>\n",
       "<table border=\"1\" class=\"dataframe\">\n",
       "  <thead>\n",
       "    <tr style=\"text-align: right;\">\n",
       "      <th></th>\n",
       "      <th>category</th>\n",
       "      <th>title</th>\n",
       "      <th>author</th>\n",
       "      <th>year</th>\n",
       "      <th>country</th>\n",
       "    </tr>\n",
       "  </thead>\n",
       "  <tbody>\n",
       "    <tr>\n",
       "      <th>0</th>\n",
       "      <td>crime</td>\n",
       "      <td>Death on the Nile</td>\n",
       "      <td>Agatha Christie</td>\n",
       "      <td>1937</td>\n",
       "      <td>United Kingdom</td>\n",
       "    </tr>\n",
       "    <tr>\n",
       "      <th>1</th>\n",
       "      <td>crime</td>\n",
       "      <td>The Hound of the Baskervilles</td>\n",
       "      <td>Arthur Conan Doyle</td>\n",
       "      <td>1902</td>\n",
       "      <td>United Kingdom</td>\n",
       "    </tr>\n",
       "    <tr>\n",
       "      <th>2</th>\n",
       "      <td>psichology</td>\n",
       "      <td>Psychology and Alchemy</td>\n",
       "      <td>Carl Gustav Jung</td>\n",
       "      <td>1944</td>\n",
       "      <td>Germany</td>\n",
       "    </tr>\n",
       "    <tr>\n",
       "      <th>3</th>\n",
       "      <td>novel</td>\n",
       "      <td>The Castel</td>\n",
       "      <td>Franz Kafka</td>\n",
       "      <td>1926</td>\n",
       "      <td>Germany</td>\n",
       "    </tr>\n",
       "  </tbody>\n",
       "</table>\n",
       "</div>"
      ],
      "text/plain": [
       "     category                          title              author  year  \\\n",
       "0       crime              Death on the Nile     Agatha Christie  1937   \n",
       "1       crime  The Hound of the Baskervilles  Arthur Conan Doyle  1902   \n",
       "2  psichology         Psychology and Alchemy    Carl Gustav Jung  1944   \n",
       "3       novel                     The Castel         Franz Kafka  1926   \n",
       "\n",
       "          country  \n",
       "0  United Kingdom  \n",
       "1  United Kingdom  \n",
       "2         Germany  \n",
       "3         Germany  "
      ]
     },
     "execution_count": 83,
     "metadata": {},
     "output_type": "execute_result"
    }
   ],
   "source": [
    "pd.read_xml(xml, stylesheet=xsl)"
   ]
  },
  {
   "cell_type": "markdown",
   "id": "4dca3ef1",
   "metadata": {},
   "source": [
    "# Read and Write data in JSON"
   ]
  },
  {
   "cell_type": "code",
   "execution_count": 285,
   "id": "8ac56d40",
   "metadata": {},
   "outputs": [
    {
     "data": {
      "text/html": [
       "<div>\n",
       "<style scoped>\n",
       "    .dataframe tbody tr th:only-of-type {\n",
       "        vertical-align: middle;\n",
       "    }\n",
       "\n",
       "    .dataframe tbody tr th {\n",
       "        vertical-align: top;\n",
       "    }\n",
       "\n",
       "    .dataframe thead th {\n",
       "        text-align: right;\n",
       "    }\n",
       "</style>\n",
       "<table border=\"1\" class=\"dataframe\">\n",
       "  <thead>\n",
       "    <tr style=\"text-align: right;\">\n",
       "      <th></th>\n",
       "      <th>ID</th>\n",
       "      <th>Title</th>\n",
       "      <th>Author</th>\n",
       "      <th>PublicationDate</th>\n",
       "    </tr>\n",
       "  </thead>\n",
       "  <tbody>\n",
       "    <tr>\n",
       "      <th>0</th>\n",
       "      <td>001276A</td>\n",
       "      <td>The Rise of the Falcon</td>\n",
       "      <td>John Admiral</td>\n",
       "      <td>25-Apr-2018</td>\n",
       "    </tr>\n",
       "    <tr>\n",
       "      <th>1</th>\n",
       "      <td>023125B</td>\n",
       "      <td>Controlled mind</td>\n",
       "      <td>Robert Greens</td>\n",
       "      <td>28-Aug-2016</td>\n",
       "    </tr>\n",
       "    <tr>\n",
       "      <th>2</th>\n",
       "      <td>005556E</td>\n",
       "      <td>Only love remains</td>\n",
       "      <td>Greta Blooming</td>\n",
       "      <td>17-Feb-2015</td>\n",
       "    </tr>\n",
       "  </tbody>\n",
       "</table>\n",
       "</div>"
      ],
      "text/plain": [
       "        ID                   Title          Author PublicationDate\n",
       "0  001276A  The Rise of the Falcon    John Admiral     25-Apr-2018\n",
       "1  023125B         Controlled mind   Robert Greens     28-Aug-2016\n",
       "2  005556E       Only love remains  Greta Blooming     17-Feb-2015"
      ]
     },
     "execution_count": 285,
     "metadata": {},
     "output_type": "execute_result"
    }
   ],
   "source": [
    "df = pd.read_csv('books.csv')\n",
    "df"
   ]
  },
  {
   "cell_type": "code",
   "execution_count": null,
   "id": "8e8510a4",
   "metadata": {},
   "outputs": [],
   "source": [
    "df.to_json('books.json')"
   ]
  },
  {
   "cell_type": "code",
   "execution_count": 98,
   "id": "064e43a4",
   "metadata": {},
   "outputs": [
    {
     "name": "stdout",
     "output_type": "stream",
     "text": [
      "{\"ID\":{\"0\":\"001276A\",\"1\":\"023125B\",\"2\":\"005556E\"},\"Title\":{\"0\":\"The Rise of the Falcon\",\"1\":\"Controlled mind\",\"2\":\"Only love remains\"},\"Author\":{\"0\":\"John Admiral\",\"1\":\"Robert Greens\",\"2\":\"Greta Blooming\"},\"PublicationDate\":{\"0\":\"25-Apr-2018\",\"1\":\"28-Aug-2016\",\"2\":\"17-Feb-2015\"}}"
     ]
    }
   ],
   "source": [
    "import sys\n",
    "df.to_json(sys.stdout)"
   ]
  },
  {
   "cell_type": "code",
   "execution_count": 97,
   "id": "eb841df8",
   "metadata": {},
   "outputs": [
    {
     "data": {
      "text/html": [
       "<div>\n",
       "<style scoped>\n",
       "    .dataframe tbody tr th:only-of-type {\n",
       "        vertical-align: middle;\n",
       "    }\n",
       "\n",
       "    .dataframe tbody tr th {\n",
       "        vertical-align: top;\n",
       "    }\n",
       "\n",
       "    .dataframe thead th {\n",
       "        text-align: right;\n",
       "    }\n",
       "</style>\n",
       "<table border=\"1\" class=\"dataframe\">\n",
       "  <thead>\n",
       "    <tr style=\"text-align: right;\">\n",
       "      <th></th>\n",
       "      <th>ID</th>\n",
       "      <th>Title</th>\n",
       "      <th>Author</th>\n",
       "      <th>PublicationDate</th>\n",
       "    </tr>\n",
       "  </thead>\n",
       "  <tbody>\n",
       "    <tr>\n",
       "      <th>0</th>\n",
       "      <td>001276A</td>\n",
       "      <td>The Rise of the Falcon</td>\n",
       "      <td>John Admiral</td>\n",
       "      <td>25-Apr-2018</td>\n",
       "    </tr>\n",
       "    <tr>\n",
       "      <th>1</th>\n",
       "      <td>023125B</td>\n",
       "      <td>Controlled mind</td>\n",
       "      <td>Robert Greens</td>\n",
       "      <td>28-Aug-2016</td>\n",
       "    </tr>\n",
       "    <tr>\n",
       "      <th>2</th>\n",
       "      <td>005556E</td>\n",
       "      <td>Only love remains</td>\n",
       "      <td>Greta Blooming</td>\n",
       "      <td>17-Feb-2015</td>\n",
       "    </tr>\n",
       "  </tbody>\n",
       "</table>\n",
       "</div>"
      ],
      "text/plain": [
       "        ID                   Title          Author PublicationDate\n",
       "0  001276A  The Rise of the Falcon    John Admiral     25-Apr-2018\n",
       "1  023125B         Controlled mind   Robert Greens     28-Aug-2016\n",
       "2  005556E       Only love remains  Greta Blooming     17-Feb-2015"
      ]
     },
     "execution_count": 97,
     "metadata": {},
     "output_type": "execute_result"
    }
   ],
   "source": [
    "pd.read_json('books.json')"
   ]
  },
  {
   "cell_type": "code",
   "execution_count": 14,
   "id": "a83b2f1d",
   "metadata": {},
   "outputs": [],
   "source": [
    "jsondata = {\n",
    "\"company\": \"BMW\",\n",
    "\"site\": \"Munchen, Germany\",\n",
    "\"production\": \"Motor Vehicles\",\n",
    "\"products\": [\n",
    "{\n",
    "\"product\": \"Series 1\",\n",
    "\"model\": \" 116d 5-Door Sport Pack\"\n",
    "},\n",
    "{\n",
    "\"product\": \"Series 3\",\n",
    "\"model\": \" 330E xDrive Sport Aut\"\n",
    "}\n",
    "]\n",
    "}\n",
    "\n"
   ]
  },
  {
   "cell_type": "code",
   "execution_count": 15,
   "id": "10f24178",
   "metadata": {},
   "outputs": [
    {
     "ename": "ValueError",
     "evalue": "Invalid file path or buffer object type: <class 'dict'>",
     "output_type": "error",
     "traceback": [
      "\u001b[1;31m---------------------------------------------------------------------------\u001b[0m",
      "\u001b[1;31mValueError\u001b[0m                                Traceback (most recent call last)",
      "\u001b[1;32m<ipython-input-15-b5da3d626ef2>\u001b[0m in \u001b[0;36m<module>\u001b[1;34m\u001b[0m\n\u001b[1;32m----> 1\u001b[1;33m \u001b[0mpd\u001b[0m\u001b[1;33m.\u001b[0m\u001b[0mread_json\u001b[0m\u001b[1;33m(\u001b[0m\u001b[0mjsondata\u001b[0m\u001b[1;33m)\u001b[0m\u001b[1;33m\u001b[0m\u001b[1;33m\u001b[0m\u001b[0m\n\u001b[0m",
      "\u001b[1;32m~\\anaconda3\\envs\\mypandas\\lib\\site-packages\\pandas\\util\\_decorators.py\u001b[0m in \u001b[0;36mwrapper\u001b[1;34m(*args, **kwargs)\u001b[0m\n\u001b[0;32m    205\u001b[0m                 \u001b[1;32melse\u001b[0m\u001b[1;33m:\u001b[0m\u001b[1;33m\u001b[0m\u001b[1;33m\u001b[0m\u001b[0m\n\u001b[0;32m    206\u001b[0m                     \u001b[0mkwargs\u001b[0m\u001b[1;33m[\u001b[0m\u001b[0mnew_arg_name\u001b[0m\u001b[1;33m]\u001b[0m \u001b[1;33m=\u001b[0m \u001b[0mnew_arg_value\u001b[0m\u001b[1;33m\u001b[0m\u001b[1;33m\u001b[0m\u001b[0m\n\u001b[1;32m--> 207\u001b[1;33m             \u001b[1;32mreturn\u001b[0m \u001b[0mfunc\u001b[0m\u001b[1;33m(\u001b[0m\u001b[1;33m*\u001b[0m\u001b[0margs\u001b[0m\u001b[1;33m,\u001b[0m \u001b[1;33m**\u001b[0m\u001b[0mkwargs\u001b[0m\u001b[1;33m)\u001b[0m\u001b[1;33m\u001b[0m\u001b[1;33m\u001b[0m\u001b[0m\n\u001b[0m\u001b[0;32m    208\u001b[0m \u001b[1;33m\u001b[0m\u001b[0m\n\u001b[0;32m    209\u001b[0m         \u001b[1;32mreturn\u001b[0m \u001b[0mcast\u001b[0m\u001b[1;33m(\u001b[0m\u001b[0mF\u001b[0m\u001b[1;33m,\u001b[0m \u001b[0mwrapper\u001b[0m\u001b[1;33m)\u001b[0m\u001b[1;33m\u001b[0m\u001b[1;33m\u001b[0m\u001b[0m\n",
      "\u001b[1;32m~\\anaconda3\\envs\\mypandas\\lib\\site-packages\\pandas\\util\\_decorators.py\u001b[0m in \u001b[0;36mwrapper\u001b[1;34m(*args, **kwargs)\u001b[0m\n\u001b[0;32m    309\u001b[0m                     \u001b[0mstacklevel\u001b[0m\u001b[1;33m=\u001b[0m\u001b[0mstacklevel\u001b[0m\u001b[1;33m,\u001b[0m\u001b[1;33m\u001b[0m\u001b[1;33m\u001b[0m\u001b[0m\n\u001b[0;32m    310\u001b[0m                 )\n\u001b[1;32m--> 311\u001b[1;33m             \u001b[1;32mreturn\u001b[0m \u001b[0mfunc\u001b[0m\u001b[1;33m(\u001b[0m\u001b[1;33m*\u001b[0m\u001b[0margs\u001b[0m\u001b[1;33m,\u001b[0m \u001b[1;33m**\u001b[0m\u001b[0mkwargs\u001b[0m\u001b[1;33m)\u001b[0m\u001b[1;33m\u001b[0m\u001b[1;33m\u001b[0m\u001b[0m\n\u001b[0m\u001b[0;32m    312\u001b[0m \u001b[1;33m\u001b[0m\u001b[0m\n\u001b[0;32m    313\u001b[0m         \u001b[1;32mreturn\u001b[0m \u001b[0mwrapper\u001b[0m\u001b[1;33m\u001b[0m\u001b[1;33m\u001b[0m\u001b[0m\n",
      "\u001b[1;32m~\\anaconda3\\envs\\mypandas\\lib\\site-packages\\pandas\\io\\json\\_json.py\u001b[0m in \u001b[0;36mread_json\u001b[1;34m(path_or_buf, orient, typ, dtype, convert_axes, convert_dates, keep_default_dates, numpy, precise_float, date_unit, encoding, encoding_errors, lines, chunksize, compression, nrows, storage_options)\u001b[0m\n\u001b[0;32m    588\u001b[0m         \u001b[0mconvert_axes\u001b[0m \u001b[1;33m=\u001b[0m \u001b[1;32mTrue\u001b[0m\u001b[1;33m\u001b[0m\u001b[1;33m\u001b[0m\u001b[0m\n\u001b[0;32m    589\u001b[0m \u001b[1;33m\u001b[0m\u001b[0m\n\u001b[1;32m--> 590\u001b[1;33m     json_reader = JsonReader(\n\u001b[0m\u001b[0;32m    591\u001b[0m         \u001b[0mpath_or_buf\u001b[0m\u001b[1;33m,\u001b[0m\u001b[1;33m\u001b[0m\u001b[1;33m\u001b[0m\u001b[0m\n\u001b[0;32m    592\u001b[0m         \u001b[0morient\u001b[0m\u001b[1;33m=\u001b[0m\u001b[0morient\u001b[0m\u001b[1;33m,\u001b[0m\u001b[1;33m\u001b[0m\u001b[1;33m\u001b[0m\u001b[0m\n",
      "\u001b[1;32m~\\anaconda3\\envs\\mypandas\\lib\\site-packages\\pandas\\io\\json\\_json.py\u001b[0m in \u001b[0;36m__init__\u001b[1;34m(self, filepath_or_buffer, orient, typ, dtype, convert_axes, convert_dates, keep_default_dates, numpy, precise_float, date_unit, encoding, lines, chunksize, compression, nrows, storage_options, encoding_errors)\u001b[0m\n\u001b[0;32m    673\u001b[0m                 \u001b[1;32mraise\u001b[0m \u001b[0mValueError\u001b[0m\u001b[1;33m(\u001b[0m\u001b[1;34m\"nrows can only be passed if lines=True\"\u001b[0m\u001b[1;33m)\u001b[0m\u001b[1;33m\u001b[0m\u001b[1;33m\u001b[0m\u001b[0m\n\u001b[0;32m    674\u001b[0m \u001b[1;33m\u001b[0m\u001b[0m\n\u001b[1;32m--> 675\u001b[1;33m         \u001b[0mdata\u001b[0m \u001b[1;33m=\u001b[0m \u001b[0mself\u001b[0m\u001b[1;33m.\u001b[0m\u001b[0m_get_data_from_filepath\u001b[0m\u001b[1;33m(\u001b[0m\u001b[0mfilepath_or_buffer\u001b[0m\u001b[1;33m)\u001b[0m\u001b[1;33m\u001b[0m\u001b[1;33m\u001b[0m\u001b[0m\n\u001b[0m\u001b[0;32m    676\u001b[0m         \u001b[0mself\u001b[0m\u001b[1;33m.\u001b[0m\u001b[0mdata\u001b[0m \u001b[1;33m=\u001b[0m \u001b[0mself\u001b[0m\u001b[1;33m.\u001b[0m\u001b[0m_preprocess_data\u001b[0m\u001b[1;33m(\u001b[0m\u001b[0mdata\u001b[0m\u001b[1;33m)\u001b[0m\u001b[1;33m\u001b[0m\u001b[1;33m\u001b[0m\u001b[0m\n\u001b[0;32m    677\u001b[0m \u001b[1;33m\u001b[0m\u001b[0m\n",
      "\u001b[1;32m~\\anaconda3\\envs\\mypandas\\lib\\site-packages\\pandas\\io\\json\\_json.py\u001b[0m in \u001b[0;36m_get_data_from_filepath\u001b[1;34m(self, filepath_or_buffer)\u001b[0m\n\u001b[0;32m    710\u001b[0m             \u001b[1;32mor\u001b[0m \u001b[0mfile_exists\u001b[0m\u001b[1;33m(\u001b[0m\u001b[0mfilepath_or_buffer\u001b[0m\u001b[1;33m)\u001b[0m\u001b[1;33m\u001b[0m\u001b[1;33m\u001b[0m\u001b[0m\n\u001b[0;32m    711\u001b[0m         ):\n\u001b[1;32m--> 712\u001b[1;33m             self.handles = get_handle(\n\u001b[0m\u001b[0;32m    713\u001b[0m                 \u001b[0mfilepath_or_buffer\u001b[0m\u001b[1;33m,\u001b[0m\u001b[1;33m\u001b[0m\u001b[1;33m\u001b[0m\u001b[0m\n\u001b[0;32m    714\u001b[0m                 \u001b[1;34m\"r\"\u001b[0m\u001b[1;33m,\u001b[0m\u001b[1;33m\u001b[0m\u001b[1;33m\u001b[0m\u001b[0m\n",
      "\u001b[1;32m~\\anaconda3\\envs\\mypandas\\lib\\site-packages\\pandas\\io\\common.py\u001b[0m in \u001b[0;36mget_handle\u001b[1;34m(path_or_buf, mode, encoding, compression, memory_map, is_text, errors, storage_options)\u001b[0m\n\u001b[0;32m    606\u001b[0m \u001b[1;33m\u001b[0m\u001b[0m\n\u001b[0;32m    607\u001b[0m     \u001b[1;31m# open URLs\u001b[0m\u001b[1;33m\u001b[0m\u001b[1;33m\u001b[0m\u001b[1;33m\u001b[0m\u001b[0m\n\u001b[1;32m--> 608\u001b[1;33m     ioargs = _get_filepath_or_buffer(\n\u001b[0m\u001b[0;32m    609\u001b[0m         \u001b[0mpath_or_buf\u001b[0m\u001b[1;33m,\u001b[0m\u001b[1;33m\u001b[0m\u001b[1;33m\u001b[0m\u001b[0m\n\u001b[0;32m    610\u001b[0m         \u001b[0mencoding\u001b[0m\u001b[1;33m=\u001b[0m\u001b[0mencoding\u001b[0m\u001b[1;33m,\u001b[0m\u001b[1;33m\u001b[0m\u001b[1;33m\u001b[0m\u001b[0m\n",
      "\u001b[1;32m~\\anaconda3\\envs\\mypandas\\lib\\site-packages\\pandas\\io\\common.py\u001b[0m in \u001b[0;36m_get_filepath_or_buffer\u001b[1;34m(filepath_or_buffer, encoding, compression, mode, storage_options)\u001b[0m\n\u001b[0;32m    393\u001b[0m     \u001b[1;32mif\u001b[0m \u001b[1;32mnot\u001b[0m \u001b[0mis_file_like\u001b[0m\u001b[1;33m(\u001b[0m\u001b[0mfilepath_or_buffer\u001b[0m\u001b[1;33m)\u001b[0m\u001b[1;33m:\u001b[0m\u001b[1;33m\u001b[0m\u001b[1;33m\u001b[0m\u001b[0m\n\u001b[0;32m    394\u001b[0m         \u001b[0mmsg\u001b[0m \u001b[1;33m=\u001b[0m \u001b[1;34mf\"Invalid file path or buffer object type: {type(filepath_or_buffer)}\"\u001b[0m\u001b[1;33m\u001b[0m\u001b[1;33m\u001b[0m\u001b[0m\n\u001b[1;32m--> 395\u001b[1;33m         \u001b[1;32mraise\u001b[0m \u001b[0mValueError\u001b[0m\u001b[1;33m(\u001b[0m\u001b[0mmsg\u001b[0m\u001b[1;33m)\u001b[0m\u001b[1;33m\u001b[0m\u001b[1;33m\u001b[0m\u001b[0m\n\u001b[0m\u001b[0;32m    396\u001b[0m \u001b[1;33m\u001b[0m\u001b[0m\n\u001b[0;32m    397\u001b[0m     return IOArgs(\n",
      "\u001b[1;31mValueError\u001b[0m: Invalid file path or buffer object type: <class 'dict'>"
     ]
    }
   ],
   "source": [
    "pd.read_json(jsondata)"
   ]
  },
  {
   "cell_type": "code",
   "execution_count": 16,
   "id": "758724fc",
   "metadata": {},
   "outputs": [
    {
     "data": {
      "text/html": [
       "<div>\n",
       "<style scoped>\n",
       "    .dataframe tbody tr th:only-of-type {\n",
       "        vertical-align: middle;\n",
       "    }\n",
       "\n",
       "    .dataframe tbody tr th {\n",
       "        vertical-align: top;\n",
       "    }\n",
       "\n",
       "    .dataframe thead th {\n",
       "        text-align: right;\n",
       "    }\n",
       "</style>\n",
       "<table border=\"1\" class=\"dataframe\">\n",
       "  <thead>\n",
       "    <tr style=\"text-align: right;\">\n",
       "      <th></th>\n",
       "      <th>company</th>\n",
       "      <th>site</th>\n",
       "      <th>production</th>\n",
       "      <th>products</th>\n",
       "    </tr>\n",
       "  </thead>\n",
       "  <tbody>\n",
       "    <tr>\n",
       "      <th>0</th>\n",
       "      <td>BMW</td>\n",
       "      <td>Munchen, Germany</td>\n",
       "      <td>Motor Vehicles</td>\n",
       "      <td>[{'product': 'Series 1', 'model': ' 116d 5-Doo...</td>\n",
       "    </tr>\n",
       "  </tbody>\n",
       "</table>\n",
       "</div>"
      ],
      "text/plain": [
       "  company              site      production  \\\n",
       "0     BMW  Munchen, Germany  Motor Vehicles   \n",
       "\n",
       "                                            products  \n",
       "0  [{'product': 'Series 1', 'model': ' 116d 5-Doo...  "
      ]
     },
     "execution_count": 16,
     "metadata": {},
     "output_type": "execute_result"
    }
   ],
   "source": [
    "pd.json_normalize(jsondata)"
   ]
  },
  {
   "cell_type": "code",
   "execution_count": 17,
   "id": "195cbb91",
   "metadata": {
    "scrolled": true
   },
   "outputs": [
    {
     "data": {
      "text/html": [
       "<div>\n",
       "<style scoped>\n",
       "    .dataframe tbody tr th:only-of-type {\n",
       "        vertical-align: middle;\n",
       "    }\n",
       "\n",
       "    .dataframe tbody tr th {\n",
       "        vertical-align: top;\n",
       "    }\n",
       "\n",
       "    .dataframe thead th {\n",
       "        text-align: right;\n",
       "    }\n",
       "</style>\n",
       "<table border=\"1\" class=\"dataframe\">\n",
       "  <thead>\n",
       "    <tr style=\"text-align: right;\">\n",
       "      <th></th>\n",
       "      <th>product</th>\n",
       "      <th>model</th>\n",
       "      <th>company</th>\n",
       "      <th>site</th>\n",
       "      <th>production</th>\n",
       "    </tr>\n",
       "  </thead>\n",
       "  <tbody>\n",
       "    <tr>\n",
       "      <th>0</th>\n",
       "      <td>Series 1</td>\n",
       "      <td>116d 5-Door Sport Pack</td>\n",
       "      <td>BMW</td>\n",
       "      <td>Munchen, Germany</td>\n",
       "      <td>Motor Vehicles</td>\n",
       "    </tr>\n",
       "    <tr>\n",
       "      <th>1</th>\n",
       "      <td>Series 3</td>\n",
       "      <td>330E xDrive Sport Aut</td>\n",
       "      <td>BMW</td>\n",
       "      <td>Munchen, Germany</td>\n",
       "      <td>Motor Vehicles</td>\n",
       "    </tr>\n",
       "  </tbody>\n",
       "</table>\n",
       "</div>"
      ],
      "text/plain": [
       "    product                    model company              site      production\n",
       "0  Series 1   116d 5-Door Sport Pack     BMW  Munchen, Germany  Motor Vehicles\n",
       "1  Series 3    330E xDrive Sport Aut     BMW  Munchen, Germany  Motor Vehicles"
      ]
     },
     "execution_count": 17,
     "metadata": {},
     "output_type": "execute_result"
    }
   ],
   "source": [
    "pd.json_normalize(jsondata, \"products\", [\"company\",\"site\",\"production\"])"
   ]
  },
  {
   "cell_type": "markdown",
   "id": "d606b21e",
   "metadata": {},
   "source": [
    "# Write and read data in binary format"
   ]
  },
  {
   "cell_type": "code",
   "execution_count": 110,
   "id": "6a3f1ce1",
   "metadata": {},
   "outputs": [
    {
     "data": {
      "text/html": [
       "<div>\n",
       "<style scoped>\n",
       "    .dataframe tbody tr th:only-of-type {\n",
       "        vertical-align: middle;\n",
       "    }\n",
       "\n",
       "    .dataframe tbody tr th {\n",
       "        vertical-align: top;\n",
       "    }\n",
       "\n",
       "    .dataframe thead th {\n",
       "        text-align: right;\n",
       "    }\n",
       "</style>\n",
       "<table border=\"1\" class=\"dataframe\">\n",
       "  <thead>\n",
       "    <tr style=\"text-align: right;\">\n",
       "      <th></th>\n",
       "      <th>ID</th>\n",
       "      <th>Title</th>\n",
       "      <th>Author</th>\n",
       "      <th>PublicationDate</th>\n",
       "    </tr>\n",
       "  </thead>\n",
       "  <tbody>\n",
       "    <tr>\n",
       "      <th>0</th>\n",
       "      <td>001276A</td>\n",
       "      <td>The Rise of the Falcon</td>\n",
       "      <td>John Admiral</td>\n",
       "      <td>25-Apr-2018</td>\n",
       "    </tr>\n",
       "    <tr>\n",
       "      <th>1</th>\n",
       "      <td>023125B</td>\n",
       "      <td>Controlled mind</td>\n",
       "      <td>Robert Greens</td>\n",
       "      <td>28-Aug-2016</td>\n",
       "    </tr>\n",
       "    <tr>\n",
       "      <th>2</th>\n",
       "      <td>005556E</td>\n",
       "      <td>Only love remains</td>\n",
       "      <td>Greta Blooming</td>\n",
       "      <td>17-Feb-2015</td>\n",
       "    </tr>\n",
       "  </tbody>\n",
       "</table>\n",
       "</div>"
      ],
      "text/plain": [
       "        ID                   Title          Author PublicationDate\n",
       "0  001276A  The Rise of the Falcon    John Admiral     25-Apr-2018\n",
       "1  023125B         Controlled mind   Robert Greens     28-Aug-2016\n",
       "2  005556E       Only love remains  Greta Blooming     17-Feb-2015"
      ]
     },
     "execution_count": 110,
     "metadata": {},
     "output_type": "execute_result"
    }
   ],
   "source": [
    "df = pd.read_csv('books.csv')\n",
    "df"
   ]
  },
  {
   "cell_type": "code",
   "execution_count": 111,
   "id": "a2f029d0",
   "metadata": {},
   "outputs": [],
   "source": [
    "df.to_pickle('newbooks.dat')"
   ]
  },
  {
   "cell_type": "code",
   "execution_count": 112,
   "id": "cb687c84",
   "metadata": {},
   "outputs": [
    {
     "data": {
      "text/html": [
       "<div>\n",
       "<style scoped>\n",
       "    .dataframe tbody tr th:only-of-type {\n",
       "        vertical-align: middle;\n",
       "    }\n",
       "\n",
       "    .dataframe tbody tr th {\n",
       "        vertical-align: top;\n",
       "    }\n",
       "\n",
       "    .dataframe thead th {\n",
       "        text-align: right;\n",
       "    }\n",
       "</style>\n",
       "<table border=\"1\" class=\"dataframe\">\n",
       "  <thead>\n",
       "    <tr style=\"text-align: right;\">\n",
       "      <th></th>\n",
       "      <th>ID</th>\n",
       "      <th>Title</th>\n",
       "      <th>Author</th>\n",
       "      <th>PublicationDate</th>\n",
       "    </tr>\n",
       "  </thead>\n",
       "  <tbody>\n",
       "    <tr>\n",
       "      <th>0</th>\n",
       "      <td>001276A</td>\n",
       "      <td>The Rise of the Falcon</td>\n",
       "      <td>John Admiral</td>\n",
       "      <td>25-Apr-2018</td>\n",
       "    </tr>\n",
       "    <tr>\n",
       "      <th>1</th>\n",
       "      <td>023125B</td>\n",
       "      <td>Controlled mind</td>\n",
       "      <td>Robert Greens</td>\n",
       "      <td>28-Aug-2016</td>\n",
       "    </tr>\n",
       "    <tr>\n",
       "      <th>2</th>\n",
       "      <td>005556E</td>\n",
       "      <td>Only love remains</td>\n",
       "      <td>Greta Blooming</td>\n",
       "      <td>17-Feb-2015</td>\n",
       "    </tr>\n",
       "  </tbody>\n",
       "</table>\n",
       "</div>"
      ],
      "text/plain": [
       "        ID                   Title          Author PublicationDate\n",
       "0  001276A  The Rise of the Falcon    John Admiral     25-Apr-2018\n",
       "1  023125B         Controlled mind   Robert Greens     28-Aug-2016\n",
       "2  005556E       Only love remains  Greta Blooming     17-Feb-2015"
      ]
     },
     "execution_count": 112,
     "metadata": {},
     "output_type": "execute_result"
    }
   ],
   "source": [
    "pd.read_pickle('newbooks.dat')"
   ]
  },
  {
   "cell_type": "markdown",
   "id": "bd35d6ef",
   "metadata": {},
   "source": [
    "# Interact with databases for data exchange"
   ]
  },
  {
   "cell_type": "code",
   "execution_count": 27,
   "id": "c7c253a9",
   "metadata": {},
   "outputs": [],
   "source": [
    "import sqlite3\n",
    "\n",
    "query = \"\"\"\n",
    "     CREATE TABLE Fruits\n",
    "     (fruit VARCHAR(20),\n",
    "      weight REAL(20),\n",
    "      amount INTEGER,\n",
    "      price REAL,\n",
    "      origin VARCHAR(20)\n",
    "     );\"\"\""
   ]
  },
  {
   "cell_type": "code",
   "execution_count": 28,
   "id": "ca6fe2a3",
   "metadata": {},
   "outputs": [],
   "source": [
    "conn = sqlite3.connect('mydata.sqlite')\n",
    "conn.execute(query)\n",
    "conn.commit()"
   ]
  },
  {
   "cell_type": "code",
   "execution_count": 29,
   "id": "7bd74cb0",
   "metadata": {},
   "outputs": [],
   "source": [
    "data = [('Apples',12.5,6,100.23,'Germany'),\n",
    "        ('Cherries',4.5,3,200.50,'Turkey'),\n",
    "        ('Ananas',19.4,4,300.85,'Madagascar'),\n",
    "        ('Strawberries',7.8,12,250.33,'Italy'),\n",
    "       ]\n",
    "\n",
    "stmt = \"INSERT INTO Fruits VALUES (?,?,?,?,?)\"\n",
    "conn.executemany(stmt, data)\n",
    "conn.commit()"
   ]
  },
  {
   "cell_type": "code",
   "execution_count": 31,
   "id": "4348ca9e",
   "metadata": {},
   "outputs": [
    {
     "data": {
      "text/plain": [
       "[('Apples', 12.5, 6, 100.23, 'Germany'),\n",
       " ('Cherries', 4.5, 3, 200.5, 'Turkey'),\n",
       " ('Ananas', 19.4, 4, 300.85, 'Madagascar'),\n",
       " ('Strawberries', 7.8, 12, 250.33, 'Italy')]"
      ]
     },
     "execution_count": 31,
     "metadata": {},
     "output_type": "execute_result"
    }
   ],
   "source": [
    "cursor = conn.execute('SELECT * FROM Fruits')\n",
    "rows = cursor.fetchall()\n",
    "rows"
   ]
  },
  {
   "cell_type": "code",
   "execution_count": 32,
   "id": "d826bc5e",
   "metadata": {},
   "outputs": [
    {
     "data": {
      "text/html": [
       "<div>\n",
       "<style scoped>\n",
       "    .dataframe tbody tr th:only-of-type {\n",
       "        vertical-align: middle;\n",
       "    }\n",
       "\n",
       "    .dataframe tbody tr th {\n",
       "        vertical-align: top;\n",
       "    }\n",
       "\n",
       "    .dataframe thead th {\n",
       "        text-align: right;\n",
       "    }\n",
       "</style>\n",
       "<table border=\"1\" class=\"dataframe\">\n",
       "  <thead>\n",
       "    <tr style=\"text-align: right;\">\n",
       "      <th></th>\n",
       "      <th>fruit</th>\n",
       "      <th>weight</th>\n",
       "      <th>amount</th>\n",
       "      <th>price</th>\n",
       "      <th>origin</th>\n",
       "    </tr>\n",
       "  </thead>\n",
       "  <tbody>\n",
       "    <tr>\n",
       "      <th>0</th>\n",
       "      <td>Apples</td>\n",
       "      <td>12.5</td>\n",
       "      <td>6</td>\n",
       "      <td>100.23</td>\n",
       "      <td>Germany</td>\n",
       "    </tr>\n",
       "    <tr>\n",
       "      <th>1</th>\n",
       "      <td>Cherries</td>\n",
       "      <td>4.5</td>\n",
       "      <td>3</td>\n",
       "      <td>200.50</td>\n",
       "      <td>Turkey</td>\n",
       "    </tr>\n",
       "    <tr>\n",
       "      <th>2</th>\n",
       "      <td>Ananas</td>\n",
       "      <td>19.4</td>\n",
       "      <td>4</td>\n",
       "      <td>300.85</td>\n",
       "      <td>Madagascar</td>\n",
       "    </tr>\n",
       "    <tr>\n",
       "      <th>3</th>\n",
       "      <td>Strawberries</td>\n",
       "      <td>7.8</td>\n",
       "      <td>12</td>\n",
       "      <td>250.33</td>\n",
       "      <td>Italy</td>\n",
       "    </tr>\n",
       "  </tbody>\n",
       "</table>\n",
       "</div>"
      ],
      "text/plain": [
       "          fruit  weight  amount   price      origin\n",
       "0        Apples    12.5       6  100.23     Germany\n",
       "1      Cherries     4.5       3  200.50      Turkey\n",
       "2        Ananas    19.4       4  300.85  Madagascar\n",
       "3  Strawberries     7.8      12  250.33       Italy"
      ]
     },
     "execution_count": 32,
     "metadata": {},
     "output_type": "execute_result"
    }
   ],
   "source": [
    "pd.DataFrame(rows, columns=[x[0] for x in cursor.description])"
   ]
  },
  {
   "cell_type": "markdown",
   "id": "b5e1e216",
   "metadata": {},
   "source": [
    "# Working with Time Data\n"
   ]
  },
  {
   "cell_type": "code",
   "execution_count": 4,
   "id": "d25017c7",
   "metadata": {},
   "outputs": [
    {
     "data": {
      "text/plain": [
       "Timestamp('2021-11-30 00:00:00')"
      ]
     },
     "execution_count": 4,
     "metadata": {},
     "output_type": "execute_result"
    }
   ],
   "source": [
    "pd.Timestamp('2021-11-30')"
   ]
  },
  {
   "cell_type": "code",
   "execution_count": 5,
   "id": "80c6e2db",
   "metadata": {},
   "outputs": [
    {
     "data": {
      "text/plain": [
       "Timestamp('2021-11-30 00:00:00')"
      ]
     },
     "execution_count": 5,
     "metadata": {},
     "output_type": "execute_result"
    }
   ],
   "source": [
    "pd.Timestamp('2021-Nov-30')"
   ]
  },
  {
   "cell_type": "code",
   "execution_count": 6,
   "id": "3fd48f1e",
   "metadata": {},
   "outputs": [
    {
     "data": {
      "text/plain": [
       "Timestamp('2021-11-30 00:00:00')"
      ]
     },
     "execution_count": 6,
     "metadata": {},
     "output_type": "execute_result"
    }
   ],
   "source": [
    "pd.Timestamp('2021/11/30')"
   ]
  },
  {
   "cell_type": "code",
   "execution_count": 7,
   "id": "367ea8ca",
   "metadata": {},
   "outputs": [
    {
     "data": {
      "text/plain": [
       "Timestamp('2021-11-30 00:00:00')"
      ]
     },
     "execution_count": 7,
     "metadata": {},
     "output_type": "execute_result"
    }
   ],
   "source": [
    "pd.Timestamp(2021,11,30,0,0,0)"
   ]
  },
  {
   "cell_type": "code",
   "execution_count": 8,
   "id": "3b005f79",
   "metadata": {},
   "outputs": [
    {
     "data": {
      "text/plain": [
       "Timestamp('2021-11-30 00:00:00')"
      ]
     },
     "execution_count": 8,
     "metadata": {},
     "output_type": "execute_result"
    }
   ],
   "source": [
    "pd.Timestamp(2021,11,30)"
   ]
  },
  {
   "cell_type": "code",
   "execution_count": 66,
   "id": "78bb8512",
   "metadata": {},
   "outputs": [
    {
     "name": "stdout",
     "output_type": "stream",
     "text": [
      "   year  month  day\n",
      "0  2019     10   15\n",
      "1  2020      6   10\n",
      "2  2021      4   20\n"
     ]
    }
   ],
   "source": [
    "df = pd.DataFrame({'year': [2019, 2020, 2021],\n",
    "                   'month': [10, 6, 4],\n",
    "                   'day': [15, 10, 20]})\n",
    "print(df)\n"
   ]
  },
  {
   "cell_type": "code",
   "execution_count": 69,
   "id": "1ff509c8",
   "metadata": {},
   "outputs": [
    {
     "name": "stdout",
     "output_type": "stream",
     "text": [
      "0   2019-10-15\n",
      "1   2020-06-10\n",
      "2   2021-04-20\n",
      "dtype: datetime64[ns]\n",
      "<class 'pandas.core.series.Series'>\n"
     ]
    }
   ],
   "source": [
    "ts = pd.to_datetime(df)\n",
    "print(ts)\n",
    "print(type(ts))"
   ]
  },
  {
   "cell_type": "code",
   "execution_count": 79,
   "id": "8708581a",
   "metadata": {},
   "outputs": [
    {
     "name": "stdout",
     "output_type": "stream",
     "text": [
      "2021-12-31 00:00:00\n"
     ]
    }
   ],
   "source": [
    "t = pd.to_datetime('2021 USA 31--12', format='%Y USA %d--%m', errors='raise')\n",
    "print(t)"
   ]
  },
  {
   "cell_type": "code",
   "execution_count": 85,
   "id": "67f50ffb",
   "metadata": {},
   "outputs": [
    {
     "name": "stdout",
     "output_type": "stream",
     "text": [
      "0    2019 USA 31--12\n",
      "1    2020 ITA 20--11\n",
      "2    2021 USA 10--10\n",
      "dtype: object\n"
     ]
    }
   ],
   "source": [
    "ts = pd.Series(['2019 USA 31--12','2020 ITA 20--11','2021 USA 10--10'])\n",
    "print(ts)"
   ]
  },
  {
   "cell_type": "code",
   "execution_count": 89,
   "id": "cc14858c",
   "metadata": {},
   "outputs": [
    {
     "name": "stdout",
     "output_type": "stream",
     "text": [
      "0    2019 USA 31--12\n",
      "1    2020 ITA 20--11\n",
      "2    2021 USA 10--10\n",
      "dtype: object\n"
     ]
    }
   ],
   "source": [
    "t = pd.to_datetime(ts, format='%Y USA %d--%m', errors='ignore')\n",
    "print(t)"
   ]
  },
  {
   "cell_type": "code",
   "execution_count": 59,
   "id": "b67c8ecb",
   "metadata": {},
   "outputs": [
    {
     "data": {
      "text/plain": [
       "Timestamp('2021-11-30 11:40:00+0000', tz='UTC')"
      ]
     },
     "execution_count": 59,
     "metadata": {},
     "output_type": "execute_result"
    }
   ],
   "source": [
    "pd.Timestamp('2021-Nov-30 11:40', tz='UTC')"
   ]
  },
  {
   "cell_type": "code",
   "execution_count": 48,
   "id": "8e7b525c",
   "metadata": {},
   "outputs": [
    {
     "data": {
      "text/plain": [
       "Timestamp('2021-11-30 11:40:00+0100', tz='Europe/Stockholm')"
      ]
     },
     "execution_count": 48,
     "metadata": {},
     "output_type": "execute_result"
    }
   ],
   "source": [
    "pd.Timestamp('2021-Nov-30 11:40', tz='Europe/Stockholm')"
   ]
  },
  {
   "cell_type": "code",
   "execution_count": 61,
   "id": "55ef58bb",
   "metadata": {},
   "outputs": [
    {
     "name": "stdout",
     "output_type": "stream",
     "text": [
      "2021-11-30 23:40:00\n",
      "2021-11-30 23:40:00-03:00\n"
     ]
    }
   ],
   "source": [
    "t = pd.Timestamp('2021-Nov-30 11:40PM')\n",
    "print(t)\n",
    "t = t.tz_localize(tz='America/Sao_Paulo')\n",
    "print(t)"
   ]
  },
  {
   "cell_type": "code",
   "execution_count": 62,
   "id": "fa7d1bc4",
   "metadata": {},
   "outputs": [
    {
     "name": "stdout",
     "output_type": "stream",
     "text": [
      "2021-11-30 21:40:00-05:00\n"
     ]
    }
   ],
   "source": [
    "t2 = t.tz_convert('US/Eastern')\n",
    "print(t2)"
   ]
  },
  {
   "cell_type": "code",
   "execution_count": 63,
   "id": "3307f1b9",
   "metadata": {},
   "outputs": [
    {
     "name": "stdout",
     "output_type": "stream",
     "text": [
      "2021\n",
      "11\n",
      "30\n",
      "23\n",
      "40\n",
      "0\n",
      "America/Sao_Paulo\n"
     ]
    }
   ],
   "source": [
    "print(t.year)\n",
    "print(t.month)\n",
    "print(t.day)\n",
    "print(t.hour)\n",
    "print(t.minute)\n",
    "print(t.second)\n",
    "print(t.tz)"
   ]
  },
  {
   "cell_type": "code",
   "execution_count": 64,
   "id": "08713d15",
   "metadata": {},
   "outputs": [
    {
     "ename": "AttributeError",
     "evalue": "attribute 'hour' of 'datetime.datetime' objects is not writable",
     "output_type": "error",
     "traceback": [
      "\u001b[1;31m---------------------------------------------------------------------------\u001b[0m",
      "\u001b[1;31mAttributeError\u001b[0m                            Traceback (most recent call last)",
      "\u001b[1;32m<ipython-input-64-689cad0b503f>\u001b[0m in \u001b[0;36m<module>\u001b[1;34m\u001b[0m\n\u001b[1;32m----> 1\u001b[1;33m \u001b[0mt\u001b[0m\u001b[1;33m.\u001b[0m\u001b[0mhour\u001b[0m \u001b[1;33m=\u001b[0m \u001b[1;36m12\u001b[0m\u001b[1;33m\u001b[0m\u001b[1;33m\u001b[0m\u001b[0m\n\u001b[0m",
      "\u001b[1;31mAttributeError\u001b[0m: attribute 'hour' of 'datetime.datetime' objects is not writable"
     ]
    }
   ],
   "source": [
    "t.hour = 12"
   ]
  },
  {
   "cell_type": "code",
   "execution_count": 90,
   "id": "f63330f8",
   "metadata": {},
   "outputs": [
    {
     "data": {
      "text/plain": [
       "Timedelta('1 days 00:00:00')"
      ]
     },
     "execution_count": 90,
     "metadata": {},
     "output_type": "execute_result"
    }
   ],
   "source": [
    "pd.Timedelta('1 Day')"
   ]
  },
  {
   "cell_type": "code",
   "execution_count": 92,
   "id": "eaf67809",
   "metadata": {
    "scrolled": true
   },
   "outputs": [
    {
     "name": "stdout",
     "output_type": "stream",
     "text": [
      "2021-11-16 10:30:00\n",
      "2021-11-16 11:30:00\n"
     ]
    }
   ],
   "source": [
    "t = pd.Timestamp('2021-Nov-16 10:30AM')\n",
    "print(t)\n",
    "dt = pd.Timedelta('1 Hour')\n",
    "t = t + dt\n",
    "print(t)"
   ]
  },
  {
   "cell_type": "code",
   "execution_count": 93,
   "id": "fbc1caee",
   "metadata": {},
   "outputs": [
    {
     "name": "stdout",
     "output_type": "stream",
     "text": [
      "2021-11-16 11:30:00\n"
     ]
    }
   ],
   "source": [
    "t = pd.Timestamp('2021-Nov-16 10:30AM')\n",
    "t = t + pd.Timedelta('1 Hour')\n",
    "print(t)"
   ]
  },
  {
   "cell_type": "code",
   "execution_count": 96,
   "id": "f7856738",
   "metadata": {},
   "outputs": [
    {
     "data": {
      "text/plain": [
       "Timedelta('1 days 00:00:00')"
      ]
     },
     "execution_count": 96,
     "metadata": {},
     "output_type": "execute_result"
    }
   ],
   "source": [
    "pd.Timedelta(1, unit=\"d\")"
   ]
  },
  {
   "cell_type": "code",
   "execution_count": 110,
   "id": "ecf7ec6e",
   "metadata": {},
   "outputs": [
    {
     "data": {
      "text/plain": [
       "Timedelta('1 days 17:40:45')"
      ]
     },
     "execution_count": 110,
     "metadata": {},
     "output_type": "execute_result"
    }
   ],
   "source": [
    "pd.Timedelta(150045, unit=\"s\")"
   ]
  },
  {
   "cell_type": "code",
   "execution_count": 107,
   "id": "a7fddb8d",
   "metadata": {},
   "outputs": [
    {
     "data": {
      "text/plain": [
       "Timedelta('3 days 05:34:23')"
      ]
     },
     "execution_count": 107,
     "metadata": {},
     "output_type": "execute_result"
    }
   ],
   "source": [
    "\n",
    "Timedelta('3 days 05:34:23')pd.Timedelta('3D 5:34:23')"
   ]
  },
  {
   "cell_type": "code",
   "execution_count": 99,
   "id": "57559703",
   "metadata": {},
   "outputs": [
    {
     "name": "stdout",
     "output_type": "stream",
     "text": [
      "71 days 04:45:00\n",
      "<class 'pandas._libs.tslibs.timedeltas.Timedelta'>\n"
     ]
    }
   ],
   "source": [
    "t1 = pd.Timestamp('2021-Jan-01 11:30AM')\n",
    "t2 = pd.Timestamp('2021-Mar-13 4:15PM')\n",
    "dt = t2 - t1\n",
    "print(dt)\n",
    "print(type(dt))"
   ]
  },
  {
   "cell_type": "code",
   "execution_count": 114,
   "id": "decacf60",
   "metadata": {},
   "outputs": [
    {
     "name": "stdout",
     "output_type": "stream",
     "text": [
      "0    00:22:33\n",
      "1    00:13:12\n",
      "2    00:24:14\n",
      "dtype: object\n",
      "0   0 days 00:22:33\n",
      "1   0 days 00:13:12\n",
      "2   0 days 00:24:14\n",
      "dtype: timedelta64[ns]\n"
     ]
    }
   ],
   "source": [
    "ts = pd.Series(['00:22:33','00:13:12','00:24:14'])\n",
    "print(ts)\n",
    "dt = pd.to_timedelta(ts, errors='raise')\n",
    "print(dt)"
   ]
  },
  {
   "cell_type": "code",
   "execution_count": 136,
   "id": "1f766cf1",
   "metadata": {},
   "outputs": [
    {
     "data": {
      "text/plain": [
       "DatetimeIndex(['2021-01-01', '2021-01-02', '2021-01-03', '2021-01-04',\n",
       "               '2021-01-05', '2021-01-06', '2021-01-07', '2021-01-08',\n",
       "               '2021-01-09', '2021-01-10'],\n",
       "              dtype='datetime64[ns]', freq='D')"
      ]
     },
     "execution_count": 136,
     "metadata": {},
     "output_type": "execute_result"
    }
   ],
   "source": [
    "pd.date_range('2021/01/01', freq='D', periods=10)"
   ]
  },
  {
   "cell_type": "code",
   "execution_count": 139,
   "id": "53ee078a",
   "metadata": {},
   "outputs": [
    {
     "data": {
      "text/plain": [
       "DatetimeIndex(['2021-01-01', '2021-01-02', '2021-01-03', '2021-01-04',\n",
       "               '2021-01-05', '2021-01-06', '2021-01-07', '2021-01-08',\n",
       "               '2021-01-09', '2021-01-10'],\n",
       "              dtype='datetime64[ns]', freq='D')"
      ]
     },
     "execution_count": 139,
     "metadata": {},
     "output_type": "execute_result"
    }
   ],
   "source": [
    "pd.date_range(\"2021/01/01\", \"2021/01/10\")"
   ]
  },
  {
   "cell_type": "code",
   "execution_count": 153,
   "id": "6354c146",
   "metadata": {},
   "outputs": [
    {
     "data": {
      "text/plain": [
       "DatetimeIndex(['2021-01-01 08:00:00', '2021-01-01 08:05:00',\n",
       "               '2021-01-01 08:10:00', '2021-01-01 08:15:00',\n",
       "               '2021-01-01 08:20:00', '2021-01-01 08:25:00',\n",
       "               '2021-01-01 08:30:00', '2021-01-01 08:35:00',\n",
       "               '2021-01-01 08:40:00', '2021-01-01 08:45:00',\n",
       "               '2021-01-01 08:50:00', '2021-01-01 08:55:00',\n",
       "               '2021-01-01 09:00:00', '2021-01-01 09:05:00',\n",
       "               '2021-01-01 09:10:00', '2021-01-01 09:15:00',\n",
       "               '2021-01-01 09:20:00', '2021-01-01 09:25:00',\n",
       "               '2021-01-01 09:30:00', '2021-01-01 09:35:00',\n",
       "               '2021-01-01 09:40:00', '2021-01-01 09:45:00',\n",
       "               '2021-01-01 09:50:00', '2021-01-01 09:55:00',\n",
       "               '2021-01-01 10:00:00'],\n",
       "              dtype='datetime64[ns]', freq='5T')"
      ]
     },
     "execution_count": 153,
     "metadata": {},
     "output_type": "execute_result"
    }
   ],
   "source": [
    "pd.date_range(\"2021/01/01 8:00\",\"2021/01/01 10:00\", freq='5T')"
   ]
  },
  {
   "cell_type": "code",
   "execution_count": 149,
   "id": "7e5fd985",
   "metadata": {},
   "outputs": [
    {
     "data": {
      "text/plain": [
       "DatetimeIndex(['2021-01-01 08:00:00', '2021-01-01 08:13:20',\n",
       "               '2021-01-01 08:26:40', '2021-01-01 08:40:00',\n",
       "               '2021-01-01 08:53:20', '2021-01-01 09:06:40',\n",
       "               '2021-01-01 09:20:00', '2021-01-01 09:33:20',\n",
       "               '2021-01-01 09:46:40', '2021-01-01 10:00:00'],\n",
       "              dtype='datetime64[ns]', freq=None)"
      ]
     },
     "execution_count": 149,
     "metadata": {},
     "output_type": "execute_result"
    }
   ],
   "source": [
    "pd.date_range(\"2021/01/01 8:00\",\"2021/01/01 10:00\", periods=10)"
   ]
  },
  {
   "cell_type": "code",
   "execution_count": 157,
   "id": "07061252",
   "metadata": {},
   "outputs": [
    {
     "name": "stdout",
     "output_type": "stream",
     "text": [
      "2021-01-01 08:00:00    1.479959\n",
      "2021-01-01 08:13:20    0.408933\n",
      "2021-01-01 08:26:40    0.106165\n",
      "2021-01-01 08:40:00   -1.198836\n",
      "2021-01-01 08:53:20    0.378987\n",
      "2021-01-01 09:06:40    0.275445\n",
      "2021-01-01 09:20:00   -1.735805\n",
      "2021-01-01 09:33:20    0.076814\n",
      "2021-01-01 09:46:40   -0.830684\n",
      "2021-01-01 10:00:00    0.804353\n",
      "dtype: float64\n"
     ]
    }
   ],
   "source": [
    "range = pd.date_range(\"2021/01/01 8:00\",\"2021/01/01 10:00\", periods=10)\n",
    "tsi = pd.Series(np.random.randn(len(range)), index=range)\n",
    "print(tsi)"
   ]
  },
  {
   "cell_type": "code",
   "execution_count": 156,
   "id": "35d7cde8",
   "metadata": {},
   "outputs": [
    {
     "name": "stdout",
     "output_type": "stream",
     "text": [
      "0   2021-01-01 08:00:00\n",
      "1   2021-01-01 08:13:20\n",
      "2   2021-01-01 08:26:40\n",
      "3   2021-01-01 08:40:00\n",
      "4   2021-01-01 08:53:20\n",
      "5   2021-01-01 09:06:40\n",
      "6   2021-01-01 09:20:00\n",
      "7   2021-01-01 09:33:20\n",
      "8   2021-01-01 09:46:40\n",
      "9   2021-01-01 10:00:00\n",
      "dtype: datetime64[ns]\n"
     ]
    }
   ],
   "source": [
    "ts = pd.Series(range)\n",
    "print(ts)"
   ]
  },
  {
   "cell_type": "code",
   "execution_count": 158,
   "id": "2a5af838",
   "metadata": {},
   "outputs": [
    {
     "data": {
      "text/plain": [
       "2021-01-01 08:00:00    1.479959\n",
       "2021-01-01 08:13:20    0.408933\n",
       "2021-01-01 08:26:40    0.106165\n",
       "dtype: float64"
      ]
     },
     "execution_count": 158,
     "metadata": {},
     "output_type": "execute_result"
    }
   ],
   "source": [
    "tsi[\"2021/01/01 8:00\":\"2021/01/01 8:30\"]"
   ]
  },
  {
   "cell_type": "code",
   "execution_count": 12,
   "id": "30584213",
   "metadata": {
    "scrolled": true
   },
   "outputs": [
    {
     "name": "stdout",
     "output_type": "stream",
     "text": [
      "        ID                   Title          Author PublicationDate\n",
      "0  001276A  The Rise of the Falcon    John Admiral     25-Apr-2018\n",
      "1  023125B         Controlled mind   Robert Greens     28-Aug-2016\n",
      "2  005556E       Only love remains  Greta Blooming     17-Feb-2015\n"
     ]
    }
   ],
   "source": [
    "df = pd.read_csv('books.csv')\n",
    "print(df)"
   ]
  },
  {
   "cell_type": "code",
   "execution_count": 13,
   "id": "88a13bc9",
   "metadata": {},
   "outputs": [
    {
     "data": {
      "text/plain": [
       "0    25-Apr-2018\n",
       "1    28-Aug-2016\n",
       "2    17-Feb-2015\n",
       "Name: PublicationDate, dtype: object"
      ]
     },
     "execution_count": 13,
     "metadata": {},
     "output_type": "execute_result"
    }
   ],
   "source": [
    "df.PublicationDate"
   ]
  },
  {
   "cell_type": "code",
   "execution_count": 14,
   "id": "ffca401e",
   "metadata": {},
   "outputs": [
    {
     "name": "stdout",
     "output_type": "stream",
     "text": [
      "        ID                   Title          Author PublicationDate\n",
      "0  001276A  The Rise of the Falcon    John Admiral      2018-04-25\n",
      "1  023125B         Controlled mind   Robert Greens      2016-08-28\n",
      "2  005556E       Only love remains  Greta Blooming      2015-02-17\n"
     ]
    }
   ],
   "source": [
    "df['PublicationDate'] = pd.to_datetime(df.PublicationDate)\n",
    "print(df)"
   ]
  },
  {
   "cell_type": "code",
   "execution_count": 15,
   "id": "b6ad0960",
   "metadata": {},
   "outputs": [
    {
     "data": {
      "text/plain": [
       "0   2018-04-25\n",
       "1   2016-08-28\n",
       "2   2015-02-17\n",
       "Name: PublicationDate, dtype: datetime64[ns]"
      ]
     },
     "execution_count": 15,
     "metadata": {},
     "output_type": "execute_result"
    }
   ],
   "source": [
    "df.PublicationDate"
   ]
  },
  {
   "cell_type": "code",
   "execution_count": 16,
   "id": "81b868db",
   "metadata": {},
   "outputs": [
    {
     "name": "stdout",
     "output_type": "stream",
     "text": [
      "        ID                   Title          Author PublicationDate\n",
      "0  001276A  The Rise of the Falcon    John Admiral      2018-04-25\n",
      "1  023125B         Controlled mind   Robert Greens      2016-08-28\n",
      "2  005556E       Only love remains  Greta Blooming      2015-02-17\n"
     ]
    }
   ],
   "source": [
    "df = pd.read_csv('books.csv', parse_dates = [3])\n",
    "print(df)"
   ]
  },
  {
   "cell_type": "markdown",
   "id": "fc7dfcac",
   "metadata": {},
   "source": [
    "# Working with Text Data"
   ]
  },
  {
   "cell_type": "code",
   "execution_count": 34,
   "id": "a2905f35",
   "metadata": {},
   "outputs": [
    {
     "name": "stdout",
     "output_type": "stream",
     "text": [
      "        ID                   Title          Author PublicationDate\n",
      "0  001276A  The Rise of the Falcon    John Admiral     25-Apr-2018\n",
      "1  023125B         Controlled mind   Robert Greens     28-Aug-2016\n",
      "2  005556E       Only love remains  Greta Blooming     17-Feb-2015\n"
     ]
    }
   ],
   "source": [
    "df = pd.read_csv('books.csv')\n",
    "print(df)"
   ]
  },
  {
   "cell_type": "code",
   "execution_count": 35,
   "id": "15554297",
   "metadata": {},
   "outputs": [
    {
     "name": "stdout",
     "output_type": "stream",
     "text": [
      "0    001276A\n",
      "1    023125B\n",
      "2    005556E\n",
      "Name: ID, dtype: object\n"
     ]
    }
   ],
   "source": [
    "print(df.ID)"
   ]
  },
  {
   "cell_type": "code",
   "execution_count": 36,
   "id": "6ed1c681",
   "metadata": {},
   "outputs": [
    {
     "name": "stdout",
     "output_type": "stream",
     "text": [
      "0    The Rise of the Falcon\n",
      "1           Controlled mind\n",
      "2         Only love remains\n",
      "Name: Title, dtype: object\n"
     ]
    }
   ],
   "source": [
    "print(df.Title)"
   ]
  },
  {
   "cell_type": "code",
   "execution_count": 37,
   "id": "78b33ee4",
   "metadata": {},
   "outputs": [
    {
     "name": "stdout",
     "output_type": "stream",
     "text": [
      "0      John Admiral\n",
      "1     Robert Greens\n",
      "2    Greta Blooming\n",
      "Name: Author, dtype: object\n"
     ]
    }
   ],
   "source": [
    "print(df.Author)"
   ]
  },
  {
   "cell_type": "code",
   "execution_count": 38,
   "id": "aca2200e",
   "metadata": {},
   "outputs": [
    {
     "name": "stdout",
     "output_type": "stream",
     "text": [
      "        ID                   Title          Author PublicationDate\n",
      "0  001276A  The Rise of the Falcon    John Admiral     25-Apr-2018\n",
      "1  023125B         Controlled mind   Robert Greens     28-Aug-2016\n",
      "2  005556E       Only love remains  Greta Blooming     17-Feb-2015\n"
     ]
    }
   ],
   "source": [
    "df = pd.read_csv('books.csv', dtype='string')\n",
    "print(df)"
   ]
  },
  {
   "cell_type": "code",
   "execution_count": 39,
   "id": "6d612277",
   "metadata": {},
   "outputs": [
    {
     "data": {
      "text/plain": [
       "0    25-Apr-2018\n",
       "1    28-Aug-2016\n",
       "2    17-Feb-2015\n",
       "Name: PublicationDate, dtype: string"
      ]
     },
     "execution_count": 39,
     "metadata": {},
     "output_type": "execute_result"
    }
   ],
   "source": [
    "df.PublicationDate"
   ]
  },
  {
   "cell_type": "code",
   "execution_count": 40,
   "id": "15855c06",
   "metadata": {},
   "outputs": [
    {
     "data": {
      "text/plain": [
       "0   2018-04-25\n",
       "1   2016-08-28\n",
       "2   2015-02-17\n",
       "Name: PublicationDate, dtype: datetime64[ns]"
      ]
     },
     "execution_count": 40,
     "metadata": {},
     "output_type": "execute_result"
    }
   ],
   "source": [
    "df.PublicationDate = pd.to_datetime(df.PublicationDate)\n",
    "df.PublicationDate"
   ]
  },
  {
   "cell_type": "code",
   "execution_count": 41,
   "id": "5bee920d",
   "metadata": {},
   "outputs": [
    {
     "data": {
      "text/plain": [
       "0    The Rise of the Falcon\n",
       "1           Controlled mind\n",
       "2         Only love remains\n",
       "Name: Title, dtype: string"
      ]
     },
     "execution_count": 41,
     "metadata": {},
     "output_type": "execute_result"
    }
   ],
   "source": [
    "df.Title = df.Title.astype('string')\n",
    "df.Title"
   ]
  },
  {
   "cell_type": "code",
   "execution_count": 42,
   "id": "ec6400fc",
   "metadata": {},
   "outputs": [
    {
     "data": {
      "text/plain": [
       "0    THE RISE OF THE FALCON\n",
       "1           CONTROLLED MIND\n",
       "2         ONLY LOVE REMAINS\n",
       "Name: Title, dtype: string"
      ]
     },
     "execution_count": 42,
     "metadata": {},
     "output_type": "execute_result"
    }
   ],
   "source": [
    "df.Title.str.upper()"
   ]
  },
  {
   "cell_type": "code",
   "execution_count": 43,
   "id": "b62a31ee",
   "metadata": {},
   "outputs": [
    {
     "data": {
      "text/plain": [
       "0    the rise of the falcon\n",
       "1           controlled mind\n",
       "2         only love remains\n",
       "Name: Title, dtype: string"
      ]
     },
     "execution_count": 43,
     "metadata": {},
     "output_type": "execute_result"
    }
   ],
   "source": [
    "df.Title.str.lower()"
   ]
  },
  {
   "cell_type": "code",
   "execution_count": 45,
   "id": "24261723",
   "metadata": {},
   "outputs": [
    {
     "name": "stdout",
     "output_type": "stream",
     "text": [
      "        ID                   Title          Author PublicationDate  \\\n",
      "0  001276A  The Rise of the Falcon    John Admiral      2018-04-25   \n",
      "1  023125B         Controlled mind   Robert Greens      2016-08-28   \n",
      "2  005556E       Only love remains  Greta Blooming      2015-02-17   \n",
      "\n",
      "                    Comment  \n",
      "0   Too long for a child     \n",
      "1    Interesting     book    \n",
      "2           Very Impressive  \n"
     ]
    }
   ],
   "source": [
    "df['Comment'] = [' Too long for a child   ',\n",
    "                 'Interesting     book  ',\n",
    "                 '   Very Impressive']\n",
    "print(df)"
   ]
  },
  {
   "cell_type": "code",
   "execution_count": 46,
   "id": "004f20bc",
   "metadata": {},
   "outputs": [
    {
     "data": {
      "text/plain": [
       "0    24\n",
       "1    22\n",
       "2    18\n",
       "Name: Comment, dtype: int64"
      ]
     },
     "execution_count": 46,
     "metadata": {},
     "output_type": "execute_result"
    }
   ],
   "source": [
    "df.Comment.str.len()"
   ]
  },
  {
   "cell_type": "code",
   "execution_count": 47,
   "id": "9a984ff2",
   "metadata": {},
   "outputs": [
    {
     "name": "stdout",
     "output_type": "stream",
     "text": [
      "0    Too long for a child\n",
      "1    Interesting     book\n",
      "2         Very Impressive\n",
      "Name: Comment, dtype: object\n"
     ]
    }
   ],
   "source": [
    "df.Comment = df.Comment.str.strip()\n",
    "print(df.Comment)"
   ]
  },
  {
   "cell_type": "code",
   "execution_count": 48,
   "id": "9eae8e11",
   "metadata": {},
   "outputs": [
    {
     "name": "stdout",
     "output_type": "stream",
     "text": [
      "0    20\n",
      "1    20\n",
      "2    15\n",
      "Name: Comment, dtype: int64\n"
     ]
    }
   ],
   "source": [
    "print(df.Comment.str.len())"
   ]
  },
  {
   "cell_type": "code",
   "execution_count": 49,
   "id": "797ee4b0",
   "metadata": {},
   "outputs": [
    {
     "data": {
      "text/plain": [
       "0    Too long for a child\n",
       "1        Interesting book\n",
       "2         Very Impressive\n",
       "Name: Comment, dtype: object"
      ]
     },
     "execution_count": 49,
     "metadata": {},
     "output_type": "execute_result"
    }
   ],
   "source": [
    "df.Comment.str.replace('  ','')"
   ]
  },
  {
   "cell_type": "code",
   "execution_count": 52,
   "id": "00c71c87",
   "metadata": {},
   "outputs": [
    {
     "data": {
      "text/html": [
       "<div>\n",
       "<style scoped>\n",
       "    .dataframe tbody tr th:only-of-type {\n",
       "        vertical-align: middle;\n",
       "    }\n",
       "\n",
       "    .dataframe tbody tr th {\n",
       "        vertical-align: top;\n",
       "    }\n",
       "\n",
       "    .dataframe thead th {\n",
       "        text-align: right;\n",
       "    }\n",
       "</style>\n",
       "<table border=\"1\" class=\"dataframe\">\n",
       "  <thead>\n",
       "    <tr style=\"text-align: right;\">\n",
       "      <th></th>\n",
       "      <th>ID</th>\n",
       "      <th>Title</th>\n",
       "      <th>Author</th>\n",
       "      <th>PublicationDate</th>\n",
       "      <th>Comment</th>\n",
       "    </tr>\n",
       "  </thead>\n",
       "  <tbody>\n",
       "    <tr>\n",
       "      <th>0</th>\n",
       "      <td>001276A</td>\n",
       "      <td>The Rise of the Falcon</td>\n",
       "      <td>John Admiral</td>\n",
       "      <td>2018-04-25</td>\n",
       "      <td>Too long for a child</td>\n",
       "    </tr>\n",
       "    <tr>\n",
       "      <th>1</th>\n",
       "      <td>023125B</td>\n",
       "      <td>Controlled mind</td>\n",
       "      <td>Robert Greens</td>\n",
       "      <td>2016-08-28</td>\n",
       "      <td>Interesting     book</td>\n",
       "    </tr>\n",
       "    <tr>\n",
       "      <th>2</th>\n",
       "      <td>005556E</td>\n",
       "      <td>Only love remains</td>\n",
       "      <td>Greta Blooming</td>\n",
       "      <td>2015-02-17</td>\n",
       "      <td>Very Impressive</td>\n",
       "    </tr>\n",
       "  </tbody>\n",
       "</table>\n",
       "</div>"
      ],
      "text/plain": [
       "        ID                   Title          Author PublicationDate  \\\n",
       "0  001276A  The Rise of the Falcon    John Admiral      2018-04-25   \n",
       "1  023125B         Controlled mind   Robert Greens      2016-08-28   \n",
       "2  005556E       Only love remains  Greta Blooming      2015-02-17   \n",
       "\n",
       "                Comment  \n",
       "0  Too long for a child  \n",
       "1  Interesting     book  \n",
       "2       Very Impressive  "
      ]
     },
     "execution_count": 52,
     "metadata": {},
     "output_type": "execute_result"
    }
   ],
   "source": [
    "df"
   ]
  },
  {
   "cell_type": "code",
   "execution_count": 53,
   "id": "d5117956",
   "metadata": {},
   "outputs": [
    {
     "name": "stdout",
     "output_type": "stream",
     "text": [
      "0      John,Admiral\n",
      "1     Robert,Greens\n",
      "2    Greta,Blooming\n",
      "Name: Author, dtype: string\n"
     ]
    }
   ],
   "source": [
    "df.Author = df.Author.str.replace(' ',',')\n",
    "print(df.Author)"
   ]
  },
  {
   "cell_type": "code",
   "execution_count": 54,
   "id": "0894edfb",
   "metadata": {},
   "outputs": [
    {
     "data": {
      "text/plain": [
       "0     Too long for a child\n",
       "1    Interesting     novel\n",
       "2          Very Impressive\n",
       "Name: Comment, dtype: object"
      ]
     },
     "execution_count": 54,
     "metadata": {},
     "output_type": "execute_result"
    }
   ],
   "source": [
    "df.Comment.str.replace('book','novel')"
   ]
  },
  {
   "cell_type": "code",
   "execution_count": 55,
   "id": "e53cd9b2",
   "metadata": {},
   "outputs": [
    {
     "data": {
      "text/plain": [
       "0    [The, Rise, of, the, Falcon]\n",
       "1              [Controlled, mind]\n",
       "2           [Only, love, remains]\n",
       "Name: Title, dtype: object"
      ]
     },
     "execution_count": 55,
     "metadata": {},
     "output_type": "execute_result"
    }
   ],
   "source": [
    "df.Title.str.split()"
   ]
  },
  {
   "cell_type": "code",
   "execution_count": 56,
   "id": "351296dd",
   "metadata": {},
   "outputs": [
    {
     "data": {
      "text/plain": [
       "0      [John, Admiral]\n",
       "1     [Robert, Greens]\n",
       "2    [Greta, Blooming]\n",
       "Name: Author, dtype: object"
      ]
     },
     "execution_count": 56,
     "metadata": {},
     "output_type": "execute_result"
    }
   ],
   "source": [
    "df.Author.str.split(',')"
   ]
  },
  {
   "cell_type": "code",
   "execution_count": 57,
   "id": "0e13125e",
   "metadata": {},
   "outputs": [
    {
     "name": "stdout",
     "output_type": "stream",
     "text": [
      "        0         1\n",
      "0    John   Admiral\n",
      "1  Robert    Greens\n",
      "2   Greta  Blooming\n"
     ]
    }
   ],
   "source": [
    "dfw = df.Author.str.split(',', expand=True)\n",
    "print(dfw)"
   ]
  },
  {
   "cell_type": "code",
   "execution_count": 58,
   "id": "058b96a0",
   "metadata": {},
   "outputs": [
    {
     "data": {
      "text/plain": [
       "pandas.core.frame.DataFrame"
      ]
     },
     "execution_count": 58,
     "metadata": {},
     "output_type": "execute_result"
    }
   ],
   "source": [
    "type(dfw)"
   ]
  },
  {
   "cell_type": "code",
   "execution_count": 59,
   "id": "21fd61da",
   "metadata": {},
   "outputs": [
    {
     "data": {
      "text/html": [
       "<div>\n",
       "<style scoped>\n",
       "    .dataframe tbody tr th:only-of-type {\n",
       "        vertical-align: middle;\n",
       "    }\n",
       "\n",
       "    .dataframe tbody tr th {\n",
       "        vertical-align: top;\n",
       "    }\n",
       "\n",
       "    .dataframe thead th {\n",
       "        text-align: right;\n",
       "    }\n",
       "</style>\n",
       "<table border=\"1\" class=\"dataframe\">\n",
       "  <thead>\n",
       "    <tr style=\"text-align: right;\">\n",
       "      <th></th>\n",
       "      <th>ID</th>\n",
       "      <th>Title</th>\n",
       "      <th>PublicationDate</th>\n",
       "      <th>Comment</th>\n",
       "      <th>Author_name</th>\n",
       "      <th>Author_surname</th>\n",
       "    </tr>\n",
       "  </thead>\n",
       "  <tbody>\n",
       "    <tr>\n",
       "      <th>0</th>\n",
       "      <td>001276A</td>\n",
       "      <td>The Rise of the Falcon</td>\n",
       "      <td>2018-04-25</td>\n",
       "      <td>Too long for a child</td>\n",
       "      <td>John</td>\n",
       "      <td>Admiral</td>\n",
       "    </tr>\n",
       "    <tr>\n",
       "      <th>1</th>\n",
       "      <td>023125B</td>\n",
       "      <td>Controlled mind</td>\n",
       "      <td>2016-08-28</td>\n",
       "      <td>Interesting     book</td>\n",
       "      <td>Robert</td>\n",
       "      <td>Greens</td>\n",
       "    </tr>\n",
       "    <tr>\n",
       "      <th>2</th>\n",
       "      <td>005556E</td>\n",
       "      <td>Only love remains</td>\n",
       "      <td>2015-02-17</td>\n",
       "      <td>Very Impressive</td>\n",
       "      <td>Greta</td>\n",
       "      <td>Blooming</td>\n",
       "    </tr>\n",
       "  </tbody>\n",
       "</table>\n",
       "</div>"
      ],
      "text/plain": [
       "        ID                   Title PublicationDate               Comment  \\\n",
       "0  001276A  The Rise of the Falcon      2018-04-25  Too long for a child   \n",
       "1  023125B         Controlled mind      2016-08-28  Interesting     book   \n",
       "2  005556E       Only love remains      2015-02-17       Very Impressive   \n",
       "\n",
       "  Author_name Author_surname  \n",
       "0        John        Admiral  \n",
       "1      Robert         Greens  \n",
       "2       Greta       Blooming  "
      ]
     },
     "execution_count": 59,
     "metadata": {},
     "output_type": "execute_result"
    }
   ],
   "source": [
    "df[['Author_name','Author_surname']] = df.Author.str.split(',', expand=True)\n",
    "del df['Author']\n",
    "df"
   ]
  },
  {
   "cell_type": "code",
   "execution_count": 60,
   "id": "b6f0bfd1",
   "metadata": {},
   "outputs": [
    {
     "data": {
      "text/html": [
       "<div>\n",
       "<style scoped>\n",
       "    .dataframe tbody tr th:only-of-type {\n",
       "        vertical-align: middle;\n",
       "    }\n",
       "\n",
       "    .dataframe tbody tr th {\n",
       "        vertical-align: top;\n",
       "    }\n",
       "\n",
       "    .dataframe thead th {\n",
       "        text-align: right;\n",
       "    }\n",
       "</style>\n",
       "<table border=\"1\" class=\"dataframe\">\n",
       "  <thead>\n",
       "    <tr style=\"text-align: right;\">\n",
       "      <th></th>\n",
       "      <th>ID</th>\n",
       "      <th>Title</th>\n",
       "      <th>PublicationDate</th>\n",
       "      <th>Comment</th>\n",
       "      <th>Author_name</th>\n",
       "      <th>Author_surname</th>\n",
       "      <th>Author</th>\n",
       "    </tr>\n",
       "  </thead>\n",
       "  <tbody>\n",
       "    <tr>\n",
       "      <th>0</th>\n",
       "      <td>001276A</td>\n",
       "      <td>The Rise of the Falcon</td>\n",
       "      <td>2018-04-25</td>\n",
       "      <td>Too long for a child</td>\n",
       "      <td>John</td>\n",
       "      <td>Admiral</td>\n",
       "      <td>John Admiral</td>\n",
       "    </tr>\n",
       "    <tr>\n",
       "      <th>1</th>\n",
       "      <td>023125B</td>\n",
       "      <td>Controlled mind</td>\n",
       "      <td>2016-08-28</td>\n",
       "      <td>Interesting     book</td>\n",
       "      <td>Robert</td>\n",
       "      <td>Greens</td>\n",
       "      <td>Robert Greens</td>\n",
       "    </tr>\n",
       "    <tr>\n",
       "      <th>2</th>\n",
       "      <td>005556E</td>\n",
       "      <td>Only love remains</td>\n",
       "      <td>2015-02-17</td>\n",
       "      <td>Very Impressive</td>\n",
       "      <td>Greta</td>\n",
       "      <td>Blooming</td>\n",
       "      <td>Greta Blooming</td>\n",
       "    </tr>\n",
       "  </tbody>\n",
       "</table>\n",
       "</div>"
      ],
      "text/plain": [
       "        ID                   Title PublicationDate               Comment  \\\n",
       "0  001276A  The Rise of the Falcon      2018-04-25  Too long for a child   \n",
       "1  023125B         Controlled mind      2016-08-28  Interesting     book   \n",
       "2  005556E       Only love remains      2015-02-17       Very Impressive   \n",
       "\n",
       "  Author_name Author_surname          Author  \n",
       "0        John        Admiral    John Admiral  \n",
       "1      Robert         Greens   Robert Greens  \n",
       "2       Greta       Blooming  Greta Blooming  "
      ]
     },
     "execution_count": 60,
     "metadata": {},
     "output_type": "execute_result"
    }
   ],
   "source": [
    "df['Author'] = df['Author_name'] + ' ' + df['Author_surname']\n",
    "df"
   ]
  },
  {
   "cell_type": "code",
   "execution_count": 234,
   "id": "cd1d973d",
   "metadata": {},
   "outputs": [
    {
     "data": {
      "text/plain": [
       "0      John Admiral\n",
       "1     Robert Greens\n",
       "2    Greta Blooming\n",
       "Name: Author_name, dtype: string"
      ]
     },
     "execution_count": 234,
     "metadata": {},
     "output_type": "execute_result"
    }
   ],
   "source": [
    "df.Author_name.str.cat(df.Author_surname, sep=' ')"
   ]
  },
  {
   "cell_type": "code",
   "execution_count": 61,
   "id": "1a8d01ea",
   "metadata": {},
   "outputs": [
    {
     "data": {
      "text/html": [
       "<div>\n",
       "<style scoped>\n",
       "    .dataframe tbody tr th:only-of-type {\n",
       "        vertical-align: middle;\n",
       "    }\n",
       "\n",
       "    .dataframe tbody tr th {\n",
       "        vertical-align: top;\n",
       "    }\n",
       "\n",
       "    .dataframe thead th {\n",
       "        text-align: right;\n",
       "    }\n",
       "</style>\n",
       "<table border=\"1\" class=\"dataframe\">\n",
       "  <thead>\n",
       "    <tr style=\"text-align: right;\">\n",
       "      <th></th>\n",
       "      <th>ID</th>\n",
       "      <th>Title</th>\n",
       "      <th>PublicationDate</th>\n",
       "      <th>Comment</th>\n",
       "      <th>Author</th>\n",
       "    </tr>\n",
       "  </thead>\n",
       "  <tbody>\n",
       "    <tr>\n",
       "      <th>0</th>\n",
       "      <td>001276A</td>\n",
       "      <td>The Rise of the Falcon</td>\n",
       "      <td>2018-04-25</td>\n",
       "      <td>Too long for a child</td>\n",
       "      <td>John Admiral</td>\n",
       "    </tr>\n",
       "    <tr>\n",
       "      <th>1</th>\n",
       "      <td>023125B</td>\n",
       "      <td>Controlled mind</td>\n",
       "      <td>2016-08-28</td>\n",
       "      <td>Interesting     book</td>\n",
       "      <td>Robert Greens</td>\n",
       "    </tr>\n",
       "    <tr>\n",
       "      <th>2</th>\n",
       "      <td>005556E</td>\n",
       "      <td>Only love remains</td>\n",
       "      <td>2015-02-17</td>\n",
       "      <td>Very Impressive</td>\n",
       "      <td>Greta Blooming</td>\n",
       "    </tr>\n",
       "  </tbody>\n",
       "</table>\n",
       "</div>"
      ],
      "text/plain": [
       "        ID                   Title PublicationDate               Comment  \\\n",
       "0  001276A  The Rise of the Falcon      2018-04-25  Too long for a child   \n",
       "1  023125B         Controlled mind      2016-08-28  Interesting     book   \n",
       "2  005556E       Only love remains      2015-02-17       Very Impressive   \n",
       "\n",
       "           Author  \n",
       "0    John Admiral  \n",
       "1   Robert Greens  \n",
       "2  Greta Blooming  "
      ]
     },
     "execution_count": 61,
     "metadata": {},
     "output_type": "execute_result"
    }
   ],
   "source": [
    "del df['Author_surname']\n",
    "del df['Author_name']\n",
    "df"
   ]
  },
  {
   "cell_type": "code",
   "execution_count": 62,
   "id": "4ceea7b0",
   "metadata": {},
   "outputs": [
    {
     "name": "stdout",
     "output_type": "stream",
     "text": [
      "0    001276\n",
      "1    023125\n",
      "2    005556\n",
      "Name: ID1, dtype: string\n"
     ]
    }
   ],
   "source": [
    "df['ID1'] = df.ID.str.replace('([A-Z]+)', '', regex=True)\n",
    "print(df.ID1)"
   ]
  },
  {
   "cell_type": "code",
   "execution_count": 63,
   "id": "23eeeb89",
   "metadata": {},
   "outputs": [
    {
     "name": "stdout",
     "output_type": "stream",
     "text": [
      "0    A\n",
      "1    B\n",
      "2    E\n",
      "Name: ID2, dtype: string\n"
     ]
    }
   ],
   "source": [
    "df['ID2'] = df.ID.str.replace('([0-9]+)', '', regex=True)\n",
    "print(df.ID2)"
   ]
  },
  {
   "cell_type": "code",
   "execution_count": 64,
   "id": "f1fdd8ad",
   "metadata": {},
   "outputs": [
    {
     "data": {
      "text/html": [
       "<div>\n",
       "<style scoped>\n",
       "    .dataframe tbody tr th:only-of-type {\n",
       "        vertical-align: middle;\n",
       "    }\n",
       "\n",
       "    .dataframe tbody tr th {\n",
       "        vertical-align: top;\n",
       "    }\n",
       "\n",
       "    .dataframe thead th {\n",
       "        text-align: right;\n",
       "    }\n",
       "</style>\n",
       "<table border=\"1\" class=\"dataframe\">\n",
       "  <thead>\n",
       "    <tr style=\"text-align: right;\">\n",
       "      <th></th>\n",
       "      <th>Title</th>\n",
       "      <th>PublicationDate</th>\n",
       "      <th>Comment</th>\n",
       "      <th>Author</th>\n",
       "      <th>ID1</th>\n",
       "      <th>ID2</th>\n",
       "    </tr>\n",
       "  </thead>\n",
       "  <tbody>\n",
       "    <tr>\n",
       "      <th>0</th>\n",
       "      <td>The Rise of the Falcon</td>\n",
       "      <td>2018-04-25</td>\n",
       "      <td>Too long for a child</td>\n",
       "      <td>John Admiral</td>\n",
       "      <td>001276</td>\n",
       "      <td>A</td>\n",
       "    </tr>\n",
       "    <tr>\n",
       "      <th>1</th>\n",
       "      <td>Controlled mind</td>\n",
       "      <td>2016-08-28</td>\n",
       "      <td>Interesting     book</td>\n",
       "      <td>Robert Greens</td>\n",
       "      <td>023125</td>\n",
       "      <td>B</td>\n",
       "    </tr>\n",
       "    <tr>\n",
       "      <th>2</th>\n",
       "      <td>Only love remains</td>\n",
       "      <td>2015-02-17</td>\n",
       "      <td>Very Impressive</td>\n",
       "      <td>Greta Blooming</td>\n",
       "      <td>005556</td>\n",
       "      <td>E</td>\n",
       "    </tr>\n",
       "  </tbody>\n",
       "</table>\n",
       "</div>"
      ],
      "text/plain": [
       "                    Title PublicationDate               Comment  \\\n",
       "0  The Rise of the Falcon      2018-04-25  Too long for a child   \n",
       "1         Controlled mind      2016-08-28  Interesting     book   \n",
       "2       Only love remains      2015-02-17       Very Impressive   \n",
       "\n",
       "           Author     ID1 ID2  \n",
       "0    John Admiral  001276   A  \n",
       "1   Robert Greens  023125   B  \n",
       "2  Greta Blooming  005556   E  "
      ]
     },
     "execution_count": 64,
     "metadata": {},
     "output_type": "execute_result"
    }
   ],
   "source": [
    "del df['ID']\n",
    "df"
   ]
  },
  {
   "cell_type": "code",
   "execution_count": 66,
   "id": "eb9a8df1",
   "metadata": {},
   "outputs": [
    {
     "data": {
      "text/html": [
       "<div>\n",
       "<style scoped>\n",
       "    .dataframe tbody tr th:only-of-type {\n",
       "        vertical-align: middle;\n",
       "    }\n",
       "\n",
       "    .dataframe tbody tr th {\n",
       "        vertical-align: top;\n",
       "    }\n",
       "\n",
       "    .dataframe thead th {\n",
       "        text-align: right;\n",
       "    }\n",
       "</style>\n",
       "<table border=\"1\" class=\"dataframe\">\n",
       "  <thead>\n",
       "    <tr style=\"text-align: right;\">\n",
       "      <th></th>\n",
       "      <th>0</th>\n",
       "    </tr>\n",
       "  </thead>\n",
       "  <tbody>\n",
       "    <tr>\n",
       "      <th>0</th>\n",
       "      <td>001276</td>\n",
       "    </tr>\n",
       "    <tr>\n",
       "      <th>1</th>\n",
       "      <td>023125</td>\n",
       "    </tr>\n",
       "    <tr>\n",
       "      <th>2</th>\n",
       "      <td>005556</td>\n",
       "    </tr>\n",
       "  </tbody>\n",
       "</table>\n",
       "</div>"
      ],
      "text/plain": [
       "        0\n",
       "0  001276\n",
       "1  023125\n",
       "2  005556"
      ]
     },
     "execution_count": 66,
     "metadata": {},
     "output_type": "execute_result"
    }
   ],
   "source": [
    "df['ID'] = df.ID1.str.cat(df.ID2)\n",
    "df.ID.str.extract('([0-9]+)')"
   ]
  },
  {
   "cell_type": "code",
   "execution_count": 67,
   "id": "97f156ff",
   "metadata": {},
   "outputs": [
    {
     "data": {
      "text/html": [
       "<div>\n",
       "<style scoped>\n",
       "    .dataframe tbody tr th:only-of-type {\n",
       "        vertical-align: middle;\n",
       "    }\n",
       "\n",
       "    .dataframe tbody tr th {\n",
       "        vertical-align: top;\n",
       "    }\n",
       "\n",
       "    .dataframe thead th {\n",
       "        text-align: right;\n",
       "    }\n",
       "</style>\n",
       "<table border=\"1\" class=\"dataframe\">\n",
       "  <thead>\n",
       "    <tr style=\"text-align: right;\">\n",
       "      <th></th>\n",
       "      <th>0</th>\n",
       "    </tr>\n",
       "  </thead>\n",
       "  <tbody>\n",
       "    <tr>\n",
       "      <th>0</th>\n",
       "      <td>A</td>\n",
       "    </tr>\n",
       "    <tr>\n",
       "      <th>1</th>\n",
       "      <td>B</td>\n",
       "    </tr>\n",
       "    <tr>\n",
       "      <th>2</th>\n",
       "      <td>E</td>\n",
       "    </tr>\n",
       "  </tbody>\n",
       "</table>\n",
       "</div>"
      ],
      "text/plain": [
       "   0\n",
       "0  A\n",
       "1  B\n",
       "2  E"
      ]
     },
     "execution_count": 67,
     "metadata": {},
     "output_type": "execute_result"
    }
   ],
   "source": [
    "df.ID.str.extract('([A-Z]+)')"
   ]
  },
  {
   "cell_type": "code",
   "execution_count": 68,
   "id": "4df89a62",
   "metadata": {},
   "outputs": [
    {
     "data": {
      "text/html": [
       "<div>\n",
       "<style scoped>\n",
       "    .dataframe tbody tr th:only-of-type {\n",
       "        vertical-align: middle;\n",
       "    }\n",
       "\n",
       "    .dataframe tbody tr th {\n",
       "        vertical-align: top;\n",
       "    }\n",
       "\n",
       "    .dataframe thead th {\n",
       "        text-align: right;\n",
       "    }\n",
       "</style>\n",
       "<table border=\"1\" class=\"dataframe\">\n",
       "  <thead>\n",
       "    <tr style=\"text-align: right;\">\n",
       "      <th></th>\n",
       "      <th>Title</th>\n",
       "      <th>PublicationDate</th>\n",
       "      <th>Comment</th>\n",
       "      <th>Author</th>\n",
       "      <th>ID1</th>\n",
       "      <th>ID2</th>\n",
       "    </tr>\n",
       "  </thead>\n",
       "  <tbody>\n",
       "    <tr>\n",
       "      <th>0</th>\n",
       "      <td>The Rise of the Falcon</td>\n",
       "      <td>2018-04-25</td>\n",
       "      <td>Too long for a child</td>\n",
       "      <td>John Admiral</td>\n",
       "      <td>001276</td>\n",
       "      <td>A</td>\n",
       "    </tr>\n",
       "    <tr>\n",
       "      <th>1</th>\n",
       "      <td>Controlled mind</td>\n",
       "      <td>2016-08-28</td>\n",
       "      <td>Interesting     book</td>\n",
       "      <td>Robert Greens</td>\n",
       "      <td>023125</td>\n",
       "      <td>B</td>\n",
       "    </tr>\n",
       "    <tr>\n",
       "      <th>2</th>\n",
       "      <td>Only love remains</td>\n",
       "      <td>2015-02-17</td>\n",
       "      <td>Very Impressive</td>\n",
       "      <td>Greta Blooming</td>\n",
       "      <td>005556</td>\n",
       "      <td>E</td>\n",
       "    </tr>\n",
       "  </tbody>\n",
       "</table>\n",
       "</div>"
      ],
      "text/plain": [
       "                    Title PublicationDate               Comment  \\\n",
       "0  The Rise of the Falcon      2018-04-25  Too long for a child   \n",
       "1         Controlled mind      2016-08-28  Interesting     book   \n",
       "2       Only love remains      2015-02-17       Very Impressive   \n",
       "\n",
       "           Author     ID1 ID2  \n",
       "0    John Admiral  001276   A  \n",
       "1   Robert Greens  023125   B  \n",
       "2  Greta Blooming  005556   E  "
      ]
     },
     "execution_count": 68,
     "metadata": {},
     "output_type": "execute_result"
    }
   ],
   "source": [
    "del df['ID']\n",
    "df"
   ]
  },
  {
   "cell_type": "code",
   "execution_count": 255,
   "id": "a1f12637",
   "metadata": {},
   "outputs": [
    {
     "data": {
      "text/plain": [
       "0    A-USA\n",
       "1    B-ITA\n",
       "2    E-FRA\n",
       "Name: ID2, dtype: string"
      ]
     },
     "execution_count": 255,
     "metadata": {},
     "output_type": "execute_result"
    }
   ],
   "source": [
    "df.ID2.str.cat(['USA','ITA','FRA'],sep='-')"
   ]
  },
  {
   "cell_type": "code",
   "execution_count": 271,
   "id": "916d15d7",
   "metadata": {},
   "outputs": [
    {
     "name": "stdout",
     "output_type": "stream",
     "text": [
      "0    A-USA\n",
      "1    B-USA\n",
      "2    E-USA\n",
      "Name: ID2, dtype: string\n"
     ]
    }
   ],
   "source": [
    "df['temp'] = 'USA'\n",
    "df.ID2 = df.ID2.str.cat(df['temp'],sep='-')\n",
    "del df['temp']\n",
    "print(df.ID2)"
   ]
  },
  {
   "cell_type": "code",
   "execution_count": 272,
   "id": "9b8c9d9d",
   "metadata": {},
   "outputs": [
    {
     "data": {
      "text/html": [
       "<div>\n",
       "<style scoped>\n",
       "    .dataframe tbody tr th:only-of-type {\n",
       "        vertical-align: middle;\n",
       "    }\n",
       "\n",
       "    .dataframe tbody tr th {\n",
       "        vertical-align: top;\n",
       "    }\n",
       "\n",
       "    .dataframe thead th {\n",
       "        text-align: right;\n",
       "    }\n",
       "</style>\n",
       "<table border=\"1\" class=\"dataframe\">\n",
       "  <thead>\n",
       "    <tr style=\"text-align: right;\">\n",
       "      <th></th>\n",
       "      <th>Title</th>\n",
       "      <th>PublicationDate</th>\n",
       "      <th>Comment</th>\n",
       "      <th>Author</th>\n",
       "      <th>ID1</th>\n",
       "      <th>ID2</th>\n",
       "    </tr>\n",
       "  </thead>\n",
       "  <tbody>\n",
       "    <tr>\n",
       "      <th>0</th>\n",
       "      <td>The Rise of the Falcon</td>\n",
       "      <td>2018-04-25</td>\n",
       "      <td>Too long for a child</td>\n",
       "      <td>John Admiral</td>\n",
       "      <td>001276</td>\n",
       "      <td>A-USA</td>\n",
       "    </tr>\n",
       "    <tr>\n",
       "      <th>1</th>\n",
       "      <td>Controlled mind</td>\n",
       "      <td>2016-08-28</td>\n",
       "      <td>Interesting     book</td>\n",
       "      <td>Robert Greens</td>\n",
       "      <td>023125</td>\n",
       "      <td>B-USA</td>\n",
       "    </tr>\n",
       "    <tr>\n",
       "      <th>2</th>\n",
       "      <td>Only love remains</td>\n",
       "      <td>2015-02-17</td>\n",
       "      <td>Very Impressive</td>\n",
       "      <td>Greta Blooming</td>\n",
       "      <td>005556</td>\n",
       "      <td>E-USA</td>\n",
       "    </tr>\n",
       "  </tbody>\n",
       "</table>\n",
       "</div>"
      ],
      "text/plain": [
       "                    Title PublicationDate               Comment  \\\n",
       "0  The Rise of the Falcon      2018-04-25  Too long for a child   \n",
       "1         Controlled mind      2016-08-28  Interesting     book   \n",
       "2       Only love remains      2015-02-17       Very Impressive   \n",
       "\n",
       "           Author     ID1    ID2  \n",
       "0    John Admiral  001276  A-USA  \n",
       "1   Robert Greens  023125  B-USA  \n",
       "2  Greta Blooming  005556  E-USA  "
      ]
     },
     "execution_count": 272,
     "metadata": {},
     "output_type": "execute_result"
    }
   ],
   "source": [
    "df"
   ]
  },
  {
   "cell_type": "code",
   "execution_count": 273,
   "id": "b1a91210",
   "metadata": {},
   "outputs": [
    {
     "data": {
      "text/plain": [
       "0    True\n",
       "1    True\n",
       "2    True\n",
       "Name: ID1, dtype: boolean"
      ]
     },
     "execution_count": 273,
     "metadata": {},
     "output_type": "execute_result"
    }
   ],
   "source": [
    "df.ID1.str.isdigit()"
   ]
  },
  {
   "cell_type": "code",
   "execution_count": 274,
   "id": "d553195b",
   "metadata": {},
   "outputs": [
    {
     "data": {
      "text/plain": [
       "0    False\n",
       "1    False\n",
       "2    False\n",
       "Name: ID2, dtype: boolean"
      ]
     },
     "execution_count": 274,
     "metadata": {},
     "output_type": "execute_result"
    }
   ],
   "source": [
    "df.ID2.str.isalnum()"
   ]
  },
  {
   "cell_type": "code",
   "execution_count": 275,
   "id": "4ceae02c",
   "metadata": {},
   "outputs": [
    {
     "data": {
      "text/plain": [
       "0    -1\n",
       "1    -1\n",
       "2     5\n",
       "Name: Title, dtype: Int64"
      ]
     },
     "execution_count": 275,
     "metadata": {},
     "output_type": "execute_result"
    }
   ],
   "source": [
    "df.Title.str.find('love')"
   ]
  },
  {
   "cell_type": "code",
   "execution_count": 276,
   "id": "c1bd316a",
   "metadata": {},
   "outputs": [
    {
     "data": {
      "text/plain": [
       "0    False\n",
       "1    False\n",
       "2     True\n",
       "Name: Title, dtype: boolean"
      ]
     },
     "execution_count": 276,
     "metadata": {},
     "output_type": "execute_result"
    }
   ],
   "source": [
    "df.Title.str.find('love') > -1"
   ]
  }
 ],
 "metadata": {
  "kernelspec": {
   "display_name": "Python 3",
   "language": "python",
   "name": "python3"
  },
  "language_info": {
   "codemirror_mode": {
    "name": "ipython",
    "version": 3
   },
   "file_extension": ".py",
   "mimetype": "text/x-python",
   "name": "python",
   "nbconvert_exporter": "python",
   "pygments_lexer": "ipython3",
   "version": "3.9.6"
  }
 },
 "nbformat": 4,
 "nbformat_minor": 5
}
