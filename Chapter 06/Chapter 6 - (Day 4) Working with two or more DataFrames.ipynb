{
 "cells": [
  {
   "cell_type": "code",
   "execution_count": 2,
   "id": "ed9fb388",
   "metadata": {},
   "outputs": [],
   "source": [
    "import numpy as np\n",
    "import pandas as pd"
   ]
  },
  {
   "cell_type": "markdown",
   "id": "3545c3dc",
   "metadata": {},
   "source": [
    "# Adding data to a DataFrame\n"
   ]
  },
  {
   "cell_type": "code",
   "execution_count": 3,
   "id": "183f8052",
   "metadata": {},
   "outputs": [
    {
     "name": "stdout",
     "output_type": "stream",
     "text": [
      "   A  B  C  D\n",
      "a  1  3  9  1\n",
      "b  8  7  1  6\n",
      "c  6  0  6  3\n",
      "d  6  3  0  8\n"
     ]
    }
   ],
   "source": [
    "df1 = pd.DataFrame(np.random.randint(10, size=16).reshape(4,4), \n",
    "                     index=['a','b','c','d'], \n",
    "                     columns=['A','B','C','D'])\n",
    "print(df1)"
   ]
  },
  {
   "cell_type": "code",
   "execution_count": 4,
   "id": "62a42091",
   "metadata": {},
   "outputs": [
    {
     "name": "stdout",
     "output_type": "stream",
     "text": [
      "     A    B    C    D\n",
      "e  0.0  0.0  0.0  0.0\n",
      "f  0.0  0.0  0.0  0.0\n",
      "g  0.0  0.0  0.0  0.0\n",
      "h  0.0  0.0  0.0  0.0\n"
     ]
    }
   ],
   "source": [
    "df2 = pd.DataFrame(np.zeros(16).reshape(4,4), \n",
    "                     index=['e','f','g','h'], \n",
    "                     columns=['A','B','C','D'])\n",
    "print(df2)"
   ]
  },
  {
   "cell_type": "markdown",
   "id": "2f544f4c",
   "metadata": {},
   "source": [
    "## append()"
   ]
  },
  {
   "cell_type": "code",
   "execution_count": 5,
   "id": "f7c1a1ba",
   "metadata": {},
   "outputs": [
    {
     "name": "stdout",
     "output_type": "stream",
     "text": [
      "     A    B    C    D\n",
      "a  1.0  3.0  9.0  1.0\n",
      "b  8.0  7.0  1.0  6.0\n",
      "c  6.0  0.0  6.0  3.0\n",
      "d  6.0  3.0  0.0  8.0\n",
      "e  0.0  0.0  0.0  0.0\n",
      "f  0.0  0.0  0.0  0.0\n",
      "g  0.0  0.0  0.0  0.0\n",
      "h  0.0  0.0  0.0  0.0\n"
     ]
    }
   ],
   "source": [
    "df = df1.append(df2)\n",
    "print(df)"
   ]
  },
  {
   "cell_type": "code",
   "execution_count": 62,
   "id": "4e7f7e1d",
   "metadata": {
    "scrolled": true
   },
   "outputs": [
    {
     "name": "stdout",
     "output_type": "stream",
     "text": [
      "A    7\n",
      "B    7\n",
      "C    7\n",
      "D    7\n",
      "dtype: int64\n"
     ]
    }
   ],
   "source": [
    "ser = pd.Series([7,7,7,7], index=['A','B','C','D'])\n",
    "print(ser)"
   ]
  },
  {
   "cell_type": "code",
   "execution_count": 29,
   "id": "5826b0d1",
   "metadata": {},
   "outputs": [
    {
     "ename": "TypeError",
     "evalue": "Can only append a Series if ignore_index=True or if the Series has a name",
     "output_type": "error",
     "traceback": [
      "\u001b[1;31m---------------------------------------------------------------------------\u001b[0m",
      "\u001b[1;31mTypeError\u001b[0m                                 Traceback (most recent call last)",
      "\u001b[1;32m<ipython-input-29-13309bf8ab0a>\u001b[0m in \u001b[0;36m<module>\u001b[1;34m\u001b[0m\n\u001b[1;32m----> 1\u001b[1;33m \u001b[0mdf1\u001b[0m\u001b[1;33m.\u001b[0m\u001b[0mappend\u001b[0m\u001b[1;33m(\u001b[0m\u001b[0mser\u001b[0m\u001b[1;33m)\u001b[0m\u001b[1;33m\u001b[0m\u001b[1;33m\u001b[0m\u001b[0m\n\u001b[0m",
      "\u001b[1;32m~\\anaconda3\\envs\\mypandas\\lib\\site-packages\\pandas\\core\\frame.py\u001b[0m in \u001b[0;36mappend\u001b[1;34m(self, other, ignore_index, verify_integrity, sort)\u001b[0m\n\u001b[0;32m   8928\u001b[0m                 \u001b[0mother\u001b[0m \u001b[1;33m=\u001b[0m \u001b[0mSeries\u001b[0m\u001b[1;33m(\u001b[0m\u001b[0mother\u001b[0m\u001b[1;33m)\u001b[0m\u001b[1;33m\u001b[0m\u001b[1;33m\u001b[0m\u001b[0m\n\u001b[0;32m   8929\u001b[0m             \u001b[1;32mif\u001b[0m \u001b[0mother\u001b[0m\u001b[1;33m.\u001b[0m\u001b[0mname\u001b[0m \u001b[1;32mis\u001b[0m \u001b[1;32mNone\u001b[0m \u001b[1;32mand\u001b[0m \u001b[1;32mnot\u001b[0m \u001b[0mignore_index\u001b[0m\u001b[1;33m:\u001b[0m\u001b[1;33m\u001b[0m\u001b[1;33m\u001b[0m\u001b[0m\n\u001b[1;32m-> 8930\u001b[1;33m                 raise TypeError(\n\u001b[0m\u001b[0;32m   8931\u001b[0m                     \u001b[1;34m\"Can only append a Series if ignore_index=True \"\u001b[0m\u001b[1;33m\u001b[0m\u001b[1;33m\u001b[0m\u001b[0m\n\u001b[0;32m   8932\u001b[0m                     \u001b[1;34m\"or if the Series has a name\"\u001b[0m\u001b[1;33m\u001b[0m\u001b[1;33m\u001b[0m\u001b[0m\n",
      "\u001b[1;31mTypeError\u001b[0m: Can only append a Series if ignore_index=True or if the Series has a name"
     ]
    }
   ],
   "source": [
    "df1.append(ser)"
   ]
  },
  {
   "cell_type": "code",
   "execution_count": 63,
   "id": "4afc44a8",
   "metadata": {},
   "outputs": [
    {
     "name": "stdout",
     "output_type": "stream",
     "text": [
      "   A  B  C  D\n",
      "0  0  8  5  0\n",
      "1  3  4  1  7\n",
      "2  7  8  2  8\n",
      "3  6  7  1  4\n",
      "4  7  7  7  7\n"
     ]
    }
   ],
   "source": [
    "df2 = df1.append(ser,ignore_index=True)\n",
    "print(df2)"
   ]
  },
  {
   "cell_type": "code",
   "execution_count": 64,
   "id": "501dd468",
   "metadata": {},
   "outputs": [
    {
     "name": "stdout",
     "output_type": "stream",
     "text": [
      "A    7\n",
      "B    7\n",
      "C    7\n",
      "D    7\n",
      "Name: e, dtype: int64\n"
     ]
    }
   ],
   "source": [
    "ser = pd.Series([7,7,7,7], index=['A','B','C','D'], name='e')\n",
    "print(ser)"
   ]
  },
  {
   "cell_type": "code",
   "execution_count": 65,
   "id": "a7658e0b",
   "metadata": {},
   "outputs": [
    {
     "name": "stdout",
     "output_type": "stream",
     "text": [
      "   A  B  C  D\n",
      "a  0  8  5  0\n",
      "b  3  4  1  7\n",
      "c  7  8  2  8\n",
      "d  6  7  1  4\n",
      "e  7  7  7  7\n"
     ]
    }
   ],
   "source": [
    "df2 = df1.append(ser)   # df1.append(ser,ignore_index=False)\n",
    "print(df2)"
   ]
  },
  {
   "cell_type": "code",
   "execution_count": 66,
   "id": "61038fa3",
   "metadata": {},
   "outputs": [
    {
     "name": "stdout",
     "output_type": "stream",
     "text": [
      "   A  B  C  D\n",
      "a  0  8  5  0\n",
      "b  3  4  1  7\n",
      "c  7  8  2  8\n",
      "d  6  7  1  4\n",
      "z  7  7  7  7\n"
     ]
    }
   ],
   "source": [
    "ser.name = 'z'\n",
    "df2 = df1.append(ser)\n",
    "print(df2)"
   ]
  },
  {
   "cell_type": "code",
   "execution_count": 67,
   "id": "8449ca1e",
   "metadata": {},
   "outputs": [
    {
     "name": "stdout",
     "output_type": "stream",
     "text": [
      "   A  B  C  D\n",
      "a  0  8  5  0\n",
      "b  3  4  1  7\n",
      "c  7  8  2  8\n",
      "d  6  7  1  4\n",
      "z  7  7  7  7\n",
      "z  8  8  8  8\n",
      "z  9  9  9  9\n"
     ]
    }
   ],
   "source": [
    "df2 = df1.append([ser,ser+1,ser+2])\n",
    "print(df2)"
   ]
  },
  {
   "cell_type": "markdown",
   "id": "7ebe4ae1",
   "metadata": {},
   "source": [
    "## concat()"
   ]
  },
  {
   "cell_type": "code",
   "execution_count": 68,
   "id": "65f98441",
   "metadata": {},
   "outputs": [
    {
     "name": "stdout",
     "output_type": "stream",
     "text": [
      "   A  B  C  D\n",
      "a  0  8  5  0\n",
      "b  3  4  1  7\n",
      "c  7  8  2  8\n",
      "d  6  7  1  4\n",
      "a  0  8  5  0\n",
      "b  3  4  1  7\n",
      "c  7  8  2  8\n",
      "d  6  7  1  4\n",
      "z  7  7  7  7\n",
      "z  8  8  8  8\n",
      "z  9  9  9  9\n"
     ]
    }
   ],
   "source": [
    "df = pd.concat([df1,df2])\n",
    "print(df)"
   ]
  },
  {
   "cell_type": "code",
   "execution_count": 69,
   "id": "f9b71aa6",
   "metadata": {},
   "outputs": [
    {
     "name": "stdout",
     "output_type": "stream",
     "text": [
      "   A  B  C  D\n",
      "a  0  8  5  0\n",
      "b  3  4  1  7\n",
      "c  7  8  2  8\n",
      "d  6  7  1  4\n",
      "a  0  8  5  0\n",
      "b  3  4  1  7\n",
      "c  7  8  2  8\n",
      "d  6  7  1  4\n",
      "z  7  7  7  7\n",
      "z  8  8  8  8\n",
      "z  9  9  9  9\n",
      "a  0  8  5  0\n",
      "b  3  4  1  7\n",
      "c  7  8  2  8\n",
      "d  6  7  1  4\n"
     ]
    }
   ],
   "source": [
    "df = pd.concat([df1,df2,df1])\n",
    "print(df)"
   ]
  },
  {
   "cell_type": "code",
   "execution_count": 70,
   "id": "7cc2e146",
   "metadata": {},
   "outputs": [
    {
     "name": "stdout",
     "output_type": "stream",
     "text": [
      "a    7\n",
      "b    7\n",
      "c    7\n",
      "d    7\n",
      "Name: E, dtype: int64\n"
     ]
    }
   ],
   "source": [
    "ser = pd.Series([7,7,7,7], index=['a','b','c','d'], name='E')\n",
    "print(ser)"
   ]
  },
  {
   "cell_type": "code",
   "execution_count": 71,
   "id": "bc7df4e6",
   "metadata": {},
   "outputs": [
    {
     "name": "stdout",
     "output_type": "stream",
     "text": [
      "   A  B  C  D  E\n",
      "a  0  8  5  0  7\n",
      "b  3  4  1  7  7\n",
      "c  7  8  2  8  7\n",
      "d  6  7  1  4  7\n"
     ]
    }
   ],
   "source": [
    "df = pd.concat([df1,ser],axis=1)\n",
    "print(df)"
   ]
  },
  {
   "cell_type": "code",
   "execution_count": 72,
   "id": "0a0ac29e",
   "metadata": {},
   "outputs": [
    {
     "name": "stdout",
     "output_type": "stream",
     "text": [
      "     A    B    C    D    E\n",
      "a  0.0  8.0  5.0  0.0  7.0\n",
      "b  3.0  4.0  1.0  7.0  NaN\n",
      "c  7.0  8.0  2.0  8.0  7.0\n",
      "d  6.0  7.0  1.0  4.0  7.0\n",
      "e  NaN  NaN  NaN  NaN  7.0\n",
      "f  NaN  NaN  NaN  NaN  7.0\n"
     ]
    }
   ],
   "source": [
    "ser = pd.Series([7,7,7,7,7], index=['a','c','d','e','f'], name='E')\n",
    "df = pd.concat([df1,ser],axis=1)\n",
    "print(df)"
   ]
  },
  {
   "cell_type": "code",
   "execution_count": 73,
   "id": "21e83f92",
   "metadata": {},
   "outputs": [
    {
     "name": "stdout",
     "output_type": "stream",
     "text": [
      "   A  B  C  D  E\n",
      "a  0  8  5  0  7\n",
      "c  7  8  2  8  7\n",
      "d  6  7  1  4  7\n"
     ]
    }
   ],
   "source": [
    "ser = pd.Series([7,7,7,7,7], index=['a','c','d','e','f'], name='E')\n",
    "df = pd.concat([df1,ser],axis=1,join='inner')\n",
    "print(df)"
   ]
  },
  {
   "cell_type": "code",
   "execution_count": 74,
   "id": "91caf122",
   "metadata": {},
   "outputs": [
    {
     "name": "stdout",
     "output_type": "stream",
     "text": [
      "   A  B  C  D  E  E  E  A  B  C  D\n",
      "a  0  8  5  0  7  8  9  0  8  5  0\n",
      "b  3  4  1  7  7  8  9  3  4  1  7\n",
      "c  7  8  2  8  7  8  9  7  8  2  8\n",
      "d  6  7  1  4  7  8  9  6  7  1  4\n"
     ]
    }
   ],
   "source": [
    "ser = pd.Series([7,7,7,7], index=['a','b','c','d'], name='E')\n",
    "ser2 = ser + 1\n",
    "ser3 = ser + 2\n",
    "df = pd.concat([df1,ser,ser2,ser3,df1],axis=1)\n",
    "print(df)"
   ]
  },
  {
   "cell_type": "markdown",
   "id": "61f8b5bf",
   "metadata": {},
   "source": [
    "## Merge\n"
   ]
  },
  {
   "cell_type": "code",
   "execution_count": 75,
   "id": "dc7669b9",
   "metadata": {},
   "outputs": [
    {
     "name": "stdout",
     "output_type": "stream",
     "text": [
      "   A  B  C  D\n",
      "a  1  7  9  4\n",
      "b  2  5  8  8\n",
      "c  5  2  6  2\n",
      "d  5  0  1  6\n",
      "   B  C  D  E\n",
      "b  7  9  4  1\n",
      "c  2  2  5  8\n",
      "d  6  8  7  2\n",
      "e  2  3  6  0\n"
     ]
    }
   ],
   "source": [
    "df1 = pd.DataFrame(np.random.randint(10, size=16).reshape(4,4), \n",
    "                     index=['a','b','c','d'], \n",
    "                     columns=['A','B','C','D'])\n",
    "df2 = pd.DataFrame(np.random.randint(10, size=16).reshape(4,4), \n",
    "                     index=['b','c','d','e'], \n",
    "                     columns=['B','C','D','E'])\n",
    "print(df1)\n",
    "print(df2)"
   ]
  },
  {
   "cell_type": "code",
   "execution_count": 76,
   "id": "d0a54df3",
   "metadata": {},
   "outputs": [
    {
     "name": "stdout",
     "output_type": "stream",
     "text": [
      "   A  B  C_x  D_x  C_y  D_y    E\n",
      "0  1  7    9    4  9.0  4.0  1.0\n",
      "1  2  5    8    8  NaN  NaN  NaN\n",
      "2  5  2    6    2  2.0  5.0  8.0\n",
      "3  5  2    6    2  3.0  6.0  0.0\n",
      "4  5  0    1    6  NaN  NaN  NaN\n"
     ]
    }
   ],
   "source": [
    "df = pd.merge(df1,df2, on = 'B', how='left')\n",
    "print(df)"
   ]
  },
  {
   "cell_type": "markdown",
   "id": "43789342",
   "metadata": {},
   "source": [
    "Utilizzando invece una logica RIGHT sul joining si ottiene il risultato perfettamente opposto a quello precedente."
   ]
  },
  {
   "cell_type": "code",
   "execution_count": 77,
   "id": "6ac1c28d",
   "metadata": {},
   "outputs": [
    {
     "name": "stdout",
     "output_type": "stream",
     "text": [
      "     A  B  C_x  D_x  C_y  D_y  E\n",
      "0  1.0  7  9.0  4.0    9    4  1\n",
      "1  5.0  2  6.0  2.0    2    5  8\n",
      "2  NaN  6  NaN  NaN    8    7  2\n",
      "3  5.0  2  6.0  2.0    3    6  0\n"
     ]
    }
   ],
   "source": [
    "df = pd.merge(df1,df2, on = 'B', how='right')\n",
    "print(df)"
   ]
  },
  {
   "cell_type": "code",
   "execution_count": 78,
   "id": "3a9443ea",
   "metadata": {},
   "outputs": [
    {
     "name": "stdout",
     "output_type": "stream",
     "text": [
      "     A  B  C_x  D_x  C_y  D_y    E\n",
      "0  1.0  7  9.0  4.0  9.0  4.0  1.0\n",
      "1  2.0  5  8.0  8.0  NaN  NaN  NaN\n",
      "2  5.0  2  6.0  2.0  2.0  5.0  8.0\n",
      "3  5.0  2  6.0  2.0  3.0  6.0  0.0\n",
      "4  5.0  0  1.0  6.0  NaN  NaN  NaN\n",
      "5  NaN  6  NaN  NaN  8.0  7.0  2.0\n"
     ]
    }
   ],
   "source": [
    "df = pd.merge(df1,df2, on = 'B', how='outer')\n",
    "print(df)"
   ]
  },
  {
   "cell_type": "code",
   "execution_count": 79,
   "id": "a158a3d1",
   "metadata": {},
   "outputs": [
    {
     "name": "stdout",
     "output_type": "stream",
     "text": [
      "   A  B  C_x  D_x  C_y  D_y  E\n",
      "0  1  7    9    4    9    4  1\n",
      "1  5  2    6    2    2    5  8\n",
      "2  5  2    6    2    3    6  0\n"
     ]
    }
   ],
   "source": [
    "df = pd.merge(df1,df2, on = 'B', how='inner')\n",
    "print(df)"
   ]
  },
  {
   "cell_type": "code",
   "execution_count": 80,
   "id": "ee3c2c1b",
   "metadata": {},
   "outputs": [
    {
     "name": "stdout",
     "output_type": "stream",
     "text": [
      "   A  B  C_x  D_x  C_y  D_y  E\n",
      "0  1  7    9    4    9    4  1\n",
      "1  5  2    6    2    2    5  8\n",
      "2  5  2    6    2    3    6  0\n"
     ]
    }
   ],
   "source": [
    "df = pd.merge(df1,df2, on = 'B')\n",
    "print(df)"
   ]
  },
  {
   "cell_type": "markdown",
   "id": "841dcce2",
   "metadata": {},
   "source": [
    "# Arithmetic with DataFrames"
   ]
  },
  {
   "cell_type": "code",
   "execution_count": 81,
   "id": "8fffdf96",
   "metadata": {},
   "outputs": [
    {
     "name": "stdout",
     "output_type": "stream",
     "text": [
      "   A  B  C  D\n",
      "a  0  1  7  3\n",
      "b  4  4  5  0\n",
      "c  5  2  7  2\n",
      "d  9  9  7  1\n"
     ]
    }
   ],
   "source": [
    "df1 = pd.DataFrame(np.random.randint(10, size=16).reshape(4,4), \n",
    "                     index=['a','b','c','d'], \n",
    "                     columns=['A','B','C','D'])\n",
    "print(df1)"
   ]
  },
  {
   "cell_type": "code",
   "execution_count": 82,
   "id": "0658c0b0",
   "metadata": {},
   "outputs": [
    {
     "name": "stdout",
     "output_type": "stream",
     "text": [
      "   A  B  C  D\n",
      "a  4  5  2  1\n",
      "b  2  2  3  9\n",
      "c  9  9  8  2\n",
      "d  6  5  4  4\n"
     ]
    }
   ],
   "source": [
    "df2 = pd.DataFrame(np.random.randint(10, size=16).reshape(4,4), \n",
    "                     index=['a','b','c','d'], \n",
    "                     columns=['A','B','C','D'])\n",
    "print(df2)"
   ]
  },
  {
   "cell_type": "code",
   "execution_count": 83,
   "id": "a29a2402",
   "metadata": {},
   "outputs": [
    {
     "name": "stdout",
     "output_type": "stream",
     "text": [
      "    A   B   C  D\n",
      "a   4   6   9  4\n",
      "b   6   6   8  9\n",
      "c  14  11  15  4\n",
      "d  15  14  11  5\n"
     ]
    }
   ],
   "source": [
    "print(df1 + df2)"
   ]
  },
  {
   "cell_type": "code",
   "execution_count": 84,
   "id": "30275b77",
   "metadata": {},
   "outputs": [
    {
     "name": "stdout",
     "output_type": "stream",
     "text": [
      "    A   B  C   D\n",
      "a  -8  -9  3   1\n",
      "b   0   0 -1 -18\n",
      "c -13 -16 -9  -2\n",
      "d  -3  -1 -1  -7\n"
     ]
    }
   ],
   "source": [
    "print(df1 - 2*df2)\n"
   ]
  },
  {
   "cell_type": "code",
   "execution_count": 85,
   "id": "e5a57289",
   "metadata": {},
   "outputs": [
    {
     "name": "stdout",
     "output_type": "stream",
     "text": [
      "       A      B      C      D\n",
      "a  False  False   True   True\n",
      "b   True   True   True  False\n",
      "c  False  False  False  False\n",
      "d   True   True   True  False\n"
     ]
    }
   ],
   "source": [
    "print(df1 > df2)"
   ]
  },
  {
   "cell_type": "code",
   "execution_count": 87,
   "id": "057a0a63",
   "metadata": {},
   "outputs": [
    {
     "name": "stdout",
     "output_type": "stream",
     "text": [
      "   A  B  C  D\n",
      "a  7  8  8  8\n",
      "b  8  7  5  1\n",
      "c  8  4  8  5\n",
      "d  6  7  7  9\n",
      "   B  C  D  E\n",
      "a  4  1  4  1\n",
      "b  2  9  0  0\n",
      "c  2  0  0  6\n",
      "d  7  5  4  7\n"
     ]
    }
   ],
   "source": [
    "df1 = pd.DataFrame(np.random.randint(10, size=16).reshape(4,4), \n",
    "                     index=['a','b','c','d'], \n",
    "                     columns=['A','B','C','D'])\n",
    "df2 = pd.DataFrame(np.random.randint(10, size=16).reshape(4,4), \n",
    "                     index=['a','b','c','d'], \n",
    "                     columns=['B','C','D','E'])\n",
    "print(df1)\n",
    "print(df2)"
   ]
  },
  {
   "cell_type": "code",
   "execution_count": 88,
   "id": "67ef34b9",
   "metadata": {},
   "outputs": [
    {
     "name": "stdout",
     "output_type": "stream",
     "text": [
      "    A   B   C   D   E\n",
      "a NaN  12   9  12 NaN\n",
      "b NaN   9  14   1 NaN\n",
      "c NaN   6   8   5 NaN\n",
      "d NaN  14  12  13 NaN\n"
     ]
    }
   ],
   "source": [
    "print(df1 + df2)"
   ]
  },
  {
   "cell_type": "code",
   "execution_count": 91,
   "id": "c5ac5843",
   "metadata": {},
   "outputs": [
    {
     "name": "stdout",
     "output_type": "stream",
     "text": [
      "   A  B  C  D\n",
      "a  2  7  6  9\n",
      "b  7  0  7  6\n",
      "c  2  6  4  8\n",
      "d  3  6  2  7\n",
      "   A  B  C  D\n",
      "b  1  2  6  8\n",
      "c  3  4  1  6\n",
      "d  2  5  5  1\n",
      "e  0  1  5  2\n"
     ]
    }
   ],
   "source": [
    "df1 = pd.DataFrame(np.random.randint(10, size=16).reshape(4,4), \n",
    "                     index=['a','b','c','d'], \n",
    "                     columns=['A','B','C','D'])\n",
    "df2 = pd.DataFrame(np.random.randint(10, size=16).reshape(4,4), \n",
    "                     index=['b','c','d','e'], \n",
    "                     columns=['A','B','C','D'])\n",
    "print(df1)\n",
    "print(df2)"
   ]
  },
  {
   "cell_type": "code",
   "execution_count": 92,
   "id": "3f12bc8e",
   "metadata": {},
   "outputs": [
    {
     "name": "stdout",
     "output_type": "stream",
     "text": [
      "     A     B     C     D\n",
      "a  NaN   NaN   NaN   NaN\n",
      "b  8.0   2.0  13.0  14.0\n",
      "c  5.0  10.0   5.0  14.0\n",
      "d  5.0  11.0   7.0   8.0\n",
      "e  NaN   NaN   NaN   NaN\n"
     ]
    }
   ],
   "source": [
    "print(df1 + df2)"
   ]
  },
  {
   "cell_type": "code",
   "execution_count": 93,
   "id": "6b1a2049",
   "metadata": {},
   "outputs": [
    {
     "name": "stdout",
     "output_type": "stream",
     "text": [
      "   A  B  C  D\n",
      "a  4  7  9  6\n",
      "b  1  3  1  2\n",
      "c  8  9  4  3\n",
      "d  5  0  2  1\n",
      "A    2\n",
      "B    0\n",
      "C    8\n",
      "D    2\n",
      "dtype: int32\n"
     ]
    }
   ],
   "source": [
    "df1 = pd.DataFrame(np.random.randint(10, size=16).reshape(4,4), \n",
    "                     index=['a','b','c','d'], \n",
    "                     columns=['A','B','C','D'])\n",
    "ser = pd.Series(np.random.randint(10, size=4), \n",
    "                     index=['A','B','C','D'])\n",
    "print(df1)\n",
    "print(ser)"
   ]
  },
  {
   "cell_type": "code",
   "execution_count": 94,
   "id": "625d3a94",
   "metadata": {},
   "outputs": [
    {
     "name": "stdout",
     "output_type": "stream",
     "text": [
      "    A  B   C  D\n",
      "a   6  7  17  8\n",
      "b   3  3   9  4\n",
      "c  10  9  12  5\n",
      "d   7  0  10  3\n"
     ]
    }
   ],
   "source": [
    "print(df1 + ser)"
   ]
  },
  {
   "cell_type": "code",
   "execution_count": 95,
   "id": "094dcec1",
   "metadata": {},
   "outputs": [
    {
     "name": "stdout",
     "output_type": "stream",
     "text": [
      "   A  B  C  D\n",
      "a  0  3  2  3\n",
      "b  6  0  1  8\n",
      "c  8  2  2  3\n",
      "d  5  1  8  9\n",
      "B    3\n",
      "C    4\n",
      "D    0\n",
      "E    5\n",
      "dtype: int32\n"
     ]
    }
   ],
   "source": [
    "df1 = pd.DataFrame(np.random.randint(10, size=16).reshape(4,4), \n",
    "                     index=['a','b','c','d'], \n",
    "                     columns=['A','B','C','D'])\n",
    "ser = pd.Series(np.random.randint(10, size=4), \n",
    "                     index=['B','C','D','E'])\n",
    "print(df1)\n",
    "print(ser)"
   ]
  },
  {
   "cell_type": "code",
   "execution_count": 96,
   "id": "ea471349",
   "metadata": {},
   "outputs": [
    {
     "name": "stdout",
     "output_type": "stream",
     "text": [
      "    A    B     C    D   E\n",
      "a NaN  6.0   6.0  3.0 NaN\n",
      "b NaN  3.0   5.0  8.0 NaN\n",
      "c NaN  5.0   6.0  3.0 NaN\n",
      "d NaN  4.0  12.0  9.0 NaN\n"
     ]
    }
   ],
   "source": [
    "print(df1 + ser)"
   ]
  },
  {
   "cell_type": "markdown",
   "id": "72d286e5",
   "metadata": {},
   "source": [
    "# Flexible binary arithmetic methods"
   ]
  },
  {
   "cell_type": "code",
   "execution_count": 98,
   "id": "c1d81554",
   "metadata": {},
   "outputs": [
    {
     "name": "stdout",
     "output_type": "stream",
     "text": [
      "   A  B  C  D\n",
      "a  5  9  5  4\n",
      "b  9  5  8  6\n",
      "c  8  7  7  1\n",
      "d  9  2  4  0\n",
      "   A  B  C  D\n",
      "b  2  4  3  7\n",
      "c  2  1  8  8\n",
      "d  6  1  9  3\n",
      "e  7  0  0  9\n"
     ]
    }
   ],
   "source": [
    "df1 = pd.DataFrame(np.random.randint(10, size=16).reshape(4,4), \n",
    "                     index=['a','b','c','d'], \n",
    "                     columns=['A','B','C','D'])\n",
    "df2 = pd.DataFrame(np.random.randint(10, size=16).reshape(4,4), \n",
    "                     index=['b','c','d','e'], \n",
    "                     columns=['A','B','C','D'])\n",
    "print(df1)\n",
    "print(df2)"
   ]
  },
  {
   "cell_type": "code",
   "execution_count": 99,
   "id": "04ee616c",
   "metadata": {},
   "outputs": [
    {
     "name": "stdout",
     "output_type": "stream",
     "text": [
      "      A    B     C     D\n",
      "a   NaN  NaN   NaN   NaN\n",
      "b  11.0  9.0  11.0  13.0\n",
      "c  10.0  8.0  15.0   9.0\n",
      "d  15.0  3.0  13.0   3.0\n",
      "e   NaN  NaN   NaN   NaN\n"
     ]
    }
   ],
   "source": [
    "df = df1.add(df2)\n",
    "print(df)"
   ]
  },
  {
   "cell_type": "code",
   "execution_count": 100,
   "id": "44597535",
   "metadata": {
    "scrolled": true
   },
   "outputs": [
    {
     "name": "stdout",
     "output_type": "stream",
     "text": [
      "      A    B     C     D\n",
      "a   NaN  NaN   NaN   NaN\n",
      "b  11.0  9.0  11.0  13.0\n",
      "c  10.0  8.0  15.0   9.0\n",
      "d  15.0  3.0  13.0   3.0\n",
      "e   NaN  NaN   NaN   NaN\n"
     ]
    }
   ],
   "source": [
    "df = df1 + df2  \n",
    "print(df)"
   ]
  },
  {
   "cell_type": "code",
   "execution_count": 45,
   "id": "b3b0f1fb",
   "metadata": {},
   "outputs": [
    {
     "name": "stdout",
     "output_type": "stream",
     "text": [
      "A    1\n",
      "B    1\n",
      "C    1\n",
      "D    1\n",
      "dtype: int64\n"
     ]
    }
   ],
   "source": [
    "ser = pd.Series([1,1,1,1],index=['A','B','C','D'])\n",
    "print(ser)"
   ]
  },
  {
   "cell_type": "code",
   "execution_count": 101,
   "id": "406cb016",
   "metadata": {},
   "outputs": [
    {
     "name": "stdout",
     "output_type": "stream",
     "text": [
      "    A     B     C    D   E\n",
      "a NaN  12.0   9.0  4.0 NaN\n",
      "b NaN   8.0  12.0  6.0 NaN\n",
      "c NaN  10.0  11.0  1.0 NaN\n",
      "d NaN   5.0   8.0  0.0 NaN\n"
     ]
    }
   ],
   "source": [
    "df = df1.add(ser)\n",
    "print(df)"
   ]
  },
  {
   "cell_type": "code",
   "execution_count": 102,
   "id": "9f2c1c0a",
   "metadata": {},
   "outputs": [
    {
     "name": "stdout",
     "output_type": "stream",
     "text": [
      "    A     B     C    D   E\n",
      "a NaN  12.0   9.0  4.0 NaN\n",
      "b NaN   8.0  12.0  6.0 NaN\n",
      "c NaN  10.0  11.0  1.0 NaN\n",
      "d NaN   5.0   8.0  0.0 NaN\n"
     ]
    }
   ],
   "source": [
    "df = df1 + ser\n",
    "print(df)"
   ]
  },
  {
   "cell_type": "code",
   "execution_count": 103,
   "id": "fd484169",
   "metadata": {},
   "outputs": [
    {
     "name": "stdout",
     "output_type": "stream",
     "text": [
      "    A   B   C  D\n",
      "a   6  10   6  5\n",
      "b  11   7  10  8\n",
      "c  11  10  10  4\n",
      "d  13   6   8  4\n"
     ]
    }
   ],
   "source": [
    "ser = pd.Series([1,2,3,4], index=['a','b','c','d'])\n",
    "\n",
    "df = df1.add(ser, axis=0) # df.add(df2, axis='index')\n",
    "print(df)"
   ]
  },
  {
   "cell_type": "code",
   "execution_count": 106,
   "id": "80cf9de0",
   "metadata": {},
   "outputs": [
    {
     "name": "stdout",
     "output_type": "stream",
     "text": [
      "    A   B   C   D   a   b   c   d\n",
      "a NaN NaN NaN NaN NaN NaN NaN NaN\n",
      "b NaN NaN NaN NaN NaN NaN NaN NaN\n",
      "c NaN NaN NaN NaN NaN NaN NaN NaN\n",
      "d NaN NaN NaN NaN NaN NaN NaN NaN\n"
     ]
    }
   ],
   "source": [
    "df = df1 + ser\n",
    "print(df)"
   ]
  },
  {
   "cell_type": "code",
   "execution_count": 107,
   "id": "8a3c1dc9",
   "metadata": {},
   "outputs": [
    {
     "name": "stdout",
     "output_type": "stream",
     "text": [
      "high           X       Y    \n",
      "low            A   B   A   B\n",
      "first second                \n",
      "x     a        1   2   3   4\n",
      "      b        5   6   7   8\n",
      "y     a        9  10  11  12\n",
      "      b       13  14  15  16\n"
     ]
    }
   ],
   "source": [
    "tuples = [('x', 'a'), ('x', 'b'), ('y', 'a'), ('y', 'b')]\n",
    "index = pd.MultiIndex.from_tuples(tuples, names=['first','second'])\n",
    "tuples = [('X', 'A'), ('X', 'B'), ('Y', 'A'), ('Y', 'B')]\n",
    "columns = pd.MultiIndex.from_tuples(tuples, names=['high','low'])\n",
    "dfm = pd.DataFrame(np.arange(1,17).reshape(4,4) , index = index, columns = columns)\n",
    "print(dfm)\n",
    "\n"
   ]
  },
  {
   "cell_type": "code",
   "execution_count": 108,
   "id": "059f7901",
   "metadata": {},
   "outputs": [
    {
     "name": "stdout",
     "output_type": "stream",
     "text": [
      "high          X      Y    \n",
      "low           A   B  A   B\n",
      "first second              \n",
      "x     a      -9 -18 -7 -16\n",
      "      b      -5 -14 -3 -12\n",
      "y     a      -1 -10  1  -8\n",
      "      b       3  -6  5  -4\n"
     ]
    }
   ],
   "source": [
    "ser = pd.Series([10,20], index=['A','B'])\n",
    "df = dfm.sub(ser, level='low')\n",
    "print(df)"
   ]
  },
  {
   "cell_type": "code",
   "execution_count": 109,
   "id": "146f8619",
   "metadata": {},
   "outputs": [
    {
     "name": "stdout",
     "output_type": "stream",
     "text": [
      "high          X      Y    \n",
      "low           A  B   A   B\n",
      "first second              \n",
      "x     a      -9 -8 -17 -16\n",
      "      b      -5 -4 -13 -12\n",
      "y     a      -1  0  -9  -8\n",
      "      b       3  4  -5  -4\n"
     ]
    }
   ],
   "source": [
    "ser = pd.Series([10,20], index=['X','Y'])\n",
    "df = dfm.sub(ser, level='high')\n",
    "print(df)"
   ]
  },
  {
   "cell_type": "code",
   "execution_count": 110,
   "id": "cc27073b",
   "metadata": {},
   "outputs": [
    {
     "name": "stdout",
     "output_type": "stream",
     "text": [
      "high           X       Y    \n",
      "low            A   B   A   B\n",
      "first second                \n",
      "x     a       -9  -8  -7  -6\n",
      "      b      -15 -14 -13 -12\n",
      "y     a       -1   0   1   2\n",
      "      b       -7  -6  -5  -4\n"
     ]
    }
   ],
   "source": [
    "ser = pd.Series([10,20], index=['a','b'])\n",
    "df = dfm.sub(ser, level='second',axis=0)\n",
    "print(df)"
   ]
  },
  {
   "cell_type": "code",
   "execution_count": 111,
   "id": "a875329f",
   "metadata": {},
   "outputs": [
    {
     "name": "stdout",
     "output_type": "stream",
     "text": [
      "high           X      Y   \n",
      "low            A   B  A  B\n",
      "first second              \n",
      "x     a       -9  -8 -7 -6\n",
      "      b       -5  -4 -3 -2\n",
      "y     a      -11 -10 -9 -8\n",
      "      b       -7  -6 -5 -4\n"
     ]
    }
   ],
   "source": [
    "ser = pd.Series([10,20], index=['x','y'])\n",
    "df = dfm.sub(ser, level='first',axis=0)\n",
    "print(df)"
   ]
  },
  {
   "cell_type": "code",
   "execution_count": 112,
   "id": "ce9d8c14",
   "metadata": {},
   "outputs": [
    {
     "name": "stdout",
     "output_type": "stream",
     "text": [
      "   A  B\n",
      "a  5  0\n",
      "b  4  1\n"
     ]
    }
   ],
   "source": [
    "df3 = pd.DataFrame(np.random.randint(10, size=4).reshape(2,2), \n",
    "                     index=['a','b'], \n",
    "                     columns=['A','B'])\n",
    "print(df3)"
   ]
  },
  {
   "cell_type": "code",
   "execution_count": 113,
   "id": "5296f4ef",
   "metadata": {},
   "outputs": [
    {
     "name": "stdout",
     "output_type": "stream",
     "text": [
      "high           X       Y    \n",
      "low            A   B   A   B\n",
      "first second                \n",
      "x     a        6   2   8   4\n",
      "      b        9   7  11   9\n",
      "y     a       14  10  16  12\n",
      "      b       17  15  19  17\n"
     ]
    }
   ],
   "source": [
    "df= dfm.add(df3, axis=1, level=1)\n",
    "print(df)"
   ]
  },
  {
   "cell_type": "code",
   "execution_count": 115,
   "id": "c54fd76b",
   "metadata": {},
   "outputs": [
    {
     "name": "stdout",
     "output_type": "stream",
     "text": [
      "A    5\n",
      "B    9\n",
      "C    5\n",
      "D    4\n",
      "Name: a, dtype: int32\n",
      "a    5\n",
      "b    9\n",
      "c    8\n",
      "d    9\n",
      "Name: A, dtype: int32\n"
     ]
    }
   ],
   "source": [
    "row = df1.iloc[0]\n",
    "print(row)\n",
    "column = df1['A']\n",
    "print(column)"
   ]
  },
  {
   "cell_type": "code",
   "execution_count": 116,
   "id": "28d21b3e",
   "metadata": {},
   "outputs": [
    {
     "name": "stdout",
     "output_type": "stream",
     "text": [
      "    A   B   C   D\n",
      "a  25  45  25  20\n",
      "b  81  45  72  54\n",
      "c  64  56  56   8\n",
      "d  81  18  36   0\n"
     ]
    }
   ],
   "source": [
    "df = df1.mul(column, axis=0)\n",
    "print(df)"
   ]
  },
  {
   "cell_type": "code",
   "execution_count": 117,
   "id": "f7cbb037",
   "metadata": {},
   "outputs": [
    {
     "name": "stdout",
     "output_type": "stream",
     "text": [
      "    A   B   C   D\n",
      "a  25  81  25  16\n",
      "b  45  45  40  24\n",
      "c  40  63  35   4\n",
      "d  45  18  20   0\n"
     ]
    }
   ],
   "source": [
    "df = df1.mul(row, axis=1)\n",
    "print(df)"
   ]
  },
  {
   "cell_type": "code",
   "execution_count": 118,
   "id": "b487e093",
   "metadata": {},
   "outputs": [
    {
     "name": "stdout",
     "output_type": "stream",
     "text": [
      "   A  B  C  D\n",
      "a  0  6  8  0\n",
      "b  2  1  6  5\n",
      "c  7  2  7  0\n",
      "d  3  5  3  2\n",
      "   A  B  C  D\n",
      "b  7  0  5  4\n",
      "c  1  8  3  2\n",
      "d  2  5  2  1\n",
      "e  9  6  6  2\n",
      "b    7\n",
      "c    1\n",
      "d    2\n",
      "e    9\n",
      "Name: A, dtype: int32\n"
     ]
    }
   ],
   "source": [
    "df1 = pd.DataFrame(np.random.randint(10, size=16).reshape(4,4), \n",
    "                     index=['a','b','c','d'], \n",
    "                     columns=['A','B','C','D'])\n",
    "df2 = pd.DataFrame(np.random.randint(10, size=16).reshape(4,4), \n",
    "                     index=['b','c','d','e'], \n",
    "                     columns=['A','B','C','D'])\n",
    "print(df1)\n",
    "print(df2)\n",
    "\n",
    "column = df2['A']\n",
    "print(column)"
   ]
  },
  {
   "cell_type": "code",
   "execution_count": 119,
   "id": "edbcda00",
   "metadata": {},
   "outputs": [
    {
     "name": "stdout",
     "output_type": "stream",
     "text": [
      "   A  B\n",
      "b  2  1\n",
      "c  7  2\n",
      "d  3  5\n"
     ]
    }
   ],
   "source": [
    "df = df1.loc['b':'d',['A','B']]\n",
    "print(df)"
   ]
  },
  {
   "cell_type": "code",
   "execution_count": 120,
   "id": "817391e1",
   "metadata": {},
   "outputs": [
    {
     "name": "stdout",
     "output_type": "stream",
     "text": [
      "      A     B\n",
      "b  49.0   0.0\n",
      "c   1.0   8.0\n",
      "d   4.0  10.0\n",
      "e   NaN   NaN\n"
     ]
    }
   ],
   "source": [
    "df = df2.loc['b':'d',['A','B']].mul(column, axis=0)\n",
    "print(df)"
   ]
  },
  {
   "cell_type": "markdown",
   "id": "eeb9c4a8",
   "metadata": {},
   "source": [
    "## The relative binary methods"
   ]
  },
  {
   "cell_type": "code",
   "execution_count": 121,
   "id": "fdb3eec9",
   "metadata": {},
   "outputs": [
    {
     "name": "stdout",
     "output_type": "stream",
     "text": [
      "      A     B\n",
      "b  49.0   0.0\n",
      "c   1.0   8.0\n",
      "d   4.0  10.0\n",
      "e   NaN   NaN\n",
      "      A     B\n",
      "b  49.0   0.0\n",
      "c   1.0   8.0\n",
      "d   4.0  10.0\n",
      "e   NaN   NaN\n"
     ]
    }
   ],
   "source": [
    "# Operazioni binarie relative\n",
    "\n",
    "print(df / 1)\n",
    "print(df.div(1))"
   ]
  },
  {
   "cell_type": "code",
   "execution_count": 122,
   "id": "fd7cc612",
   "metadata": {},
   "outputs": [
    {
     "name": "stdout",
     "output_type": "stream",
     "text": [
      "          A      B\n",
      "b  0.020408    inf\n",
      "c  1.000000  0.125\n",
      "d  0.250000  0.100\n",
      "e       NaN    NaN\n",
      "          A      B\n",
      "b  0.020408    inf\n",
      "c  1.000000  0.125\n",
      "d  0.250000  0.100\n",
      "e       NaN    NaN\n"
     ]
    }
   ],
   "source": [
    "print(1 / df)\n",
    "print(df.rdiv(1))"
   ]
  },
  {
   "cell_type": "markdown",
   "id": "9153eaa0",
   "metadata": {},
   "source": [
    "## Boolean operations"
   ]
  },
  {
   "cell_type": "code",
   "execution_count": 123,
   "id": "96c22d43",
   "metadata": {},
   "outputs": [
    {
     "name": "stdout",
     "output_type": "stream",
     "text": [
      "   A  B  C  D\n",
      "a  1  9  2  8\n",
      "b  2  4  7  8\n",
      "c  1  3  4  7\n",
      "d  1  4  5  1\n",
      "   A  B  C  D\n",
      "a  0  8  1  5\n",
      "b  3  7  1  8\n",
      "c  1  5  7  2\n",
      "d  7  0  3  1\n"
     ]
    }
   ],
   "source": [
    "df1 = pd.DataFrame(np.random.randint(10, size=16).reshape(4,4), \n",
    "                     index=['a','b','c','d'], \n",
    "                     columns=['A','B','C','D'])\n",
    "df2 = pd.DataFrame(np.random.randint(10, size=16).reshape(4,4), \n",
    "                     index=['a','b','c','d'], \n",
    "                     columns=['A','B','C','D'])\n",
    "print(df1)\n",
    "print(df2)"
   ]
  },
  {
   "cell_type": "code",
   "execution_count": 124,
   "id": "277507e0",
   "metadata": {},
   "outputs": [
    {
     "name": "stdout",
     "output_type": "stream",
     "text": [
      "       A      B      C      D\n",
      "a   True   True   True   True\n",
      "b  False  False   True  False\n",
      "c  False  False  False   True\n",
      "d  False   True   True  False\n"
     ]
    }
   ],
   "source": [
    "print(df1 > df2)"
   ]
  },
  {
   "cell_type": "code",
   "execution_count": 125,
   "id": "c6b9759b",
   "metadata": {},
   "outputs": [
    {
     "name": "stdout",
     "output_type": "stream",
     "text": [
      "     A    B    C    D\n",
      "a  1.0  9.0  2.0  8.0\n",
      "b  NaN  NaN  7.0  NaN\n",
      "c  NaN  NaN  NaN  7.0\n",
      "d  NaN  4.0  5.0  NaN\n"
     ]
    }
   ],
   "source": [
    "df = df1[df1 > df2]\n",
    "print(df)"
   ]
  },
  {
   "cell_type": "code",
   "execution_count": 126,
   "id": "0d69e157",
   "metadata": {},
   "outputs": [
    {
     "name": "stdout",
     "output_type": "stream",
     "text": [
      "       A      B      C      D\n",
      "a  False  False  False  False\n",
      "b   True   True  False  False\n",
      "c  False   True   True  False\n",
      "d   True  False  False  False\n"
     ]
    }
   ],
   "source": [
    "df = df1.lt(df2) # df1 > df2 \n",
    "print(df)"
   ]
  },
  {
   "cell_type": "code",
   "execution_count": 127,
   "id": "08238d0d",
   "metadata": {},
   "outputs": [
    {
     "name": "stdout",
     "output_type": "stream",
     "text": [
      "       A      B      C      D\n",
      "a  False  False  False  False\n",
      "b   True  False  False  False\n",
      "c  False  False  False  False\n",
      "d   True   True   True   True\n"
     ]
    }
   ],
   "source": [
    "df = df1.lt(df2['A'], axis=0)\n",
    "print(df)"
   ]
  },
  {
   "cell_type": "markdown",
   "id": "81083350",
   "metadata": {},
   "source": [
    "# Aligning "
   ]
  },
  {
   "cell_type": "code",
   "execution_count": 6,
   "id": "d55418e2",
   "metadata": {},
   "outputs": [
    {
     "name": "stdout",
     "output_type": "stream",
     "text": [
      "   A  B  D  E\n",
      "a  6  5  9  2\n",
      "b  8  0  4  0\n",
      "c  8  6  5  5\n",
      "d  2  1  3  3\n",
      "   A  C  D  E\n",
      "b  1  6  8  8\n",
      "c  2  2  0  7\n",
      "d  8  6  5  5\n",
      "e  6  3  0  1\n"
     ]
    }
   ],
   "source": [
    "df1 = pd.DataFrame(np.random.randint(10, size=16).reshape(4,4), \n",
    "                     index=['a','b','c','d'], \n",
    "                     columns=['A','B','D','E'])\n",
    "df2 = pd.DataFrame(np.random.randint(10, size=16).reshape(4,4), \n",
    "                     index=['b','c','d','e'], \n",
    "                     columns=['A','C','D','E'])\n",
    "print(df1)\n",
    "print(df2)"
   ]
  },
  {
   "cell_type": "code",
   "execution_count": 130,
   "id": "2aea5de4",
   "metadata": {},
   "outputs": [
    {
     "name": "stdout",
     "output_type": "stream",
     "text": [
      "     A    B   C    D    E\n",
      "a  2.0  3.0 NaN  6.0  3.0\n",
      "b  9.0  3.0 NaN  2.0  9.0\n",
      "c  1.0  2.0 NaN  1.0  4.0\n",
      "d  5.0  3.0 NaN  9.0  7.0\n",
      "e  NaN  NaN NaN  NaN  NaN\n",
      "     A   B    C    D    E\n",
      "a  NaN NaN  NaN  NaN  NaN\n",
      "b  5.0 NaN  0.0  9.0  9.0\n",
      "c  6.0 NaN  4.0  2.0  4.0\n",
      "d  8.0 NaN  0.0  3.0  5.0\n",
      "e  6.0 NaN  0.0  7.0  4.0\n"
     ]
    }
   ],
   "source": [
    "df1n, df2n = df1.align(df2)\n",
    "print(df1n)\n",
    "print(df2n)"
   ]
  },
  {
   "cell_type": "code",
   "execution_count": 131,
   "id": "92462b42",
   "metadata": {},
   "outputs": [
    {
     "name": "stdout",
     "output_type": "stream",
     "text": [
      "   A  D  E\n",
      "b  9  2  9\n",
      "c  1  1  4\n",
      "d  5  9  7\n",
      "   A  D  E\n",
      "b  5  9  9\n",
      "c  6  2  4\n",
      "d  8  3  5\n"
     ]
    }
   ],
   "source": [
    "df1n, df2n = df1.align(df2, join='inner')\n",
    "print(df1n)\n",
    "print(df2n)"
   ]
  },
  {
   "cell_type": "code",
   "execution_count": 132,
   "id": "f38b6de3",
   "metadata": {},
   "outputs": [
    {
     "name": "stdout",
     "output_type": "stream",
     "text": [
      "   A  B  D  E\n",
      "a  2  3  6  3\n",
      "b  9  3  2  9\n",
      "c  1  2  1  4\n",
      "d  5  3  9  7\n",
      "     A   B    D    E\n",
      "a  NaN NaN  NaN  NaN\n",
      "b  5.0 NaN  9.0  9.0\n",
      "c  6.0 NaN  2.0  4.0\n",
      "d  8.0 NaN  3.0  5.0\n"
     ]
    }
   ],
   "source": [
    "df1n , df2n = df1.align(df2, join='left')\n",
    "print(df1n)\n",
    "print(df2n)"
   ]
  },
  {
   "cell_type": "code",
   "execution_count": 134,
   "id": "6a1ae709",
   "metadata": {},
   "outputs": [
    {
     "name": "stdout",
     "output_type": "stream",
     "text": [
      "     A   C    D    E\n",
      "b  9.0 NaN  2.0  9.0\n",
      "c  1.0 NaN  1.0  4.0\n",
      "d  5.0 NaN  9.0  7.0\n",
      "e  NaN NaN  NaN  NaN\n",
      "   A  C  D  E\n",
      "b  5  0  9  9\n",
      "c  6  4  2  4\n",
      "d  8  0  3  5\n",
      "e  6  0  7  4\n"
     ]
    }
   ],
   "source": [
    "df1n , df2n = df1.align(df2, join='right')\n",
    "print(df1n)\n",
    "print(df2n)"
   ]
  },
  {
   "cell_type": "code",
   "execution_count": null,
   "id": "dc19c6ce",
   "metadata": {},
   "outputs": [],
   "source": []
  }
 ],
 "metadata": {
  "kernelspec": {
   "display_name": "Python 3",
   "language": "python",
   "name": "python3"
  },
  "language_info": {
   "codemirror_mode": {
    "name": "ipython",
    "version": 3
   },
   "file_extension": ".py",
   "mimetype": "text/x-python",
   "name": "python",
   "nbconvert_exporter": "python",
   "pygments_lexer": "ipython3",
   "version": "3.9.6"
  }
 },
 "nbformat": 4,
 "nbformat_minor": 5
}
