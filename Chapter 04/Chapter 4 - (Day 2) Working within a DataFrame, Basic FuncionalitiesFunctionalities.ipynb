{
 "cells": [
  {
   "cell_type": "code",
   "execution_count": 1,
   "id": "9258a2aa",
   "metadata": {},
   "outputs": [],
   "source": [
    "import numpy as np\n",
    "import pandas as pd"
   ]
  },
  {
   "cell_type": "markdown",
   "id": "242458f0",
   "metadata": {},
   "source": [
    "# Viewing Data"
   ]
  },
  {
   "cell_type": "code",
   "execution_count": 2,
   "id": "947f6530",
   "metadata": {},
   "outputs": [
    {
     "name": "stdout",
     "output_type": "stream",
     "text": [
      "           0         1         2         3         4\n",
      "0   0.358136  0.785537  0.501360  0.311823  0.949445\n",
      "1   0.545880  0.495596  0.896741  0.574930  0.442426\n",
      "2   0.767990  0.026258  0.333036  0.913825  0.794262\n",
      "3   0.370117  0.383157  0.012828  0.401926  0.473523\n",
      "4   0.803419  0.999486  0.955744  0.213246  0.420820\n",
      "5   0.702160  0.182570  0.930587  0.082974  0.626569\n",
      "6   0.375792  0.764072  0.190670  0.701035  0.905901\n",
      "7   0.968235  0.732172  0.709220  0.281066  0.247866\n",
      "8   0.134267  0.388041  0.720601  0.282063  0.122424\n",
      "9   0.613669  0.685820  0.117939  0.436398  0.043184\n",
      "10  0.165319  0.177555  0.364197  0.465979  0.044260\n",
      "11  0.693329  0.091771  0.160453  0.613420  0.879088\n",
      "12  0.651214  0.323551  0.182605  0.825793  0.503387\n",
      "13  0.161593  0.432209  0.704092  0.896944  0.928275\n",
      "14  0.242581  0.849948  0.766094  0.012842  0.870791\n",
      "15  0.400508  0.333573  0.182520  0.473056  0.705507\n",
      "16  0.835882  0.592223  0.662087  0.278369  0.873905\n",
      "17  0.591621  0.370392  0.934870  0.397346  0.084881\n",
      "18  0.758136  0.503273  0.968970  0.697727  0.646746\n",
      "19  0.450350  0.919390  0.863094  0.735332  0.080281\n"
     ]
    }
   ],
   "source": [
    "dfr = pd.DataFrame(np.random.rand(100).reshape(20,5))\n",
    "print(dfr)"
   ]
  },
  {
   "cell_type": "code",
   "execution_count": 3,
   "id": "24799131",
   "metadata": {},
   "outputs": [
    {
     "data": {
      "text/html": [
       "<div>\n",
       "<style scoped>\n",
       "    .dataframe tbody tr th:only-of-type {\n",
       "        vertical-align: middle;\n",
       "    }\n",
       "\n",
       "    .dataframe tbody tr th {\n",
       "        vertical-align: top;\n",
       "    }\n",
       "\n",
       "    .dataframe thead th {\n",
       "        text-align: right;\n",
       "    }\n",
       "</style>\n",
       "<table border=\"1\" class=\"dataframe\">\n",
       "  <thead>\n",
       "    <tr style=\"text-align: right;\">\n",
       "      <th></th>\n",
       "      <th>0</th>\n",
       "      <th>1</th>\n",
       "      <th>2</th>\n",
       "      <th>3</th>\n",
       "      <th>4</th>\n",
       "    </tr>\n",
       "  </thead>\n",
       "  <tbody>\n",
       "    <tr>\n",
       "      <th>0</th>\n",
       "      <td>0.358136</td>\n",
       "      <td>0.785537</td>\n",
       "      <td>0.501360</td>\n",
       "      <td>0.311823</td>\n",
       "      <td>0.949445</td>\n",
       "    </tr>\n",
       "    <tr>\n",
       "      <th>1</th>\n",
       "      <td>0.545880</td>\n",
       "      <td>0.495596</td>\n",
       "      <td>0.896741</td>\n",
       "      <td>0.574930</td>\n",
       "      <td>0.442426</td>\n",
       "    </tr>\n",
       "    <tr>\n",
       "      <th>2</th>\n",
       "      <td>0.767990</td>\n",
       "      <td>0.026258</td>\n",
       "      <td>0.333036</td>\n",
       "      <td>0.913825</td>\n",
       "      <td>0.794262</td>\n",
       "    </tr>\n",
       "    <tr>\n",
       "      <th>3</th>\n",
       "      <td>0.370117</td>\n",
       "      <td>0.383157</td>\n",
       "      <td>0.012828</td>\n",
       "      <td>0.401926</td>\n",
       "      <td>0.473523</td>\n",
       "    </tr>\n",
       "    <tr>\n",
       "      <th>4</th>\n",
       "      <td>0.803419</td>\n",
       "      <td>0.999486</td>\n",
       "      <td>0.955744</td>\n",
       "      <td>0.213246</td>\n",
       "      <td>0.420820</td>\n",
       "    </tr>\n",
       "    <tr>\n",
       "      <th>5</th>\n",
       "      <td>0.702160</td>\n",
       "      <td>0.182570</td>\n",
       "      <td>0.930587</td>\n",
       "      <td>0.082974</td>\n",
       "      <td>0.626569</td>\n",
       "    </tr>\n",
       "    <tr>\n",
       "      <th>6</th>\n",
       "      <td>0.375792</td>\n",
       "      <td>0.764072</td>\n",
       "      <td>0.190670</td>\n",
       "      <td>0.701035</td>\n",
       "      <td>0.905901</td>\n",
       "    </tr>\n",
       "    <tr>\n",
       "      <th>7</th>\n",
       "      <td>0.968235</td>\n",
       "      <td>0.732172</td>\n",
       "      <td>0.709220</td>\n",
       "      <td>0.281066</td>\n",
       "      <td>0.247866</td>\n",
       "    </tr>\n",
       "    <tr>\n",
       "      <th>8</th>\n",
       "      <td>0.134267</td>\n",
       "      <td>0.388041</td>\n",
       "      <td>0.720601</td>\n",
       "      <td>0.282063</td>\n",
       "      <td>0.122424</td>\n",
       "    </tr>\n",
       "    <tr>\n",
       "      <th>9</th>\n",
       "      <td>0.613669</td>\n",
       "      <td>0.685820</td>\n",
       "      <td>0.117939</td>\n",
       "      <td>0.436398</td>\n",
       "      <td>0.043184</td>\n",
       "    </tr>\n",
       "    <tr>\n",
       "      <th>10</th>\n",
       "      <td>0.165319</td>\n",
       "      <td>0.177555</td>\n",
       "      <td>0.364197</td>\n",
       "      <td>0.465979</td>\n",
       "      <td>0.044260</td>\n",
       "    </tr>\n",
       "    <tr>\n",
       "      <th>11</th>\n",
       "      <td>0.693329</td>\n",
       "      <td>0.091771</td>\n",
       "      <td>0.160453</td>\n",
       "      <td>0.613420</td>\n",
       "      <td>0.879088</td>\n",
       "    </tr>\n",
       "    <tr>\n",
       "      <th>12</th>\n",
       "      <td>0.651214</td>\n",
       "      <td>0.323551</td>\n",
       "      <td>0.182605</td>\n",
       "      <td>0.825793</td>\n",
       "      <td>0.503387</td>\n",
       "    </tr>\n",
       "    <tr>\n",
       "      <th>13</th>\n",
       "      <td>0.161593</td>\n",
       "      <td>0.432209</td>\n",
       "      <td>0.704092</td>\n",
       "      <td>0.896944</td>\n",
       "      <td>0.928275</td>\n",
       "    </tr>\n",
       "    <tr>\n",
       "      <th>14</th>\n",
       "      <td>0.242581</td>\n",
       "      <td>0.849948</td>\n",
       "      <td>0.766094</td>\n",
       "      <td>0.012842</td>\n",
       "      <td>0.870791</td>\n",
       "    </tr>\n",
       "    <tr>\n",
       "      <th>15</th>\n",
       "      <td>0.400508</td>\n",
       "      <td>0.333573</td>\n",
       "      <td>0.182520</td>\n",
       "      <td>0.473056</td>\n",
       "      <td>0.705507</td>\n",
       "    </tr>\n",
       "    <tr>\n",
       "      <th>16</th>\n",
       "      <td>0.835882</td>\n",
       "      <td>0.592223</td>\n",
       "      <td>0.662087</td>\n",
       "      <td>0.278369</td>\n",
       "      <td>0.873905</td>\n",
       "    </tr>\n",
       "    <tr>\n",
       "      <th>17</th>\n",
       "      <td>0.591621</td>\n",
       "      <td>0.370392</td>\n",
       "      <td>0.934870</td>\n",
       "      <td>0.397346</td>\n",
       "      <td>0.084881</td>\n",
       "    </tr>\n",
       "    <tr>\n",
       "      <th>18</th>\n",
       "      <td>0.758136</td>\n",
       "      <td>0.503273</td>\n",
       "      <td>0.968970</td>\n",
       "      <td>0.697727</td>\n",
       "      <td>0.646746</td>\n",
       "    </tr>\n",
       "    <tr>\n",
       "      <th>19</th>\n",
       "      <td>0.450350</td>\n",
       "      <td>0.919390</td>\n",
       "      <td>0.863094</td>\n",
       "      <td>0.735332</td>\n",
       "      <td>0.080281</td>\n",
       "    </tr>\n",
       "  </tbody>\n",
       "</table>\n",
       "</div>"
      ],
      "text/plain": [
       "           0         1         2         3         4\n",
       "0   0.358136  0.785537  0.501360  0.311823  0.949445\n",
       "1   0.545880  0.495596  0.896741  0.574930  0.442426\n",
       "2   0.767990  0.026258  0.333036  0.913825  0.794262\n",
       "3   0.370117  0.383157  0.012828  0.401926  0.473523\n",
       "4   0.803419  0.999486  0.955744  0.213246  0.420820\n",
       "5   0.702160  0.182570  0.930587  0.082974  0.626569\n",
       "6   0.375792  0.764072  0.190670  0.701035  0.905901\n",
       "7   0.968235  0.732172  0.709220  0.281066  0.247866\n",
       "8   0.134267  0.388041  0.720601  0.282063  0.122424\n",
       "9   0.613669  0.685820  0.117939  0.436398  0.043184\n",
       "10  0.165319  0.177555  0.364197  0.465979  0.044260\n",
       "11  0.693329  0.091771  0.160453  0.613420  0.879088\n",
       "12  0.651214  0.323551  0.182605  0.825793  0.503387\n",
       "13  0.161593  0.432209  0.704092  0.896944  0.928275\n",
       "14  0.242581  0.849948  0.766094  0.012842  0.870791\n",
       "15  0.400508  0.333573  0.182520  0.473056  0.705507\n",
       "16  0.835882  0.592223  0.662087  0.278369  0.873905\n",
       "17  0.591621  0.370392  0.934870  0.397346  0.084881\n",
       "18  0.758136  0.503273  0.968970  0.697727  0.646746\n",
       "19  0.450350  0.919390  0.863094  0.735332  0.080281"
      ]
     },
     "execution_count": 3,
     "metadata": {},
     "output_type": "execute_result"
    }
   ],
   "source": [
    "dfr"
   ]
  },
  {
   "cell_type": "code",
   "execution_count": 4,
   "id": "6b20ea4b",
   "metadata": {},
   "outputs": [
    {
     "data": {
      "text/html": [
       "<div>\n",
       "<style scoped>\n",
       "    .dataframe tbody tr th:only-of-type {\n",
       "        vertical-align: middle;\n",
       "    }\n",
       "\n",
       "    .dataframe tbody tr th {\n",
       "        vertical-align: top;\n",
       "    }\n",
       "\n",
       "    .dataframe thead th {\n",
       "        text-align: right;\n",
       "    }\n",
       "</style>\n",
       "<table border=\"1\" class=\"dataframe\">\n",
       "  <thead>\n",
       "    <tr style=\"text-align: right;\">\n",
       "      <th></th>\n",
       "      <th>0</th>\n",
       "      <th>1</th>\n",
       "      <th>2</th>\n",
       "      <th>3</th>\n",
       "      <th>4</th>\n",
       "    </tr>\n",
       "  </thead>\n",
       "  <tbody>\n",
       "    <tr>\n",
       "      <th>0</th>\n",
       "      <td>0.358136</td>\n",
       "      <td>0.785537</td>\n",
       "      <td>0.501360</td>\n",
       "      <td>0.311823</td>\n",
       "      <td>0.949445</td>\n",
       "    </tr>\n",
       "    <tr>\n",
       "      <th>1</th>\n",
       "      <td>0.545880</td>\n",
       "      <td>0.495596</td>\n",
       "      <td>0.896741</td>\n",
       "      <td>0.574930</td>\n",
       "      <td>0.442426</td>\n",
       "    </tr>\n",
       "    <tr>\n",
       "      <th>2</th>\n",
       "      <td>0.767990</td>\n",
       "      <td>0.026258</td>\n",
       "      <td>0.333036</td>\n",
       "      <td>0.913825</td>\n",
       "      <td>0.794262</td>\n",
       "    </tr>\n",
       "    <tr>\n",
       "      <th>3</th>\n",
       "      <td>0.370117</td>\n",
       "      <td>0.383157</td>\n",
       "      <td>0.012828</td>\n",
       "      <td>0.401926</td>\n",
       "      <td>0.473523</td>\n",
       "    </tr>\n",
       "    <tr>\n",
       "      <th>4</th>\n",
       "      <td>0.803419</td>\n",
       "      <td>0.999486</td>\n",
       "      <td>0.955744</td>\n",
       "      <td>0.213246</td>\n",
       "      <td>0.420820</td>\n",
       "    </tr>\n",
       "  </tbody>\n",
       "</table>\n",
       "</div>"
      ],
      "text/plain": [
       "          0         1         2         3         4\n",
       "0  0.358136  0.785537  0.501360  0.311823  0.949445\n",
       "1  0.545880  0.495596  0.896741  0.574930  0.442426\n",
       "2  0.767990  0.026258  0.333036  0.913825  0.794262\n",
       "3  0.370117  0.383157  0.012828  0.401926  0.473523\n",
       "4  0.803419  0.999486  0.955744  0.213246  0.420820"
      ]
     },
     "execution_count": 4,
     "metadata": {},
     "output_type": "execute_result"
    }
   ],
   "source": [
    "dfr.head()"
   ]
  },
  {
   "cell_type": "code",
   "execution_count": 5,
   "id": "cab386b5",
   "metadata": {},
   "outputs": [
    {
     "data": {
      "text/html": [
       "<div>\n",
       "<style scoped>\n",
       "    .dataframe tbody tr th:only-of-type {\n",
       "        vertical-align: middle;\n",
       "    }\n",
       "\n",
       "    .dataframe tbody tr th {\n",
       "        vertical-align: top;\n",
       "    }\n",
       "\n",
       "    .dataframe thead th {\n",
       "        text-align: right;\n",
       "    }\n",
       "</style>\n",
       "<table border=\"1\" class=\"dataframe\">\n",
       "  <thead>\n",
       "    <tr style=\"text-align: right;\">\n",
       "      <th></th>\n",
       "      <th>0</th>\n",
       "      <th>1</th>\n",
       "      <th>2</th>\n",
       "      <th>3</th>\n",
       "      <th>4</th>\n",
       "    </tr>\n",
       "  </thead>\n",
       "  <tbody>\n",
       "    <tr>\n",
       "      <th>15</th>\n",
       "      <td>0.400508</td>\n",
       "      <td>0.333573</td>\n",
       "      <td>0.182520</td>\n",
       "      <td>0.473056</td>\n",
       "      <td>0.705507</td>\n",
       "    </tr>\n",
       "    <tr>\n",
       "      <th>16</th>\n",
       "      <td>0.835882</td>\n",
       "      <td>0.592223</td>\n",
       "      <td>0.662087</td>\n",
       "      <td>0.278369</td>\n",
       "      <td>0.873905</td>\n",
       "    </tr>\n",
       "    <tr>\n",
       "      <th>17</th>\n",
       "      <td>0.591621</td>\n",
       "      <td>0.370392</td>\n",
       "      <td>0.934870</td>\n",
       "      <td>0.397346</td>\n",
       "      <td>0.084881</td>\n",
       "    </tr>\n",
       "    <tr>\n",
       "      <th>18</th>\n",
       "      <td>0.758136</td>\n",
       "      <td>0.503273</td>\n",
       "      <td>0.968970</td>\n",
       "      <td>0.697727</td>\n",
       "      <td>0.646746</td>\n",
       "    </tr>\n",
       "    <tr>\n",
       "      <th>19</th>\n",
       "      <td>0.450350</td>\n",
       "      <td>0.919390</td>\n",
       "      <td>0.863094</td>\n",
       "      <td>0.735332</td>\n",
       "      <td>0.080281</td>\n",
       "    </tr>\n",
       "  </tbody>\n",
       "</table>\n",
       "</div>"
      ],
      "text/plain": [
       "           0         1         2         3         4\n",
       "15  0.400508  0.333573  0.182520  0.473056  0.705507\n",
       "16  0.835882  0.592223  0.662087  0.278369  0.873905\n",
       "17  0.591621  0.370392  0.934870  0.397346  0.084881\n",
       "18  0.758136  0.503273  0.968970  0.697727  0.646746\n",
       "19  0.450350  0.919390  0.863094  0.735332  0.080281"
      ]
     },
     "execution_count": 5,
     "metadata": {},
     "output_type": "execute_result"
    }
   ],
   "source": [
    "dfr.tail()"
   ]
  },
  {
   "cell_type": "code",
   "execution_count": 6,
   "id": "d56ce613",
   "metadata": {},
   "outputs": [
    {
     "data": {
      "text/html": [
       "<div>\n",
       "<style scoped>\n",
       "    .dataframe tbody tr th:only-of-type {\n",
       "        vertical-align: middle;\n",
       "    }\n",
       "\n",
       "    .dataframe tbody tr th {\n",
       "        vertical-align: top;\n",
       "    }\n",
       "\n",
       "    .dataframe thead th {\n",
       "        text-align: right;\n",
       "    }\n",
       "</style>\n",
       "<table border=\"1\" class=\"dataframe\">\n",
       "  <thead>\n",
       "    <tr style=\"text-align: right;\">\n",
       "      <th></th>\n",
       "      <th>0</th>\n",
       "      <th>1</th>\n",
       "      <th>2</th>\n",
       "      <th>3</th>\n",
       "      <th>4</th>\n",
       "    </tr>\n",
       "  </thead>\n",
       "  <tbody>\n",
       "    <tr>\n",
       "      <th>0</th>\n",
       "      <td>0.358136</td>\n",
       "      <td>0.785537</td>\n",
       "      <td>0.501360</td>\n",
       "      <td>0.311823</td>\n",
       "      <td>0.949445</td>\n",
       "    </tr>\n",
       "    <tr>\n",
       "      <th>1</th>\n",
       "      <td>0.545880</td>\n",
       "      <td>0.495596</td>\n",
       "      <td>0.896741</td>\n",
       "      <td>0.574930</td>\n",
       "      <td>0.442426</td>\n",
       "    </tr>\n",
       "    <tr>\n",
       "      <th>2</th>\n",
       "      <td>0.767990</td>\n",
       "      <td>0.026258</td>\n",
       "      <td>0.333036</td>\n",
       "      <td>0.913825</td>\n",
       "      <td>0.794262</td>\n",
       "    </tr>\n",
       "  </tbody>\n",
       "</table>\n",
       "</div>"
      ],
      "text/plain": [
       "          0         1         2         3         4\n",
       "0  0.358136  0.785537  0.501360  0.311823  0.949445\n",
       "1  0.545880  0.495596  0.896741  0.574930  0.442426\n",
       "2  0.767990  0.026258  0.333036  0.913825  0.794262"
      ]
     },
     "execution_count": 6,
     "metadata": {},
     "output_type": "execute_result"
    }
   ],
   "source": [
    "dfr.head(3)"
   ]
  },
  {
   "cell_type": "markdown",
   "id": "98fd2ce2",
   "metadata": {},
   "source": [
    "# Selection"
   ]
  },
  {
   "cell_type": "code",
   "execution_count": 119,
   "id": "3e409e98",
   "metadata": {},
   "outputs": [
    {
     "name": "stdout",
     "output_type": "stream",
     "text": [
      "   A  B  C  D\n",
      "a  4  5  3  1\n",
      "b  1  1  7  8\n",
      "c  7  4  1  1\n",
      "d  5  2  3  3\n"
     ]
    }
   ],
   "source": [
    "df = pd.DataFrame(np.random.randint(0,9,16).reshape(4,4),\n",
    "                           index = ['a','b','c','d'],\n",
    "                           columns = ['A','B','C','D'])\n",
    "print(df)"
   ]
  },
  {
   "cell_type": "code",
   "execution_count": 120,
   "id": "ec00d99c",
   "metadata": {},
   "outputs": [
    {
     "name": "stdout",
     "output_type": "stream",
     "text": [
      "4\n",
      "4\n"
     ]
    }
   ],
   "source": [
    "print(df.at['a','A']) #indexing\n",
    "print(df.iat[0,0])    #integer positioning"
   ]
  },
  {
   "cell_type": "code",
   "execution_count": 121,
   "id": "2c47c40d",
   "metadata": {},
   "outputs": [
    {
     "name": "stdout",
     "output_type": "stream",
     "text": [
      "a    5\n",
      "b    1\n",
      "c    4\n",
      "d    2\n",
      "Name: B, dtype: int32\n"
     ]
    }
   ],
   "source": [
    "print(df['B'])"
   ]
  },
  {
   "cell_type": "code",
   "execution_count": 122,
   "id": "954b8acf",
   "metadata": {},
   "outputs": [
    {
     "name": "stdout",
     "output_type": "stream",
     "text": [
      "   B  D\n",
      "a  5  1\n",
      "b  1  8\n",
      "c  4  1\n",
      "d  2  3\n"
     ]
    }
   ],
   "source": [
    "print(df[['B','D']])"
   ]
  },
  {
   "cell_type": "code",
   "execution_count": 123,
   "id": "16fb12b0",
   "metadata": {},
   "outputs": [
    {
     "ename": "KeyError",
     "evalue": "0",
     "output_type": "error",
     "traceback": [
      "\u001b[1;31m---------------------------------------------------------------------------\u001b[0m",
      "\u001b[1;31mKeyError\u001b[0m                                  Traceback (most recent call last)",
      "\u001b[1;32m~\\anaconda3\\envs\\mypandas\\lib\\site-packages\\pandas\\core\\indexes\\base.py\u001b[0m in \u001b[0;36mget_loc\u001b[1;34m(self, key, method, tolerance)\u001b[0m\n\u001b[0;32m   3360\u001b[0m             \u001b[1;32mtry\u001b[0m\u001b[1;33m:\u001b[0m\u001b[1;33m\u001b[0m\u001b[1;33m\u001b[0m\u001b[0m\n\u001b[1;32m-> 3361\u001b[1;33m                 \u001b[1;32mreturn\u001b[0m \u001b[0mself\u001b[0m\u001b[1;33m.\u001b[0m\u001b[0m_engine\u001b[0m\u001b[1;33m.\u001b[0m\u001b[0mget_loc\u001b[0m\u001b[1;33m(\u001b[0m\u001b[0mcasted_key\u001b[0m\u001b[1;33m)\u001b[0m\u001b[1;33m\u001b[0m\u001b[1;33m\u001b[0m\u001b[0m\n\u001b[0m\u001b[0;32m   3362\u001b[0m             \u001b[1;32mexcept\u001b[0m \u001b[0mKeyError\u001b[0m \u001b[1;32mas\u001b[0m \u001b[0merr\u001b[0m\u001b[1;33m:\u001b[0m\u001b[1;33m\u001b[0m\u001b[1;33m\u001b[0m\u001b[0m\n",
      "\u001b[1;32m~\\anaconda3\\envs\\mypandas\\lib\\site-packages\\pandas\\_libs\\index.pyx\u001b[0m in \u001b[0;36mpandas._libs.index.IndexEngine.get_loc\u001b[1;34m()\u001b[0m\n",
      "\u001b[1;32m~\\anaconda3\\envs\\mypandas\\lib\\site-packages\\pandas\\_libs\\index.pyx\u001b[0m in \u001b[0;36mpandas._libs.index.IndexEngine.get_loc\u001b[1;34m()\u001b[0m\n",
      "\u001b[1;32mpandas\\_libs\\hashtable_class_helper.pxi\u001b[0m in \u001b[0;36mpandas._libs.hashtable.PyObjectHashTable.get_item\u001b[1;34m()\u001b[0m\n",
      "\u001b[1;32mpandas\\_libs\\hashtable_class_helper.pxi\u001b[0m in \u001b[0;36mpandas._libs.hashtable.PyObjectHashTable.get_item\u001b[1;34m()\u001b[0m\n",
      "\u001b[1;31mKeyError\u001b[0m: 0",
      "\nThe above exception was the direct cause of the following exception:\n",
      "\u001b[1;31mKeyError\u001b[0m                                  Traceback (most recent call last)",
      "\u001b[1;32m<ipython-input-123-cccbe0f2f7d8>\u001b[0m in \u001b[0;36m<module>\u001b[1;34m\u001b[0m\n\u001b[1;32m----> 1\u001b[1;33m \u001b[0mprint\u001b[0m\u001b[1;33m(\u001b[0m\u001b[0mdf\u001b[0m\u001b[1;33m[\u001b[0m\u001b[1;36m0\u001b[0m\u001b[1;33m]\u001b[0m\u001b[1;33m)\u001b[0m\u001b[1;33m\u001b[0m\u001b[1;33m\u001b[0m\u001b[0m\n\u001b[0m",
      "\u001b[1;32m~\\anaconda3\\envs\\mypandas\\lib\\site-packages\\pandas\\core\\frame.py\u001b[0m in \u001b[0;36m__getitem__\u001b[1;34m(self, key)\u001b[0m\n\u001b[0;32m   3453\u001b[0m             \u001b[1;32mif\u001b[0m \u001b[0mself\u001b[0m\u001b[1;33m.\u001b[0m\u001b[0mcolumns\u001b[0m\u001b[1;33m.\u001b[0m\u001b[0mnlevels\u001b[0m \u001b[1;33m>\u001b[0m \u001b[1;36m1\u001b[0m\u001b[1;33m:\u001b[0m\u001b[1;33m\u001b[0m\u001b[1;33m\u001b[0m\u001b[0m\n\u001b[0;32m   3454\u001b[0m                 \u001b[1;32mreturn\u001b[0m \u001b[0mself\u001b[0m\u001b[1;33m.\u001b[0m\u001b[0m_getitem_multilevel\u001b[0m\u001b[1;33m(\u001b[0m\u001b[0mkey\u001b[0m\u001b[1;33m)\u001b[0m\u001b[1;33m\u001b[0m\u001b[1;33m\u001b[0m\u001b[0m\n\u001b[1;32m-> 3455\u001b[1;33m             \u001b[0mindexer\u001b[0m \u001b[1;33m=\u001b[0m \u001b[0mself\u001b[0m\u001b[1;33m.\u001b[0m\u001b[0mcolumns\u001b[0m\u001b[1;33m.\u001b[0m\u001b[0mget_loc\u001b[0m\u001b[1;33m(\u001b[0m\u001b[0mkey\u001b[0m\u001b[1;33m)\u001b[0m\u001b[1;33m\u001b[0m\u001b[1;33m\u001b[0m\u001b[0m\n\u001b[0m\u001b[0;32m   3456\u001b[0m             \u001b[1;32mif\u001b[0m \u001b[0mis_integer\u001b[0m\u001b[1;33m(\u001b[0m\u001b[0mindexer\u001b[0m\u001b[1;33m)\u001b[0m\u001b[1;33m:\u001b[0m\u001b[1;33m\u001b[0m\u001b[1;33m\u001b[0m\u001b[0m\n\u001b[0;32m   3457\u001b[0m                 \u001b[0mindexer\u001b[0m \u001b[1;33m=\u001b[0m \u001b[1;33m[\u001b[0m\u001b[0mindexer\u001b[0m\u001b[1;33m]\u001b[0m\u001b[1;33m\u001b[0m\u001b[1;33m\u001b[0m\u001b[0m\n",
      "\u001b[1;32m~\\anaconda3\\envs\\mypandas\\lib\\site-packages\\pandas\\core\\indexes\\base.py\u001b[0m in \u001b[0;36mget_loc\u001b[1;34m(self, key, method, tolerance)\u001b[0m\n\u001b[0;32m   3361\u001b[0m                 \u001b[1;32mreturn\u001b[0m \u001b[0mself\u001b[0m\u001b[1;33m.\u001b[0m\u001b[0m_engine\u001b[0m\u001b[1;33m.\u001b[0m\u001b[0mget_loc\u001b[0m\u001b[1;33m(\u001b[0m\u001b[0mcasted_key\u001b[0m\u001b[1;33m)\u001b[0m\u001b[1;33m\u001b[0m\u001b[1;33m\u001b[0m\u001b[0m\n\u001b[0;32m   3362\u001b[0m             \u001b[1;32mexcept\u001b[0m \u001b[0mKeyError\u001b[0m \u001b[1;32mas\u001b[0m \u001b[0merr\u001b[0m\u001b[1;33m:\u001b[0m\u001b[1;33m\u001b[0m\u001b[1;33m\u001b[0m\u001b[0m\n\u001b[1;32m-> 3363\u001b[1;33m                 \u001b[1;32mraise\u001b[0m \u001b[0mKeyError\u001b[0m\u001b[1;33m(\u001b[0m\u001b[0mkey\u001b[0m\u001b[1;33m)\u001b[0m \u001b[1;32mfrom\u001b[0m \u001b[0merr\u001b[0m\u001b[1;33m\u001b[0m\u001b[1;33m\u001b[0m\u001b[0m\n\u001b[0m\u001b[0;32m   3364\u001b[0m \u001b[1;33m\u001b[0m\u001b[0m\n\u001b[0;32m   3365\u001b[0m         \u001b[1;32mif\u001b[0m \u001b[0mis_scalar\u001b[0m\u001b[1;33m(\u001b[0m\u001b[0mkey\u001b[0m\u001b[1;33m)\u001b[0m \u001b[1;32mand\u001b[0m \u001b[0misna\u001b[0m\u001b[1;33m(\u001b[0m\u001b[0mkey\u001b[0m\u001b[1;33m)\u001b[0m \u001b[1;32mand\u001b[0m \u001b[1;32mnot\u001b[0m \u001b[0mself\u001b[0m\u001b[1;33m.\u001b[0m\u001b[0mhasnans\u001b[0m\u001b[1;33m:\u001b[0m\u001b[1;33m\u001b[0m\u001b[1;33m\u001b[0m\u001b[0m\n",
      "\u001b[1;31mKeyError\u001b[0m: 0"
     ]
    }
   ],
   "source": [
    "print(df[0])"
   ]
  },
  {
   "cell_type": "code",
   "execution_count": 12,
   "id": "df6adeac",
   "metadata": {},
   "outputs": [
    {
     "name": "stdout",
     "output_type": "stream",
     "text": [
      "   A  B  C  D\n",
      "a  7  7  2  3\n",
      "b  0  2  1  3\n",
      "c  5  1  0  8\n"
     ]
    }
   ],
   "source": [
    "print(df['a':'c'])"
   ]
  },
  {
   "cell_type": "code",
   "execution_count": 13,
   "id": "5d88af4e",
   "metadata": {},
   "outputs": [
    {
     "name": "stdout",
     "output_type": "stream",
     "text": [
      "   A  B  C  D\n",
      "a  7  7  2  3\n"
     ]
    }
   ],
   "source": [
    "print(df[0:1])"
   ]
  },
  {
   "cell_type": "code",
   "execution_count": 14,
   "id": "be22572e",
   "metadata": {},
   "outputs": [
    {
     "name": "stdout",
     "output_type": "stream",
     "text": [
      "   A  B  C  D\n",
      "a  7  7  2  3\n",
      "b  0  2  1  3\n"
     ]
    }
   ],
   "source": [
    "print(df[0:2])"
   ]
  },
  {
   "cell_type": "code",
   "execution_count": 15,
   "id": "0971a1fa",
   "metadata": {},
   "outputs": [
    {
     "name": "stdout",
     "output_type": "stream",
     "text": [
      "7\n"
     ]
    }
   ],
   "source": [
    "print(df.loc['a','B'])"
   ]
  },
  {
   "cell_type": "code",
   "execution_count": 16,
   "id": "9506007c",
   "metadata": {},
   "outputs": [
    {
     "name": "stdout",
     "output_type": "stream",
     "text": [
      "   A  B  C\n",
      "b  0  2  1\n",
      "c  5  1  0\n",
      "d  8  7  6\n"
     ]
    }
   ],
   "source": [
    "print(df.loc['b':'d','A':'C']) "
   ]
  },
  {
   "cell_type": "code",
   "execution_count": 17,
   "id": "4e30f10d",
   "metadata": {},
   "outputs": [
    {
     "name": "stdout",
     "output_type": "stream",
     "text": [
      "   A  B  C  D\n",
      "a  7  7  2  3\n",
      "b  0  2  1  3\n",
      "c  5  1  0  8\n"
     ]
    }
   ],
   "source": [
    "print(df.loc['a':'c', :]) "
   ]
  },
  {
   "cell_type": "code",
   "execution_count": 18,
   "id": "3bace061",
   "metadata": {},
   "outputs": [
    {
     "name": "stdout",
     "output_type": "stream",
     "text": [
      "   A  D\n",
      "a  7  3\n",
      "c  5  8\n"
     ]
    }
   ],
   "source": [
    "print(df.loc[['a','c'], ['A','D']]) "
   ]
  },
  {
   "cell_type": "code",
   "execution_count": 19,
   "id": "ba957b8d",
   "metadata": {},
   "outputs": [
    {
     "name": "stdout",
     "output_type": "stream",
     "text": [
      "   A  B  D\n",
      "a  7  7  3\n",
      "b  0  2  3\n",
      "c  5  1  8\n"
     ]
    }
   ],
   "source": [
    "print(df.loc['a':'c', 'A':'B'].join(df.loc['a':'c', 'D']))"
   ]
  },
  {
   "cell_type": "code",
   "execution_count": 20,
   "id": "9afd9b64",
   "metadata": {},
   "outputs": [
    {
     "name": "stdout",
     "output_type": "stream",
     "text": [
      "   A  B  D\n",
      "a  7  7  3\n",
      "b  0  2  3\n",
      "c  5  1  8\n"
     ]
    }
   ],
   "source": [
    "print(df.loc[:,['A','B','D']].loc['a':'c', :])"
   ]
  },
  {
   "cell_type": "code",
   "execution_count": 21,
   "id": "5e716bbc",
   "metadata": {},
   "outputs": [
    {
     "name": "stdout",
     "output_type": "stream",
     "text": [
      "3\n"
     ]
    }
   ],
   "source": [
    "print(df.iloc[1,3]) "
   ]
  },
  {
   "cell_type": "code",
   "execution_count": 22,
   "id": "2c4154cf",
   "metadata": {},
   "outputs": [
    {
     "name": "stdout",
     "output_type": "stream",
     "text": [
      "   B  C\n",
      "a  7  2\n",
      "b  2  1\n"
     ]
    }
   ],
   "source": [
    "print(df.iloc[0:2,1:3]) "
   ]
  },
  {
   "cell_type": "code",
   "execution_count": 23,
   "id": "e5bc6cae",
   "metadata": {},
   "outputs": [
    {
     "name": "stdout",
     "output_type": "stream",
     "text": [
      "   A  C\n",
      "b  0  1\n"
     ]
    }
   ],
   "source": [
    "print(df.iloc[[1],[0,2]])"
   ]
  },
  {
   "cell_type": "code",
   "execution_count": 24,
   "id": "560a1522",
   "metadata": {},
   "outputs": [
    {
     "name": "stdout",
     "output_type": "stream",
     "text": [
      "<class 'pandas.core.frame.DataFrame'>\n"
     ]
    }
   ],
   "source": [
    "print(type(df.iloc[[1],[0,2]]))"
   ]
  },
  {
   "cell_type": "code",
   "execution_count": 25,
   "id": "42cb7104",
   "metadata": {},
   "outputs": [
    {
     "name": "stdout",
     "output_type": "stream",
     "text": [
      "A    0\n",
      "C    1\n",
      "Name: b, dtype: int32\n"
     ]
    }
   ],
   "source": [
    "print(df.iloc[1,[0,2]])"
   ]
  },
  {
   "cell_type": "code",
   "execution_count": 26,
   "id": "404baf38",
   "metadata": {},
   "outputs": [
    {
     "name": "stdout",
     "output_type": "stream",
     "text": [
      "<class 'pandas.core.series.Series'>\n"
     ]
    }
   ],
   "source": [
    "print(type(df.iloc[1,[0,2]]))"
   ]
  },
  {
   "cell_type": "code",
   "execution_count": 27,
   "id": "7b653cd8",
   "metadata": {},
   "outputs": [
    {
     "name": "stdout",
     "output_type": "stream",
     "text": [
      "3\n"
     ]
    }
   ],
   "source": [
    "print(df.at['b','D'])"
   ]
  },
  {
   "cell_type": "code",
   "execution_count": 28,
   "id": "aa7cc067",
   "metadata": {},
   "outputs": [
    {
     "name": "stdout",
     "output_type": "stream",
     "text": [
      "1\n"
     ]
    }
   ],
   "source": [
    "print(df.iat[2,1]) "
   ]
  },
  {
   "cell_type": "code",
   "execution_count": 29,
   "id": "def67f0a",
   "metadata": {},
   "outputs": [
    {
     "ename": "ValueError",
     "evalue": "iAt based indexing can only have integer indexers",
     "output_type": "error",
     "traceback": [
      "\u001b[1;31m---------------------------------------------------------------------------\u001b[0m",
      "\u001b[1;31mValueError\u001b[0m                                Traceback (most recent call last)",
      "\u001b[1;32m<ipython-input-29-d5264c484226>\u001b[0m in \u001b[0;36m<module>\u001b[1;34m\u001b[0m\n\u001b[1;32m----> 1\u001b[1;33m \u001b[0mprint\u001b[0m\u001b[1;33m(\u001b[0m\u001b[0mdf\u001b[0m\u001b[1;33m.\u001b[0m\u001b[0miat\u001b[0m\u001b[1;33m[\u001b[0m\u001b[1;36m0\u001b[0m\u001b[1;33m:\u001b[0m\u001b[1;36m2\u001b[0m\u001b[1;33m,\u001b[0m\u001b[1;36m1\u001b[0m\u001b[1;33m:\u001b[0m\u001b[1;36m3\u001b[0m\u001b[1;33m]\u001b[0m\u001b[1;33m)\u001b[0m\u001b[1;33m\u001b[0m\u001b[1;33m\u001b[0m\u001b[0m\n\u001b[0m",
      "\u001b[1;32m~\\anaconda3\\envs\\mypandas\\lib\\site-packages\\pandas\\core\\indexing.py\u001b[0m in \u001b[0;36m__getitem__\u001b[1;34m(self, key)\u001b[0m\n\u001b[0;32m   2219\u001b[0m                 \u001b[1;32mraise\u001b[0m \u001b[0mValueError\u001b[0m\u001b[1;33m(\u001b[0m\u001b[1;34m\"Invalid call for scalar access (getting)!\"\u001b[0m\u001b[1;33m)\u001b[0m\u001b[1;33m\u001b[0m\u001b[1;33m\u001b[0m\u001b[0m\n\u001b[0;32m   2220\u001b[0m \u001b[1;33m\u001b[0m\u001b[0m\n\u001b[1;32m-> 2221\u001b[1;33m         \u001b[0mkey\u001b[0m \u001b[1;33m=\u001b[0m \u001b[0mself\u001b[0m\u001b[1;33m.\u001b[0m\u001b[0m_convert_key\u001b[0m\u001b[1;33m(\u001b[0m\u001b[0mkey\u001b[0m\u001b[1;33m)\u001b[0m\u001b[1;33m\u001b[0m\u001b[1;33m\u001b[0m\u001b[0m\n\u001b[0m\u001b[0;32m   2222\u001b[0m         \u001b[1;32mreturn\u001b[0m \u001b[0mself\u001b[0m\u001b[1;33m.\u001b[0m\u001b[0mobj\u001b[0m\u001b[1;33m.\u001b[0m\u001b[0m_get_value\u001b[0m\u001b[1;33m(\u001b[0m\u001b[1;33m*\u001b[0m\u001b[0mkey\u001b[0m\u001b[1;33m,\u001b[0m \u001b[0mtakeable\u001b[0m\u001b[1;33m=\u001b[0m\u001b[0mself\u001b[0m\u001b[1;33m.\u001b[0m\u001b[0m_takeable\u001b[0m\u001b[1;33m)\u001b[0m\u001b[1;33m\u001b[0m\u001b[1;33m\u001b[0m\u001b[0m\n\u001b[0;32m   2223\u001b[0m \u001b[1;33m\u001b[0m\u001b[0m\n",
      "\u001b[1;32m~\\anaconda3\\envs\\mypandas\\lib\\site-packages\\pandas\\core\\indexing.py\u001b[0m in \u001b[0;36m_convert_key\u001b[1;34m(self, key, is_setter)\u001b[0m\n\u001b[0;32m   2297\u001b[0m         \u001b[1;32mfor\u001b[0m \u001b[0mi\u001b[0m \u001b[1;32min\u001b[0m \u001b[0mkey\u001b[0m\u001b[1;33m:\u001b[0m\u001b[1;33m\u001b[0m\u001b[1;33m\u001b[0m\u001b[0m\n\u001b[0;32m   2298\u001b[0m             \u001b[1;32mif\u001b[0m \u001b[1;32mnot\u001b[0m \u001b[0mis_integer\u001b[0m\u001b[1;33m(\u001b[0m\u001b[0mi\u001b[0m\u001b[1;33m)\u001b[0m\u001b[1;33m:\u001b[0m\u001b[1;33m\u001b[0m\u001b[1;33m\u001b[0m\u001b[0m\n\u001b[1;32m-> 2299\u001b[1;33m                 \u001b[1;32mraise\u001b[0m \u001b[0mValueError\u001b[0m\u001b[1;33m(\u001b[0m\u001b[1;34m\"iAt based indexing can only have integer indexers\"\u001b[0m\u001b[1;33m)\u001b[0m\u001b[1;33m\u001b[0m\u001b[1;33m\u001b[0m\u001b[0m\n\u001b[0m\u001b[0;32m   2300\u001b[0m         \u001b[1;32mreturn\u001b[0m \u001b[0mkey\u001b[0m\u001b[1;33m\u001b[0m\u001b[1;33m\u001b[0m\u001b[0m\n\u001b[0;32m   2301\u001b[0m \u001b[1;33m\u001b[0m\u001b[0m\n",
      "\u001b[1;31mValueError\u001b[0m: iAt based indexing can only have integer indexers"
     ]
    }
   ],
   "source": [
    "print(df.iat[0:2,1:3]) "
   ]
  },
  {
   "cell_type": "code",
   "execution_count": 30,
   "id": "df73cd5d",
   "metadata": {},
   "outputs": [
    {
     "name": "stdout",
     "output_type": "stream",
     "text": [
      "   A    B      C      D\n",
      "a  6  0.3    one   True\n",
      "b  2  5.1    two  False\n",
      "c  1  4.3  three   True\n"
     ]
    }
   ],
   "source": [
    "df = pd.DataFrame([[6,0.3,'one', True],[2,5.1,'two', False],[1,4.3,'three', True]], \n",
    "                     index=['a','b','c'], \n",
    "                     columns=['A','B','C','D'])\n",
    "print(df)"
   ]
  },
  {
   "cell_type": "code",
   "execution_count": 31,
   "id": "7a789dc3",
   "metadata": {},
   "outputs": [
    {
     "data": {
      "text/plain": [
       "A      int64\n",
       "B    float64\n",
       "C     object\n",
       "D       bool\n",
       "dtype: object"
      ]
     },
     "execution_count": 31,
     "metadata": {},
     "output_type": "execute_result"
    }
   ],
   "source": [
    "df.dtypes"
   ]
  },
  {
   "cell_type": "code",
   "execution_count": 32,
   "id": "08474bd8",
   "metadata": {},
   "outputs": [
    {
     "name": "stdout",
     "output_type": "stream",
     "text": [
      "   A      D\n",
      "a  6   True\n",
      "b  2  False\n",
      "c  1   True\n"
     ]
    }
   ],
   "source": [
    "df2 = df.select_dtypes(include=['bool','int64'])\n",
    "print(df2)"
   ]
  },
  {
   "cell_type": "code",
   "execution_count": 33,
   "id": "6ce1045b",
   "metadata": {},
   "outputs": [
    {
     "name": "stdout",
     "output_type": "stream",
     "text": [
      "     B      C\n",
      "a  0.3    one\n",
      "b  5.1    two\n",
      "c  4.3  three\n"
     ]
    }
   ],
   "source": [
    "df2 = df.select_dtypes(exclude=['bool','int64'])\n",
    "print(df2)"
   ]
  },
  {
   "cell_type": "markdown",
   "id": "8fd36488",
   "metadata": {},
   "source": [
    "# Filtering"
   ]
  },
  {
   "cell_type": "code",
   "execution_count": 34,
   "id": "bd38e350",
   "metadata": {},
   "outputs": [
    {
     "name": "stdout",
     "output_type": "stream",
     "text": [
      "          A         B         C         D\n",
      "0  0.497878  0.753872  0.316998  0.897446\n",
      "1  0.346698  0.172985  0.023653  0.589517\n",
      "2  0.440887  0.719287  0.622692  0.280825\n",
      "3  0.776862  0.214410  0.576098  0.220265\n",
      "4  0.652671  0.033319  0.093250  0.069738\n",
      "5  0.153605  0.003893  0.080816  0.195577\n",
      "6  0.835020  0.539567  0.384164  0.991319\n",
      "7  0.355455  0.911003  0.893413  0.923197\n",
      "8  0.295068  0.667123  0.554785  0.846672\n",
      "9  0.523384  0.465534  0.286456  0.204596\n"
     ]
    }
   ],
   "source": [
    "df = pd.DataFrame(np.random.rand(40).reshape(10,4), columns = ['A','B','C','D'])\n",
    "print(df)"
   ]
  },
  {
   "cell_type": "code",
   "execution_count": 35,
   "id": "b6186cda",
   "metadata": {},
   "outputs": [
    {
     "data": {
      "text/plain": [
       "0    False\n",
       "1    False\n",
       "2    False\n",
       "3     True\n",
       "4     True\n",
       "5    False\n",
       "6     True\n",
       "7    False\n",
       "8    False\n",
       "9     True\n",
       "Name: A, dtype: bool"
      ]
     },
     "execution_count": 35,
     "metadata": {},
     "output_type": "execute_result"
    }
   ],
   "source": [
    "df['A'] > 0.500000"
   ]
  },
  {
   "cell_type": "code",
   "execution_count": 36,
   "id": "de324a7c",
   "metadata": {},
   "outputs": [
    {
     "name": "stdout",
     "output_type": "stream",
     "text": [
      "          A         B         C         D\n",
      "3  0.776862  0.214410  0.576098  0.220265\n",
      "4  0.652671  0.033319  0.093250  0.069738\n",
      "6  0.835020  0.539567  0.384164  0.991319\n",
      "9  0.523384  0.465534  0.286456  0.204596\n"
     ]
    }
   ],
   "source": [
    "df2 = df[ df['A'] > 0.500000 ]\n",
    "print(df2)"
   ]
  },
  {
   "cell_type": "code",
   "execution_count": 37,
   "id": "189475cf",
   "metadata": {},
   "outputs": [
    {
     "name": "stdout",
     "output_type": "stream",
     "text": [
      "          A         B         C         D\n",
      "3  0.776862  0.214410  0.576098  0.220265\n",
      "4  0.652671  0.033319  0.093250  0.069738\n",
      "6  0.835020  0.539567  0.384164  0.991319\n",
      "9  0.523384  0.465534  0.286456  0.204596\n"
     ]
    }
   ],
   "source": [
    "df2 = df.loc[ df['A'] > 0.500000]\n",
    "print(df2)"
   ]
  },
  {
   "cell_type": "code",
   "execution_count": 38,
   "id": "ddfb82ca",
   "metadata": {},
   "outputs": [
    {
     "data": {
      "text/plain": [
       "A    False\n",
       "B    False\n",
       "C    False\n",
       "D     True\n",
       "dtype: bool"
      ]
     },
     "execution_count": 38,
     "metadata": {},
     "output_type": "execute_result"
    }
   ],
   "source": [
    "df.mean() > 0.500000"
   ]
  },
  {
   "cell_type": "code",
   "execution_count": 39,
   "id": "3b449567",
   "metadata": {},
   "outputs": [
    {
     "name": "stdout",
     "output_type": "stream",
     "text": [
      "          D\n",
      "0  0.897446\n",
      "1  0.589517\n",
      "2  0.280825\n",
      "3  0.220265\n",
      "4  0.069738\n",
      "5  0.195577\n",
      "6  0.991319\n",
      "7  0.923197\n",
      "8  0.846672\n",
      "9  0.204596\n"
     ]
    }
   ],
   "source": [
    "df2 = df.loc[:,df.mean() > 0.500000]\n",
    "print(df2)"
   ]
  },
  {
   "cell_type": "code",
   "execution_count": 40,
   "id": "96a04e65",
   "metadata": {},
   "outputs": [
    {
     "data": {
      "text/plain": [
       "0    False\n",
       "1    False\n",
       "2    False\n",
       "3     True\n",
       "4    False\n",
       "5     True\n",
       "6     True\n",
       "7    False\n",
       "8     True\n",
       "9    False\n",
       "Name: A, dtype: bool"
      ]
     },
     "execution_count": 40,
     "metadata": {},
     "output_type": "execute_result"
    }
   ],
   "source": [
    "(df['A'] < 0.300000) | (df['A'] > 0.700000)"
   ]
  },
  {
   "cell_type": "code",
   "execution_count": 41,
   "id": "e535e315",
   "metadata": {},
   "outputs": [
    {
     "name": "stdout",
     "output_type": "stream",
     "text": [
      "          A         B         C         D\n",
      "3  0.776862  0.214410  0.576098  0.220265\n",
      "5  0.153605  0.003893  0.080816  0.195577\n",
      "6  0.835020  0.539567  0.384164  0.991319\n",
      "8  0.295068  0.667123  0.554785  0.846672\n"
     ]
    }
   ],
   "source": [
    "df2 = df[(df['A'] < 0.300000) | (df['A'] > 0.700000)]\n",
    "print(df2)"
   ]
  },
  {
   "cell_type": "code",
   "execution_count": 42,
   "id": "93a633ee",
   "metadata": {},
   "outputs": [
    {
     "name": "stdout",
     "output_type": "stream",
     "text": [
      "          D\n",
      "3  0.220265\n",
      "5  0.195577\n",
      "6  0.991319\n",
      "8  0.846672\n"
     ]
    }
   ],
   "source": [
    "cond1 = df['A'] < 0.300000\n",
    "cond2 = df['A'] > 0.700000\n",
    "cond3 = df.mean() > 0.500000\n",
    "\n",
    "df2 = df.loc[cond1 | cond2 ,cond3]\n",
    "print(df2)"
   ]
  },
  {
   "cell_type": "code",
   "execution_count": 43,
   "id": "3d31cc82",
   "metadata": {},
   "outputs": [
    {
     "name": "stdout",
     "output_type": "stream",
     "text": [
      "          A         B         C         D\n",
      "0  0.453761  0.800801  0.175066  0.545256\n",
      "1  0.467465  0.403239  0.471259  0.003837\n",
      "2  0.024711  0.336662  0.041231  0.526107\n",
      "3  0.152140  0.603291  0.011055  0.592784\n",
      "4  0.681096  0.689317  0.293595  0.141446\n",
      "5  0.903170  0.572760  0.407412  0.093289\n",
      "6  0.280210  0.718295  0.529035  0.324501\n",
      "7  0.583824  0.295003  0.487167  0.676153\n",
      "8  0.325317  0.619677  0.360045  0.191538\n",
      "9  0.518607  0.907475  0.421842  0.545217\n"
     ]
    }
   ],
   "source": [
    "df = pd.DataFrame(np.random.rand(40).reshape(10,4), columns = ['A','B','C','D'])\n",
    "print(df)"
   ]
  },
  {
   "cell_type": "code",
   "execution_count": 44,
   "id": "f79e6553",
   "metadata": {},
   "outputs": [
    {
     "name": "stdout",
     "output_type": "stream",
     "text": [
      "       A     B      C      D\n",
      "0   True  True   True   True\n",
      "1   True  True   True  False\n",
      "2  False  True  False   True\n",
      "3   True  True  False   True\n",
      "4   True  True   True   True\n",
      "5   True  True   True  False\n",
      "6   True  True   True   True\n",
      "7   True  True   True   True\n",
      "8   True  True   True   True\n",
      "9   True  True   True   True\n"
     ]
    }
   ],
   "source": [
    "df2 = df > 0.1\n",
    "print(df2)"
   ]
  },
  {
   "cell_type": "code",
   "execution_count": 49,
   "id": "e28120ef",
   "metadata": {},
   "outputs": [
    {
     "data": {
      "text/plain": [
       "A    False\n",
       "B     True\n",
       "C     True\n",
       "dtype: bool"
      ]
     },
     "execution_count": 49,
     "metadata": {},
     "output_type": "execute_result"
    }
   ],
   "source": [
    "(df > 0.1).all()"
   ]
  },
  {
   "cell_type": "code",
   "execution_count": 50,
   "id": "d2a97a69",
   "metadata": {},
   "outputs": [
    {
     "data": {
      "text/plain": [
       "A    True\n",
       "B    True\n",
       "C    True\n",
       "dtype: bool"
      ]
     },
     "execution_count": 50,
     "metadata": {},
     "output_type": "execute_result"
    }
   ],
   "source": [
    "(df > 0.1).any()"
   ]
  },
  {
   "cell_type": "code",
   "execution_count": 51,
   "id": "235b4410",
   "metadata": {},
   "outputs": [
    {
     "data": {
      "text/plain": [
       "True"
      ]
     },
     "execution_count": 51,
     "metadata": {},
     "output_type": "execute_result"
    }
   ],
   "source": [
    "(df > 0.1).any().any()"
   ]
  },
  {
   "cell_type": "code",
   "execution_count": 52,
   "id": "a59beb0f",
   "metadata": {},
   "outputs": [
    {
     "name": "stdout",
     "output_type": "stream",
     "text": [
      "   A  B  C\n",
      "0  0  1  2\n",
      "1  3  4  5\n",
      "2  6  7  8\n"
     ]
    }
   ],
   "source": [
    "df = pd.DataFrame(np.arange(9).reshape(3,3), columns = ['A','B','C'])\n",
    "print(df)"
   ]
  },
  {
   "cell_type": "code",
   "execution_count": 53,
   "id": "ff2ab9f0",
   "metadata": {
    "scrolled": true
   },
   "outputs": [
    {
     "name": "stdout",
     "output_type": "stream",
     "text": [
      "       A      B      C\n",
      "0   True  False  False\n",
      "1   True  False  False\n",
      "2  False  False  False\n"
     ]
    }
   ],
   "source": [
    "df2 = df.isin([0,3])\n",
    "print(df2)"
   ]
  },
  {
   "cell_type": "code",
   "execution_count": 54,
   "id": "4fa7284d",
   "metadata": {},
   "outputs": [
    {
     "name": "stdout",
     "output_type": "stream",
     "text": [
      "     A   B   C\n",
      "0  0.0 NaN NaN\n",
      "1  3.0 NaN NaN\n",
      "2  NaN NaN NaN\n"
     ]
    }
   ],
   "source": [
    "print(df[df2])"
   ]
  },
  {
   "cell_type": "code",
   "execution_count": 55,
   "id": "7c00583a",
   "metadata": {},
   "outputs": [
    {
     "name": "stdout",
     "output_type": "stream",
     "text": [
      "     A\n",
      "0  0.0\n",
      "1  3.0\n"
     ]
    }
   ],
   "source": [
    "df2 = df[df.isin([0,3])].dropna(thresh=1).dropna(axis=1)\n",
    "print(df2)"
   ]
  },
  {
   "cell_type": "markdown",
   "id": "9af264df",
   "metadata": {},
   "source": [
    "# Editing"
   ]
  },
  {
   "cell_type": "code",
   "execution_count": 56,
   "id": "40b8aa42",
   "metadata": {},
   "outputs": [
    {
     "name": "stdout",
     "output_type": "stream",
     "text": [
      "   A  B  C\n",
      "a  1  2  3\n",
      "b  4  5  6\n",
      "c  7  8  9\n"
     ]
    }
   ],
   "source": [
    "df = pd.DataFrame([[1,2,3],[4,5,6],[7,8,9]], \n",
    "                     index=['a','b','c'], \n",
    "                     columns=['A','B','C'])\n",
    "print(df)"
   ]
  },
  {
   "cell_type": "code",
   "execution_count": 57,
   "id": "e31547db",
   "metadata": {},
   "outputs": [
    {
     "name": "stdout",
     "output_type": "stream",
     "text": [
      "   A  B  C   D\n",
      "a  1  2  3  17\n",
      "b  4  5  6  17\n",
      "c  7  8  9  17\n"
     ]
    }
   ],
   "source": [
    "df['D'] = 17 \n",
    "print(df)"
   ]
  },
  {
   "cell_type": "code",
   "execution_count": 58,
   "id": "e79fc990",
   "metadata": {},
   "outputs": [
    {
     "data": {
      "text/plain": [
       "a    17\n",
       "b    17\n",
       "c    17\n",
       "Name: D, dtype: int64"
      ]
     },
     "execution_count": 58,
     "metadata": {},
     "output_type": "execute_result"
    }
   ],
   "source": [
    "df['D'] "
   ]
  },
  {
   "cell_type": "code",
   "execution_count": 59,
   "id": "ebe1903b",
   "metadata": {},
   "outputs": [
    {
     "name": "stdout",
     "output_type": "stream",
     "text": [
      "   A  B  C   D   E\n",
      "a  1  2  3  17  13\n",
      "b  4  5  6  17  14\n",
      "c  7  8  9  17  15\n"
     ]
    }
   ],
   "source": [
    "df['E'] = [13,14,15]\n",
    "print(df)"
   ]
  },
  {
   "cell_type": "code",
   "execution_count": 60,
   "id": "bff04f5f",
   "metadata": {},
   "outputs": [
    {
     "name": "stdout",
     "output_type": "stream",
     "text": [
      "   A  B  C      D   E\n",
      "a  1  2  3    one  13\n",
      "b  4  5  6    two  14\n",
      "c  7  8  9  three  15\n"
     ]
    }
   ],
   "source": [
    "df['D'] = ['one','two', 'three']\n",
    "print(df)"
   ]
  },
  {
   "cell_type": "code",
   "execution_count": 61,
   "id": "d20806d9",
   "metadata": {},
   "outputs": [
    {
     "name": "stdout",
     "output_type": "stream",
     "text": [
      "   A  B  C   D   E\n",
      "a  1  2  3  10  13\n",
      "b  4  5  6  11  14\n",
      "c  7  8  9  12  15\n"
     ]
    }
   ],
   "source": [
    "sr = pd.Series([10,11,12],index=['a','b','c'])\n",
    "df['D'] = sr \n",
    "print(df)"
   ]
  },
  {
   "cell_type": "code",
   "execution_count": 62,
   "id": "e51d50c7",
   "metadata": {},
   "outputs": [
    {
     "name": "stdout",
     "output_type": "stream",
     "text": [
      "   A  B  C   D\n",
      "a  1  2  3  10\n",
      "b  4  5  6  11\n",
      "c  7  8  9  12\n"
     ]
    }
   ],
   "source": [
    "del df['E']\n",
    "print(df)"
   ]
  },
  {
   "cell_type": "code",
   "execution_count": 63,
   "id": "10780e37",
   "metadata": {},
   "outputs": [
    {
     "name": "stdout",
     "output_type": "stream",
     "text": [
      "<class 'pandas.core.series.Series'>\n",
      "   A  B  C\n",
      "a  1  2  3\n",
      "b  4  5  6\n",
      "c  7  8  9\n"
     ]
    }
   ],
   "source": [
    "sr = df.pop('D')  \n",
    "print(type(sr))   \n",
    "print(df)"
   ]
  },
  {
   "cell_type": "code",
   "execution_count": 64,
   "id": "38a02c4e",
   "metadata": {},
   "outputs": [
    {
     "name": "stdout",
     "output_type": "stream",
     "text": [
      "   A   Z  B  C\n",
      "a  1  10  2  3\n",
      "b  4  11  5  6\n",
      "c  7  12  8  9\n"
     ]
    }
   ],
   "source": [
    "df.insert(1, 'Z', sr) \n",
    "print(df)"
   ]
  },
  {
   "cell_type": "code",
   "execution_count": 65,
   "id": "2076e6cd",
   "metadata": {},
   "outputs": [
    {
     "name": "stdout",
     "output_type": "stream",
     "text": [
      "   A   Z  B  B2  C\n",
      "a  1  10  2   2  3\n",
      "b  4  11  5   5  6\n",
      "c  7  12  8   8  9\n"
     ]
    }
   ],
   "source": [
    "df.insert(3, 'B2', df['B'])\n",
    "print(df)\n"
   ]
  },
  {
   "cell_type": "code",
   "execution_count": 66,
   "id": "ae896dbc",
   "metadata": {},
   "outputs": [
    {
     "name": "stdout",
     "output_type": "stream",
     "text": [
      "   A  B  C\n",
      "a  1  2  3\n",
      "b  4  5  6\n",
      "c  7  8  9\n"
     ]
    }
   ],
   "source": [
    "df = pd.DataFrame([[1,2,3],[4,5,6],[7,8,9]], \n",
    "                     index=['a','b','c'], \n",
    "                     columns=['A','B','C'])\n",
    "print(df)"
   ]
  },
  {
   "cell_type": "code",
   "execution_count": 67,
   "id": "57868738",
   "metadata": {},
   "outputs": [
    {
     "name": "stdout",
     "output_type": "stream",
     "text": [
      "a    1\n",
      "b    4\n",
      "c    7\n",
      "Name: A, dtype: int64\n"
     ]
    }
   ],
   "source": [
    "print(df['A'])"
   ]
  },
  {
   "cell_type": "code",
   "execution_count": 68,
   "id": "7e3dbd5b",
   "metadata": {},
   "outputs": [
    {
     "name": "stdout",
     "output_type": "stream",
     "text": [
      "a    1\n",
      "b    4\n",
      "c    7\n",
      "Name: A, dtype: int64\n"
     ]
    }
   ],
   "source": [
    "print(df.A)"
   ]
  },
  {
   "cell_type": "code",
   "execution_count": 69,
   "id": "7ad36bb0",
   "metadata": {},
   "outputs": [
    {
     "name": "stdout",
     "output_type": "stream",
     "text": [
      "<class 'pandas.core.series.Series'>\n"
     ]
    }
   ],
   "source": [
    "t = df.loc['a']\n",
    "print(type(t)) "
   ]
  },
  {
   "cell_type": "code",
   "execution_count": 70,
   "id": "c20cab26",
   "metadata": {},
   "outputs": [
    {
     "name": "stdout",
     "output_type": "stream",
     "text": [
      "    A   B   C\n",
      "a   1   2   3\n",
      "b   4   5   6\n",
      "c   7   8   9\n",
      "d  12  12  12\n"
     ]
    }
   ],
   "source": [
    "df.loc['d'] = 12 \n",
    "print(df)"
   ]
  },
  {
   "cell_type": "code",
   "execution_count": 71,
   "id": "6fe49c0f",
   "metadata": {},
   "outputs": [
    {
     "name": "stdout",
     "output_type": "stream",
     "text": [
      "    A   B   C\n",
      "a   1   2   3\n",
      "b   4   5   6\n",
      "c   7   8   9\n",
      "d  10  10  10\n"
     ]
    }
   ],
   "source": [
    "df.loc['d'] = 10 \n",
    "print(df)"
   ]
  },
  {
   "cell_type": "code",
   "execution_count": 72,
   "id": "de94d247",
   "metadata": {},
   "outputs": [
    {
     "name": "stdout",
     "output_type": "stream",
     "text": [
      "    A   B   C\n",
      "a   1   2   3\n",
      "b   4   5   6\n",
      "c   7   8   9\n",
      "d  10  11  12\n"
     ]
    }
   ],
   "source": [
    "df.loc['d'] = [10, 11, 12] \n",
    "print(df)"
   ]
  },
  {
   "cell_type": "code",
   "execution_count": 73,
   "id": "43af3795",
   "metadata": {},
   "outputs": [
    {
     "name": "stdout",
     "output_type": "stream",
     "text": [
      "    A   B   C\n",
      "a   1   2   3\n",
      "b   4   5   6\n",
      "c   7   8   9\n",
      "d  13  14  15\n"
     ]
    }
   ],
   "source": [
    "sr = pd.Series([13,14,15], index=['A','B','C'], name=\"e\") #aggiungi riga con series\n",
    "df.loc['d'] = sr\n",
    "print(df)"
   ]
  },
  {
   "cell_type": "code",
   "execution_count": 74,
   "id": "2c7eafdc",
   "metadata": {},
   "outputs": [
    {
     "ename": "AttributeError",
     "evalue": "__delitem__",
     "output_type": "error",
     "traceback": [
      "\u001b[1;31m---------------------------------------------------------------------------\u001b[0m",
      "\u001b[1;31mAttributeError\u001b[0m                            Traceback (most recent call last)",
      "\u001b[1;32m<ipython-input-74-3c920b835ae9>\u001b[0m in \u001b[0;36m<module>\u001b[1;34m\u001b[0m\n\u001b[1;32m----> 1\u001b[1;33m \u001b[1;32mdel\u001b[0m \u001b[0mdf\u001b[0m\u001b[1;33m.\u001b[0m\u001b[0mloc\u001b[0m\u001b[1;33m[\u001b[0m\u001b[1;34m'd'\u001b[0m\u001b[1;33m]\u001b[0m\u001b[1;33m\u001b[0m\u001b[1;33m\u001b[0m\u001b[0m\n\u001b[0m",
      "\u001b[1;31mAttributeError\u001b[0m: __delitem__"
     ]
    }
   ],
   "source": [
    "del df.loc['d']"
   ]
  },
  {
   "cell_type": "code",
   "execution_count": 75,
   "id": "ced75096",
   "metadata": {},
   "outputs": [
    {
     "name": "stdout",
     "output_type": "stream",
     "text": [
      "    A   B   C\n",
      "b   4   5   6\n",
      "c   7   8   9\n",
      "d  13  14  15\n"
     ]
    }
   ],
   "source": [
    "df2 = df.drop(['a'],axis=0) \n",
    "print(df2)"
   ]
  },
  {
   "cell_type": "code",
   "execution_count": 76,
   "id": "23078a82",
   "metadata": {},
   "outputs": [
    {
     "name": "stdout",
     "output_type": "stream",
     "text": [
      "    B   C\n",
      "a   2   3\n",
      "b   5   6\n",
      "c   8   9\n",
      "d  14  15\n"
     ]
    }
   ],
   "source": [
    "df3 = df.drop(['A'],axis=1) \n",
    "print(df3)"
   ]
  },
  {
   "cell_type": "code",
   "execution_count": 77,
   "id": "257a13f8",
   "metadata": {},
   "outputs": [
    {
     "name": "stdout",
     "output_type": "stream",
     "text": [
      "    A   B   C\n",
      "b   4   5   6\n",
      "d  13  14  15\n"
     ]
    }
   ],
   "source": [
    "df2 = df.drop(['a','c'],axis=0) \n",
    "print(df2)"
   ]
  },
  {
   "cell_type": "code",
   "execution_count": 78,
   "id": "24b25abe",
   "metadata": {},
   "outputs": [
    {
     "name": "stdout",
     "output_type": "stream",
     "text": [
      "    A   B   C\n",
      "b   4   5   6\n",
      "c   7   8   9\n",
      "d  13  14  15\n"
     ]
    }
   ],
   "source": [
    "df = df.drop(['a'],axis=0) \n",
    "print(df)"
   ]
  },
  {
   "cell_type": "code",
   "execution_count": 79,
   "id": "819e0936",
   "metadata": {},
   "outputs": [
    {
     "name": "stdout",
     "output_type": "stream",
     "text": [
      "   A  B  C\n",
      "a  8  9  4\n",
      "b  5  6  8\n",
      "c  8  9  3\n"
     ]
    }
   ],
   "source": [
    "df = pd.DataFrame(np.random.randint(1,10,9).reshape(3,3), \n",
    "                     index=['a','b','c'], \n",
    "                     columns=['A','B','C'])\n",
    "print(df)"
   ]
  },
  {
   "cell_type": "code",
   "execution_count": 80,
   "id": "34f35901",
   "metadata": {},
   "outputs": [
    {
     "name": "stdout",
     "output_type": "stream",
     "text": [
      "   A  B  C   D\n",
      "a  8  9  4  16\n",
      "b  5  6  8  10\n",
      "c  8  9  3  16\n"
     ]
    }
   ],
   "source": [
    "df2 = df.assign(D = df['A']*2)\n",
    "print(df2)"
   ]
  },
  {
   "cell_type": "code",
   "execution_count": 81,
   "id": "c19de8f8",
   "metadata": {},
   "outputs": [
    {
     "name": "stdout",
     "output_type": "stream",
     "text": [
      "   A  B  C   D\n",
      "a  8  9  4  16\n",
      "b  5  6  8  10\n",
      "c  8  9  3  16\n"
     ]
    }
   ],
   "source": [
    "df = df.assign(D = df['A']*2)\n",
    "print(df)"
   ]
  },
  {
   "cell_type": "code",
   "execution_count": 82,
   "id": "942dde90",
   "metadata": {},
   "outputs": [
    {
     "name": "stdout",
     "output_type": "stream",
     "text": [
      "   A  B  C         D\n",
      "a  8  9  4  2.828427\n",
      "b  5  6  8  2.236068\n",
      "c  8  9  3  2.828427\n"
     ]
    }
   ],
   "source": [
    "df = df.assign(D = np.sqrt(df['A']))\n",
    "print(df)"
   ]
  },
  {
   "cell_type": "code",
   "execution_count": 83,
   "id": "8c4bfc52",
   "metadata": {},
   "outputs": [
    {
     "name": "stdout",
     "output_type": "stream",
     "text": [
      "   A  B  C  D\n",
      "a  8  9  4  1\n",
      "b  5  6  8  1\n",
      "c  8  9  3  1\n"
     ]
    }
   ],
   "source": [
    "df2 = df.assign(D = np.repeat(1,3))\n",
    "print(df2)"
   ]
  },
  {
   "cell_type": "markdown",
   "id": "1002ac4a",
   "metadata": {},
   "source": [
    "# Descriptive Statistics"
   ]
  },
  {
   "cell_type": "code",
   "execution_count": 84,
   "id": "e442da90",
   "metadata": {},
   "outputs": [
    {
     "name": "stdout",
     "output_type": "stream",
     "text": [
      "          0         1         2         3\n",
      "0  0.673244  0.978679  0.877820  0.752886\n",
      "1  0.305652  0.303320  0.633705  0.575937\n",
      "2  0.967124  0.856613  0.026782  0.501061\n",
      "3  0.053046  0.864811  0.318213  0.977860\n",
      "4  0.867881  0.173786  0.302295  0.710679\n",
      "5  0.339930  0.134992  0.636692  0.129549\n",
      "6  0.955246  0.420658  0.772436  0.700173\n",
      "7  0.709897  0.952385  0.157090  0.156127\n",
      "8  0.646787  0.391175  0.324365  0.066733\n",
      "9  0.967914  0.622521  0.747837  0.508484\n"
     ]
    }
   ],
   "source": [
    "df = pd.DataFrame(np.random.rand(40).reshape(10,4))\n",
    "print(df)"
   ]
  },
  {
   "cell_type": "code",
   "execution_count": 85,
   "id": "ab8fb2ae",
   "metadata": {},
   "outputs": [
    {
     "data": {
      "text/html": [
       "<div>\n",
       "<style scoped>\n",
       "    .dataframe tbody tr th:only-of-type {\n",
       "        vertical-align: middle;\n",
       "    }\n",
       "\n",
       "    .dataframe tbody tr th {\n",
       "        vertical-align: top;\n",
       "    }\n",
       "\n",
       "    .dataframe thead th {\n",
       "        text-align: right;\n",
       "    }\n",
       "</style>\n",
       "<table border=\"1\" class=\"dataframe\">\n",
       "  <thead>\n",
       "    <tr style=\"text-align: right;\">\n",
       "      <th></th>\n",
       "      <th>0</th>\n",
       "      <th>1</th>\n",
       "      <th>2</th>\n",
       "      <th>3</th>\n",
       "    </tr>\n",
       "  </thead>\n",
       "  <tbody>\n",
       "    <tr>\n",
       "      <th>count</th>\n",
       "      <td>10.000000</td>\n",
       "      <td>10.000000</td>\n",
       "      <td>10.000000</td>\n",
       "      <td>10.000000</td>\n",
       "    </tr>\n",
       "    <tr>\n",
       "      <th>mean</th>\n",
       "      <td>0.648672</td>\n",
       "      <td>0.569894</td>\n",
       "      <td>0.479724</td>\n",
       "      <td>0.507949</td>\n",
       "    </tr>\n",
       "    <tr>\n",
       "      <th>std</th>\n",
       "      <td>0.319284</td>\n",
       "      <td>0.326032</td>\n",
       "      <td>0.289702</td>\n",
       "      <td>0.302796</td>\n",
       "    </tr>\n",
       "    <tr>\n",
       "      <th>min</th>\n",
       "      <td>0.053046</td>\n",
       "      <td>0.134992</td>\n",
       "      <td>0.026782</td>\n",
       "      <td>0.066733</td>\n",
       "    </tr>\n",
       "    <tr>\n",
       "      <th>25%</th>\n",
       "      <td>0.416645</td>\n",
       "      <td>0.325283</td>\n",
       "      <td>0.306275</td>\n",
       "      <td>0.242360</td>\n",
       "    </tr>\n",
       "    <tr>\n",
       "      <th>50%</th>\n",
       "      <td>0.691571</td>\n",
       "      <td>0.521590</td>\n",
       "      <td>0.479035</td>\n",
       "      <td>0.542210</td>\n",
       "    </tr>\n",
       "    <tr>\n",
       "      <th>75%</th>\n",
       "      <td>0.933405</td>\n",
       "      <td>0.862761</td>\n",
       "      <td>0.720051</td>\n",
       "      <td>0.708053</td>\n",
       "    </tr>\n",
       "    <tr>\n",
       "      <th>max</th>\n",
       "      <td>0.967914</td>\n",
       "      <td>0.978679</td>\n",
       "      <td>0.877820</td>\n",
       "      <td>0.977860</td>\n",
       "    </tr>\n",
       "  </tbody>\n",
       "</table>\n",
       "</div>"
      ],
      "text/plain": [
       "               0          1          2          3\n",
       "count  10.000000  10.000000  10.000000  10.000000\n",
       "mean    0.648672   0.569894   0.479724   0.507949\n",
       "std     0.319284   0.326032   0.289702   0.302796\n",
       "min     0.053046   0.134992   0.026782   0.066733\n",
       "25%     0.416645   0.325283   0.306275   0.242360\n",
       "50%     0.691571   0.521590   0.479035   0.542210\n",
       "75%     0.933405   0.862761   0.720051   0.708053\n",
       "max     0.967914   0.978679   0.877820   0.977860"
      ]
     },
     "execution_count": 85,
     "metadata": {},
     "output_type": "execute_result"
    }
   ],
   "source": [
    "df.describe() "
   ]
  },
  {
   "cell_type": "code",
   "execution_count": 86,
   "id": "2040f905",
   "metadata": {},
   "outputs": [
    {
     "data": {
      "text/html": [
       "<div>\n",
       "<style scoped>\n",
       "    .dataframe tbody tr th:only-of-type {\n",
       "        vertical-align: middle;\n",
       "    }\n",
       "\n",
       "    .dataframe tbody tr th {\n",
       "        vertical-align: top;\n",
       "    }\n",
       "\n",
       "    .dataframe thead th {\n",
       "        text-align: right;\n",
       "    }\n",
       "</style>\n",
       "<table border=\"1\" class=\"dataframe\">\n",
       "  <thead>\n",
       "    <tr style=\"text-align: right;\">\n",
       "      <th></th>\n",
       "      <th>numb</th>\n",
       "    </tr>\n",
       "  </thead>\n",
       "  <tbody>\n",
       "    <tr>\n",
       "      <th>count</th>\n",
       "      <td>5.000000</td>\n",
       "    </tr>\n",
       "    <tr>\n",
       "      <th>mean</th>\n",
       "      <td>3.000000</td>\n",
       "    </tr>\n",
       "    <tr>\n",
       "      <th>std</th>\n",
       "      <td>1.581139</td>\n",
       "    </tr>\n",
       "    <tr>\n",
       "      <th>min</th>\n",
       "      <td>1.000000</td>\n",
       "    </tr>\n",
       "    <tr>\n",
       "      <th>25%</th>\n",
       "      <td>2.000000</td>\n",
       "    </tr>\n",
       "    <tr>\n",
       "      <th>50%</th>\n",
       "      <td>3.000000</td>\n",
       "    </tr>\n",
       "    <tr>\n",
       "      <th>75%</th>\n",
       "      <td>4.000000</td>\n",
       "    </tr>\n",
       "    <tr>\n",
       "      <th>max</th>\n",
       "      <td>5.000000</td>\n",
       "    </tr>\n",
       "  </tbody>\n",
       "</table>\n",
       "</div>"
      ],
      "text/plain": [
       "           numb\n",
       "count  5.000000\n",
       "mean   3.000000\n",
       "std    1.581139\n",
       "min    1.000000\n",
       "25%    2.000000\n",
       "50%    3.000000\n",
       "75%    4.000000\n",
       "max    5.000000"
      ]
     },
     "execution_count": 86,
     "metadata": {},
     "output_type": "execute_result"
    }
   ],
   "source": [
    "df2 = pd.DataFrame([[1,'one', True],[2,'two',False],\n",
    "                    [3,'three',True],[4,'four',False],[5,'five', False]], \n",
    "                   columns=['numb','word','bool'])\n",
    "df2.describe()"
   ]
  },
  {
   "cell_type": "code",
   "execution_count": 87,
   "id": "28a934ec",
   "metadata": {
    "scrolled": true
   },
   "outputs": [
    {
     "data": {
      "text/html": [
       "<div>\n",
       "<style scoped>\n",
       "    .dataframe tbody tr th:only-of-type {\n",
       "        vertical-align: middle;\n",
       "    }\n",
       "\n",
       "    .dataframe tbody tr th {\n",
       "        vertical-align: top;\n",
       "    }\n",
       "\n",
       "    .dataframe thead th {\n",
       "        text-align: right;\n",
       "    }\n",
       "</style>\n",
       "<table border=\"1\" class=\"dataframe\">\n",
       "  <thead>\n",
       "    <tr style=\"text-align: right;\">\n",
       "      <th></th>\n",
       "      <th>word</th>\n",
       "      <th>bool</th>\n",
       "    </tr>\n",
       "  </thead>\n",
       "  <tbody>\n",
       "    <tr>\n",
       "      <th>count</th>\n",
       "      <td>5</td>\n",
       "      <td>5</td>\n",
       "    </tr>\n",
       "    <tr>\n",
       "      <th>unique</th>\n",
       "      <td>5</td>\n",
       "      <td>2</td>\n",
       "    </tr>\n",
       "    <tr>\n",
       "      <th>top</th>\n",
       "      <td>one</td>\n",
       "      <td>False</td>\n",
       "    </tr>\n",
       "    <tr>\n",
       "      <th>freq</th>\n",
       "      <td>1</td>\n",
       "      <td>3</td>\n",
       "    </tr>\n",
       "  </tbody>\n",
       "</table>\n",
       "</div>"
      ],
      "text/plain": [
       "       word   bool\n",
       "count     5      5\n",
       "unique    5      2\n",
       "top     one  False\n",
       "freq      1      3"
      ]
     },
     "execution_count": 87,
     "metadata": {},
     "output_type": "execute_result"
    }
   ],
   "source": [
    "df2[['word','bool']].describe()"
   ]
  },
  {
   "cell_type": "code",
   "execution_count": 88,
   "id": "9b812b00",
   "metadata": {},
   "outputs": [
    {
     "data": {
      "text/html": [
       "<div>\n",
       "<style scoped>\n",
       "    .dataframe tbody tr th:only-of-type {\n",
       "        vertical-align: middle;\n",
       "    }\n",
       "\n",
       "    .dataframe tbody tr th {\n",
       "        vertical-align: top;\n",
       "    }\n",
       "\n",
       "    .dataframe thead th {\n",
       "        text-align: right;\n",
       "    }\n",
       "</style>\n",
       "<table border=\"1\" class=\"dataframe\">\n",
       "  <thead>\n",
       "    <tr style=\"text-align: right;\">\n",
       "      <th></th>\n",
       "      <th>numb</th>\n",
       "    </tr>\n",
       "  </thead>\n",
       "  <tbody>\n",
       "    <tr>\n",
       "      <th>count</th>\n",
       "      <td>5.000000</td>\n",
       "    </tr>\n",
       "    <tr>\n",
       "      <th>mean</th>\n",
       "      <td>3.000000</td>\n",
       "    </tr>\n",
       "    <tr>\n",
       "      <th>std</th>\n",
       "      <td>1.581139</td>\n",
       "    </tr>\n",
       "    <tr>\n",
       "      <th>min</th>\n",
       "      <td>1.000000</td>\n",
       "    </tr>\n",
       "    <tr>\n",
       "      <th>25%</th>\n",
       "      <td>2.000000</td>\n",
       "    </tr>\n",
       "    <tr>\n",
       "      <th>50%</th>\n",
       "      <td>3.000000</td>\n",
       "    </tr>\n",
       "    <tr>\n",
       "      <th>75%</th>\n",
       "      <td>4.000000</td>\n",
       "    </tr>\n",
       "    <tr>\n",
       "      <th>max</th>\n",
       "      <td>5.000000</td>\n",
       "    </tr>\n",
       "  </tbody>\n",
       "</table>\n",
       "</div>"
      ],
      "text/plain": [
       "           numb\n",
       "count  5.000000\n",
       "mean   3.000000\n",
       "std    1.581139\n",
       "min    1.000000\n",
       "25%    2.000000\n",
       "50%    3.000000\n",
       "75%    4.000000\n",
       "max    5.000000"
      ]
     },
     "execution_count": 88,
     "metadata": {},
     "output_type": "execute_result"
    }
   ],
   "source": [
    "df2.describe(include=['int'])"
   ]
  },
  {
   "cell_type": "code",
   "execution_count": 89,
   "id": "a8bce1e7",
   "metadata": {},
   "outputs": [
    {
     "data": {
      "text/plain": [
       "0    0.648672\n",
       "1    0.569894\n",
       "2    0.479724\n",
       "3    0.507949\n",
       "dtype: float64"
      ]
     },
     "execution_count": 89,
     "metadata": {},
     "output_type": "execute_result"
    }
   ],
   "source": [
    "df.mean(0) #df.mean(axis=0) #df.mean()"
   ]
  },
  {
   "cell_type": "code",
   "execution_count": 90,
   "id": "8df99c58",
   "metadata": {},
   "outputs": [
    {
     "data": {
      "text/plain": [
       "0    0.820657\n",
       "1    0.454654\n",
       "2    0.587895\n",
       "3    0.553482\n",
       "4    0.513660\n",
       "5    0.310291\n",
       "6    0.712128\n",
       "7    0.493875\n",
       "8    0.357265\n",
       "9    0.711689\n",
       "dtype: float64"
      ]
     },
     "execution_count": 90,
     "metadata": {},
     "output_type": "execute_result"
    }
   ],
   "source": [
    "df.mean(1) #df.mean(axis=1)"
   ]
  },
  {
   "cell_type": "code",
   "execution_count": 91,
   "id": "57468e02",
   "metadata": {},
   "outputs": [
    {
     "data": {
      "text/plain": [
       "0    0.319284\n",
       "1    0.326032\n",
       "2    0.289702\n",
       "3    0.302796\n",
       "dtype: float64"
      ]
     },
     "execution_count": 91,
     "metadata": {},
     "output_type": "execute_result"
    }
   ],
   "source": [
    "df.std()"
   ]
  },
  {
   "cell_type": "code",
   "execution_count": 92,
   "id": "a5812aba",
   "metadata": {},
   "outputs": [
    {
     "name": "stdout",
     "output_type": "stream",
     "text": [
      "0   -1.110223e-17\n",
      "1    1.249001e-16\n",
      "2    6.661338e-17\n",
      "3   -2.236709e-16\n",
      "dtype: float64\n",
      "0    1.0\n",
      "1    1.0\n",
      "2    1.0\n",
      "3    1.0\n",
      "dtype: float64\n"
     ]
    }
   ],
   "source": [
    "std = ( df - df.mean())/ df.std()\n",
    "print(std.mean())\n",
    "print(std.std())"
   ]
  },
  {
   "cell_type": "markdown",
   "id": "c30f949c",
   "metadata": {},
   "source": [
    "# Trasposition, Sorting and Reindexing"
   ]
  },
  {
   "cell_type": "code",
   "execution_count": 93,
   "id": "32bc9672",
   "metadata": {},
   "outputs": [
    {
     "name": "stdout",
     "output_type": "stream",
     "text": [
      "   A  B  C\n",
      "a  1  2  3\n",
      "b  4  5  6\n",
      "c  7  8  9\n"
     ]
    }
   ],
   "source": [
    "df = pd.DataFrame([[1,2,3],[4,5,6],[7,8,9]], \n",
    "                     index=['a','b','c'], \n",
    "                     columns=['A','B','C'])\n",
    "print(df)"
   ]
  },
  {
   "cell_type": "code",
   "execution_count": 94,
   "id": "fb4ca041",
   "metadata": {},
   "outputs": [
    {
     "name": "stdout",
     "output_type": "stream",
     "text": [
      "   a  b  c\n",
      "A  1  4  7\n",
      "B  2  5  8\n",
      "C  3  6  9\n"
     ]
    }
   ],
   "source": [
    "print(df.T)"
   ]
  },
  {
   "cell_type": "code",
   "execution_count": 95,
   "id": "551875d3",
   "metadata": {},
   "outputs": [
    {
     "name": "stdout",
     "output_type": "stream",
     "text": [
      "   C  D  A  B\n",
      "b  4  5  4  8\n",
      "d  9  5  8  5\n",
      "c  8  3  2  5\n",
      "a  5  5  3  2\n"
     ]
    }
   ],
   "source": [
    "df = pd.DataFrame(np.random.randint(10, size=16).reshape(4,4), \n",
    "                     index=['b','d','c','a'], \n",
    "                     columns=['C','D','A','B'])\n",
    "print(df)"
   ]
  },
  {
   "cell_type": "code",
   "execution_count": 96,
   "id": "bd382e41",
   "metadata": {},
   "outputs": [
    {
     "name": "stdout",
     "output_type": "stream",
     "text": [
      "   C  D  A  B\n",
      "a  5  5  3  2\n",
      "b  4  5  4  8\n",
      "c  8  3  2  5\n",
      "d  9  5  8  5\n"
     ]
    }
   ],
   "source": [
    "df2 = df.sort_index()\n",
    "print(df2)"
   ]
  },
  {
   "cell_type": "code",
   "execution_count": 97,
   "id": "e8902394",
   "metadata": {},
   "outputs": [
    {
     "name": "stdout",
     "output_type": "stream",
     "text": [
      "   C  D  A  B\n",
      "d  9  5  8  5\n",
      "c  8  3  2  5\n",
      "b  4  5  4  8\n",
      "a  5  5  3  2\n"
     ]
    }
   ],
   "source": [
    "df2 = df.sort_index(ascending=False)\n",
    "print(df2)"
   ]
  },
  {
   "cell_type": "code",
   "execution_count": 98,
   "id": "b1d7218f",
   "metadata": {},
   "outputs": [
    {
     "name": "stdout",
     "output_type": "stream",
     "text": [
      "   A  B  C  D\n",
      "b  4  8  4  5\n",
      "d  8  5  9  5\n",
      "c  2  5  8  3\n",
      "a  3  2  5  5\n"
     ]
    }
   ],
   "source": [
    "df2 = df.sort_index(axis=1)\n",
    "print(df2)"
   ]
  },
  {
   "cell_type": "code",
   "execution_count": 99,
   "id": "68841931",
   "metadata": {},
   "outputs": [
    {
     "name": "stdout",
     "output_type": "stream",
     "text": [
      "   D  C  B  A\n",
      "b  5  4  8  4\n",
      "d  5  9  5  8\n",
      "c  3  8  5  2\n",
      "a  5  5  2  3\n"
     ]
    }
   ],
   "source": [
    "df2 = df.sort_index(axis=1, ascending=False)\n",
    "print(df2)"
   ]
  },
  {
   "cell_type": "code",
   "execution_count": 100,
   "id": "134f1446",
   "metadata": {},
   "outputs": [
    {
     "name": "stdout",
     "output_type": "stream",
     "text": [
      "   A  B  C  D\n",
      "a  3  2  5  5\n",
      "b  4  8  4  5\n",
      "c  2  5  8  3\n",
      "d  8  5  9  5\n"
     ]
    }
   ],
   "source": [
    "df2 = df.sort_index(axis=0).sort_index(axis=1)\n",
    "print(df2)"
   ]
  },
  {
   "cell_type": "code",
   "execution_count": 101,
   "id": "aba79a83",
   "metadata": {},
   "outputs": [
    {
     "name": "stdout",
     "output_type": "stream",
     "text": [
      "   C  D  A  B\n",
      "c  8  3  2  5\n",
      "a  5  5  3  2\n",
      "b  4  5  4  8\n",
      "d  9  5  8  5\n"
     ]
    }
   ],
   "source": [
    "df2 = df.sort_values(by='A')\n",
    "print(df2)"
   ]
  },
  {
   "cell_type": "code",
   "execution_count": 102,
   "id": "4b6b4a2f",
   "metadata": {},
   "outputs": [
    {
     "name": "stdout",
     "output_type": "stream",
     "text": [
      "   C  D  A  B\n",
      "d  9  5  0  5\n",
      "b  4  5  0  8\n",
      "a  5  5  2  2\n",
      "c  8  3  2  5\n"
     ]
    }
   ],
   "source": [
    "df['A'] = [0,0,2,2]\n",
    "df2 = df.sort_values(by=['A','B'])\n",
    "print(df2)"
   ]
  },
  {
   "cell_type": "code",
   "execution_count": 118,
   "id": "f313a8b7",
   "metadata": {},
   "outputs": [
    {
     "name": "stdout",
     "output_type": "stream",
     "text": [
      "   C  D  A  B\n",
      "b  6  6  5  3\n",
      "d  8  8  6  7\n",
      "c  8  7  6  7\n",
      "a  9  0  4  5\n",
      "   C  D  A  B\n",
      "a  9  0  0  5\n",
      "b  6  6  5  3\n",
      "c  8  7  6  7\n",
      "d  8  8  6  7\n"
     ]
    }
   ],
   "source": [
    "df2 = df.sort_index(axis=0)\n",
    "df2.loc['a','A'] = 0\n",
    "print(df)\n",
    "print(df2)"
   ]
  },
  {
   "cell_type": "code",
   "execution_count": 104,
   "id": "4e8ffb99",
   "metadata": {},
   "outputs": [
    {
     "name": "stdout",
     "output_type": "stream",
     "text": [
      "   C  D  A  B\n",
      "b  4  5  0  8\n",
      "d  9  5  0  5\n",
      "c  8  3  2  5\n",
      "a  5  5  2  2\n"
     ]
    }
   ],
   "source": [
    "df = df.sort_values(by='A')\n",
    "print(df)"
   ]
  },
  {
   "cell_type": "markdown",
   "id": "a158209b",
   "metadata": {},
   "source": [
    "# Reindexing"
   ]
  },
  {
   "cell_type": "code",
   "execution_count": 105,
   "id": "45b8eeef",
   "metadata": {},
   "outputs": [
    {
     "name": "stdout",
     "output_type": "stream",
     "text": [
      "   C  D  A  B\n",
      "b  6  6  5  3\n",
      "d  8  8  6  7\n",
      "c  8  7  6  7\n",
      "a  9  0  4  5\n"
     ]
    }
   ],
   "source": [
    "df = pd.DataFrame(np.random.randint(10, size=16).reshape(4,4), \n",
    "                     index=['b','d','c','a'], \n",
    "                     columns=['C','D','A','B'])\n",
    "print(df)"
   ]
  },
  {
   "cell_type": "code",
   "execution_count": 106,
   "id": "eac79df5",
   "metadata": {},
   "outputs": [
    {
     "name": "stdout",
     "output_type": "stream",
     "text": [
      "   C  D  A  B\n",
      "a  9  0  4  5\n",
      "b  6  6  5  3\n",
      "c  8  7  6  7\n",
      "d  8  8  6  7\n"
     ]
    }
   ],
   "source": [
    "df2 = df.reindex(['a','b','c','d'],axis=0)\n",
    "print(df2)"
   ]
  },
  {
   "cell_type": "code",
   "execution_count": 107,
   "id": "ead02486",
   "metadata": {},
   "outputs": [
    {
     "name": "stdout",
     "output_type": "stream",
     "text": [
      "   C  D  A  B\n",
      "a  9  0  4  5\n",
      "b  6  0  5  3\n",
      "c  8  7  6  7\n",
      "d  8  8  6  7\n",
      "   C  D  A  B\n",
      "b  6  6  5  3\n",
      "d  8  8  6  7\n",
      "c  8  7  6  7\n",
      "a  9  0  4  5\n"
     ]
    }
   ],
   "source": [
    "df2.iloc[1,1] = 0\n",
    "print(df2)\n",
    "print(df)"
   ]
  },
  {
   "cell_type": "code",
   "execution_count": 108,
   "id": "7b5196e9",
   "metadata": {},
   "outputs": [
    {
     "name": "stdout",
     "output_type": "stream",
     "text": [
      "   A  B  C  D\n",
      "b  5  3  6  6\n",
      "d  6  7  8  8\n",
      "c  6  7  8  7\n",
      "a  4  5  9  0\n"
     ]
    }
   ],
   "source": [
    "df2 = df.reindex(['A','B','C','D'],axis=1)\n",
    "print(df2)"
   ]
  },
  {
   "cell_type": "code",
   "execution_count": 109,
   "id": "59d52878",
   "metadata": {},
   "outputs": [
    {
     "name": "stdout",
     "output_type": "stream",
     "text": [
      "   A   E  C  D\n",
      "b  5 NaN  6  6\n",
      "d  6 NaN  8  8\n",
      "c  6 NaN  8  7\n",
      "a  4 NaN  9  0\n"
     ]
    }
   ],
   "source": [
    "df2 = df.reindex(['A','E','C','D',],axis=1)\n",
    "print(df2)"
   ]
  },
  {
   "cell_type": "code",
   "execution_count": 110,
   "id": "e88b3773",
   "metadata": {},
   "outputs": [
    {
     "name": "stdout",
     "output_type": "stream",
     "text": [
      "     A    B    C    D\n",
      "a  0.0  0.0  0.0  0.0\n",
      "b  0.0  0.0  0.0  0.0\n",
      "c  0.0  0.0  0.0  0.0\n",
      "d  0.0  0.0  0.0  0.0\n"
     ]
    }
   ],
   "source": [
    "dfo = pd.DataFrame(np.zeros(16).reshape(4,4), \n",
    "                     index=['a','b','c','d'], \n",
    "                     columns=['A','B','C','D'])\n",
    "print(dfo)"
   ]
  },
  {
   "cell_type": "code",
   "execution_count": 111,
   "id": "1dfa27c1",
   "metadata": {},
   "outputs": [
    {
     "name": "stdout",
     "output_type": "stream",
     "text": [
      "   A  B  C  D\n",
      "a  4  5  9  0\n",
      "b  5  3  6  6\n",
      "c  6  7  8  7\n",
      "d  6  7  8  8\n"
     ]
    }
   ],
   "source": [
    "df2 = df.reindex_like(dfo)\n",
    "print(df2)"
   ]
  },
  {
   "cell_type": "code",
   "execution_count": 112,
   "id": "e6326a06",
   "metadata": {},
   "outputs": [
    {
     "name": "stdout",
     "output_type": "stream",
     "text": [
      "     A    B    W    Z\n",
      "a  0.0  0.0  0.0  0.0\n",
      "b  0.0  0.0  0.0  0.0\n",
      "c  0.0  0.0  0.0  0.0\n",
      "e  0.0  0.0  0.0  0.0\n"
     ]
    }
   ],
   "source": [
    "dfo = pd.DataFrame(np.zeros(16).reshape(4,4), \n",
    "                     index=['a','b','c','e'], \n",
    "                     columns=['A','B','W','Z'])\n",
    "print(dfo)"
   ]
  },
  {
   "cell_type": "code",
   "execution_count": 113,
   "id": "9c2b8e1f",
   "metadata": {},
   "outputs": [
    {
     "name": "stdout",
     "output_type": "stream",
     "text": [
      "     A    B   W   Z\n",
      "a  4.0  5.0 NaN NaN\n",
      "b  5.0  3.0 NaN NaN\n",
      "c  6.0  7.0 NaN NaN\n",
      "e  NaN  NaN NaN NaN\n"
     ]
    }
   ],
   "source": [
    "df2 = df.reindex_like(dfo)\n",
    "print(df2)"
   ]
  },
  {
   "cell_type": "code",
   "execution_count": null,
   "id": "19923862",
   "metadata": {},
   "outputs": [],
   "source": []
  },
  {
   "cell_type": "code",
   "execution_count": null,
   "id": "453f5227",
   "metadata": {},
   "outputs": [],
   "source": []
  },
  {
   "cell_type": "code",
   "execution_count": null,
   "id": "c786c045",
   "metadata": {},
   "outputs": [],
   "source": []
  }
 ],
 "metadata": {
  "kernelspec": {
   "display_name": "Python 3",
   "language": "python",
   "name": "python3"
  },
  "language_info": {
   "codemirror_mode": {
    "name": "ipython",
    "version": 3
   },
   "file_extension": ".py",
   "mimetype": "text/x-python",
   "name": "python",
   "nbconvert_exporter": "python",
   "pygments_lexer": "ipython3",
   "version": "3.9.6"
  }
 },
 "nbformat": 4,
 "nbformat_minor": 5
}
